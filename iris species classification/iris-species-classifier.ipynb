{
 "cells": [
  {
   "cell_type": "markdown",
   "id": "geological-winner",
   "metadata": {
    "papermill": {
     "duration": 0.040871,
     "end_time": "2021-07-02T07:40:08.470487",
     "exception": false,
     "start_time": "2021-07-02T07:40:08.429616",
     "status": "completed"
    },
    "tags": []
   },
   "source": [
    "## Import"
   ]
  },
  {
   "cell_type": "code",
   "execution_count": 1,
   "id": "brief-blame",
   "metadata": {
    "_cell_guid": "b1076dfc-b9ad-4769-8c92-a6c4dae69d19",
    "_uuid": "8f2839f25d086af736a60e9eeb907d3b93b6e0e5",
    "execution": {
     "iopub.execute_input": "2021-07-02T07:40:08.553483Z",
     "iopub.status.busy": "2021-07-02T07:40:08.552847Z",
     "iopub.status.idle": "2021-07-02T07:40:08.566154Z",
     "shell.execute_reply": "2021-07-02T07:40:08.565353Z",
     "shell.execute_reply.started": "2021-07-02T07:05:18.268746Z"
    },
    "papermill": {
     "duration": 0.057207,
     "end_time": "2021-07-02T07:40:08.566330",
     "exception": false,
     "start_time": "2021-07-02T07:40:08.509123",
     "status": "completed"
    },
    "tags": []
   },
   "outputs": [
    {
     "name": "stdout",
     "output_type": "stream",
     "text": [
      "/kaggle/input/iris/Iris.csv\n",
      "/kaggle/input/iris/database.sqlite\n"
     ]
    }
   ],
   "source": [
    "# This Python 3 environment comes with many helpful analytics libraries installed\n",
    "# It is defined by the kaggle/python Docker image: https://github.com/kaggle/docker-python\n",
    "# For example, here's several helpful packages to load\n",
    "\n",
    "import numpy as np # linear algebra\n",
    "import pandas as pd # data processing, CSV file I/O (e.g. pd.read_csv)\n",
    "\n",
    "# Input data files are available in the read-only \"../input/\" directory\n",
    "# For example, running this (by clicking run or pressing Shift+Enter) will list all files under the input directory\n",
    "\n",
    "import os\n",
    "for dirname, _, filenames in os.walk('/kaggle/input'):\n",
    "    for filename in filenames:\n",
    "        print(os.path.join(dirname, filename))\n",
    "\n",
    "# You can write up to 20GB to the current directory (/kaggle/working/) that gets preserved as output when you create a version using \"Save & Run All\" \n",
    "# You can also write temporary files to /kaggle/temp/, but they won't be saved outside of the current session"
   ]
  },
  {
   "cell_type": "code",
   "execution_count": 2,
   "id": "fleet-directory",
   "metadata": {
    "execution": {
     "iopub.execute_input": "2021-07-02T07:40:08.651464Z",
     "iopub.status.busy": "2021-07-02T07:40:08.650715Z",
     "iopub.status.idle": "2021-07-02T07:40:10.327858Z",
     "shell.execute_reply": "2021-07-02T07:40:10.327132Z",
     "shell.execute_reply.started": "2021-07-02T07:05:18.284612Z"
    },
    "papermill": {
     "duration": 1.721468,
     "end_time": "2021-07-02T07:40:10.328008",
     "exception": false,
     "start_time": "2021-07-02T07:40:08.606540",
     "status": "completed"
    },
    "tags": []
   },
   "outputs": [],
   "source": [
    "import matplotlib.pyplot as plt\n",
    "import seaborn as sns\n",
    "from sklearn.preprocessing import StandardScaler\n",
    "from sklearn.model_selection import train_test_split,GridSearchCV,KFold,cross_val_score\n",
    "from sklearn.metrics import classification_report,confusion_matrix\n",
    "from sklearn.neighbors import KNeighborsClassifier\n",
    "from xgboost import XGBClassifier\n",
    "from warnings import filterwarnings\n",
    "filterwarnings('ignore')"
   ]
  },
  {
   "cell_type": "code",
   "execution_count": 3,
   "id": "prescription-spectacular",
   "metadata": {
    "execution": {
     "iopub.execute_input": "2021-07-02T07:40:10.415379Z",
     "iopub.status.busy": "2021-07-02T07:40:10.414730Z",
     "iopub.status.idle": "2021-07-02T07:40:10.458656Z",
     "shell.execute_reply": "2021-07-02T07:40:10.458013Z",
     "shell.execute_reply.started": "2021-07-02T07:05:18.298968Z"
    },
    "papermill": {
     "duration": 0.087838,
     "end_time": "2021-07-02T07:40:10.458794",
     "exception": false,
     "start_time": "2021-07-02T07:40:10.370956",
     "status": "completed"
    },
    "tags": []
   },
   "outputs": [
    {
     "data": {
      "text/html": [
       "<div>\n",
       "<style scoped>\n",
       "    .dataframe tbody tr th:only-of-type {\n",
       "        vertical-align: middle;\n",
       "    }\n",
       "\n",
       "    .dataframe tbody tr th {\n",
       "        vertical-align: top;\n",
       "    }\n",
       "\n",
       "    .dataframe thead th {\n",
       "        text-align: right;\n",
       "    }\n",
       "</style>\n",
       "<table border=\"1\" class=\"dataframe\">\n",
       "  <thead>\n",
       "    <tr style=\"text-align: right;\">\n",
       "      <th></th>\n",
       "      <th>Id</th>\n",
       "      <th>SepalLengthCm</th>\n",
       "      <th>SepalWidthCm</th>\n",
       "      <th>PetalLengthCm</th>\n",
       "      <th>PetalWidthCm</th>\n",
       "      <th>Species</th>\n",
       "    </tr>\n",
       "  </thead>\n",
       "  <tbody>\n",
       "    <tr>\n",
       "      <th>0</th>\n",
       "      <td>1</td>\n",
       "      <td>5.1</td>\n",
       "      <td>3.5</td>\n",
       "      <td>1.4</td>\n",
       "      <td>0.2</td>\n",
       "      <td>Iris-setosa</td>\n",
       "    </tr>\n",
       "    <tr>\n",
       "      <th>1</th>\n",
       "      <td>2</td>\n",
       "      <td>4.9</td>\n",
       "      <td>3.0</td>\n",
       "      <td>1.4</td>\n",
       "      <td>0.2</td>\n",
       "      <td>Iris-setosa</td>\n",
       "    </tr>\n",
       "    <tr>\n",
       "      <th>2</th>\n",
       "      <td>3</td>\n",
       "      <td>4.7</td>\n",
       "      <td>3.2</td>\n",
       "      <td>1.3</td>\n",
       "      <td>0.2</td>\n",
       "      <td>Iris-setosa</td>\n",
       "    </tr>\n",
       "    <tr>\n",
       "      <th>3</th>\n",
       "      <td>4</td>\n",
       "      <td>4.6</td>\n",
       "      <td>3.1</td>\n",
       "      <td>1.5</td>\n",
       "      <td>0.2</td>\n",
       "      <td>Iris-setosa</td>\n",
       "    </tr>\n",
       "    <tr>\n",
       "      <th>4</th>\n",
       "      <td>5</td>\n",
       "      <td>5.0</td>\n",
       "      <td>3.6</td>\n",
       "      <td>1.4</td>\n",
       "      <td>0.2</td>\n",
       "      <td>Iris-setosa</td>\n",
       "    </tr>\n",
       "  </tbody>\n",
       "</table>\n",
       "</div>"
      ],
      "text/plain": [
       "   Id  SepalLengthCm  SepalWidthCm  PetalLengthCm  PetalWidthCm      Species\n",
       "0   1            5.1           3.5            1.4           0.2  Iris-setosa\n",
       "1   2            4.9           3.0            1.4           0.2  Iris-setosa\n",
       "2   3            4.7           3.2            1.3           0.2  Iris-setosa\n",
       "3   4            4.6           3.1            1.5           0.2  Iris-setosa\n",
       "4   5            5.0           3.6            1.4           0.2  Iris-setosa"
      ]
     },
     "execution_count": 3,
     "metadata": {},
     "output_type": "execute_result"
    }
   ],
   "source": [
    "df=pd.read_csv('/kaggle/input/iris/Iris.csv')\n",
    "df.head()"
   ]
  },
  {
   "cell_type": "code",
   "execution_count": 4,
   "id": "pleasant-toronto",
   "metadata": {
    "execution": {
     "iopub.execute_input": "2021-07-02T07:40:10.543083Z",
     "iopub.status.busy": "2021-07-02T07:40:10.542156Z",
     "iopub.status.idle": "2021-07-02T07:40:10.546948Z",
     "shell.execute_reply": "2021-07-02T07:40:10.546407Z",
     "shell.execute_reply.started": "2021-07-02T07:05:18.335771Z"
    },
    "papermill": {
     "duration": 0.048603,
     "end_time": "2021-07-02T07:40:10.547094",
     "exception": false,
     "start_time": "2021-07-02T07:40:10.498491",
     "status": "completed"
    },
    "tags": []
   },
   "outputs": [
    {
     "data": {
      "text/plain": [
       "(150, 6)"
      ]
     },
     "execution_count": 4,
     "metadata": {},
     "output_type": "execute_result"
    }
   ],
   "source": [
    "#inspecting number of rows and columns\n",
    "df.shape"
   ]
  },
  {
   "cell_type": "markdown",
   "id": "frank-salem",
   "metadata": {
    "papermill": {
     "duration": 0.039864,
     "end_time": "2021-07-02T07:40:10.635575",
     "exception": false,
     "start_time": "2021-07-02T07:40:10.595711",
     "status": "completed"
    },
    "tags": []
   },
   "source": [
    "## EDA"
   ]
  },
  {
   "cell_type": "code",
   "execution_count": 5,
   "id": "hydraulic-devon",
   "metadata": {
    "execution": {
     "iopub.execute_input": "2021-07-02T07:40:10.726294Z",
     "iopub.status.busy": "2021-07-02T07:40:10.725443Z",
     "iopub.status.idle": "2021-07-02T07:40:10.729919Z",
     "shell.execute_reply": "2021-07-02T07:40:10.729284Z",
     "shell.execute_reply.started": "2021-07-02T07:05:18.347593Z"
    },
    "papermill": {
     "duration": 0.051601,
     "end_time": "2021-07-02T07:40:10.730058",
     "exception": false,
     "start_time": "2021-07-02T07:40:10.678457",
     "status": "completed"
    },
    "tags": []
   },
   "outputs": [
    {
     "data": {
      "text/plain": [
       "Id               0\n",
       "SepalLengthCm    0\n",
       "SepalWidthCm     0\n",
       "PetalLengthCm    0\n",
       "PetalWidthCm     0\n",
       "Species          0\n",
       "dtype: int64"
      ]
     },
     "execution_count": 5,
     "metadata": {},
     "output_type": "execute_result"
    }
   ],
   "source": [
    "#checking for null values\n",
    "df.isna().sum()"
   ]
  },
  {
   "cell_type": "markdown",
   "id": "retired-drive",
   "metadata": {
    "papermill": {
     "duration": 0.039636,
     "end_time": "2021-07-02T07:40:10.810299",
     "exception": false,
     "start_time": "2021-07-02T07:40:10.770663",
     "status": "completed"
    },
    "tags": []
   },
   "source": [
    "**Outlier Treatment**"
   ]
  },
  {
   "cell_type": "code",
   "execution_count": 6,
   "id": "velvet-finder",
   "metadata": {
    "execution": {
     "iopub.execute_input": "2021-07-02T07:40:10.901748Z",
     "iopub.status.busy": "2021-07-02T07:40:10.900732Z",
     "iopub.status.idle": "2021-07-02T07:40:11.170606Z",
     "shell.execute_reply": "2021-07-02T07:40:11.171139Z",
     "shell.execute_reply.started": "2021-07-02T07:05:18.360231Z"
    },
    "papermill": {
     "duration": 0.320973,
     "end_time": "2021-07-02T07:40:11.171311",
     "exception": false,
     "start_time": "2021-07-02T07:40:10.850338",
     "status": "completed"
    },
    "tags": []
   },
   "outputs": [
    {
     "data": {
      "image/png": "[encoded data removed]",
      "text/plain": [
       "<Figure size 936x576 with 1 Axes>"
      ]
     },
     "metadata": {
      "needs_background": "light"
     },
     "output_type": "display_data"
    }
   ],
   "source": [
    "df.drop('Id',axis=1).boxplot(figsize=(13,8))\n",
    "plt.title('Visualizing Outliers',fontdict={'fontsize':20})\n",
    "plt.show()"
   ]
  },
  {
   "cell_type": "markdown",
   "id": "coupled-comparison",
   "metadata": {
    "execution": {
     "iopub.execute_input": "2021-07-02T05:23:48.175919Z",
     "iopub.status.busy": "2021-07-02T05:23:48.175593Z",
     "iopub.status.idle": "2021-07-02T05:23:48.18165Z",
     "shell.execute_reply": "2021-07-02T05:23:48.180574Z",
     "shell.execute_reply.started": "2021-07-02T05:23:48.175887Z"
    },
    "papermill": {
     "duration": 0.0408,
     "end_time": "2021-07-02T07:40:11.253418",
     "exception": false,
     "start_time": "2021-07-02T07:40:11.212618",
     "status": "completed"
    },
    "tags": []
   },
   "source": [
    "The column 'SepalWidthCm' has some outliers,hence they should be removed."
   ]
  },
  {
   "cell_type": "code",
   "execution_count": 7,
   "id": "prime-extraction",
   "metadata": {
    "execution": {
     "iopub.execute_input": "2021-07-02T07:40:11.343888Z",
     "iopub.status.busy": "2021-07-02T07:40:11.343200Z",
     "iopub.status.idle": "2021-07-02T07:40:11.370147Z",
     "shell.execute_reply": "2021-07-02T07:40:11.369592Z",
     "shell.execute_reply.started": "2021-07-02T07:05:18.586443Z"
    },
    "papermill": {
     "duration": 0.074601,
     "end_time": "2021-07-02T07:40:11.370301",
     "exception": false,
     "start_time": "2021-07-02T07:40:11.295700",
     "status": "completed"
    },
    "tags": []
   },
   "outputs": [],
   "source": [
    "q1=df['SepalWidthCm'].quantile(0.25)\n",
    "q3=df['SepalWidthCm'].quantile(0.75)\n",
    "iqr=q3-q1\n",
    "ul=q3+1.5*iqr\n",
    "ll=q1-1.5*iqr\n",
    "df1=df[~((df['SepalWidthCm']<ll) | (df['SepalWidthCm']>ul))]"
   ]
  },
  {
   "cell_type": "code",
   "execution_count": 8,
   "id": "immune-perspective",
   "metadata": {
    "execution": {
     "iopub.execute_input": "2021-07-02T07:40:11.456472Z",
     "iopub.status.busy": "2021-07-02T07:40:11.455850Z",
     "iopub.status.idle": "2021-07-02T07:40:11.460406Z",
     "shell.execute_reply": "2021-07-02T07:40:11.459879Z",
     "shell.execute_reply.started": "2021-07-02T07:05:18.598442Z"
    },
    "papermill": {
     "duration": 0.049756,
     "end_time": "2021-07-02T07:40:11.460578",
     "exception": false,
     "start_time": "2021-07-02T07:40:11.410822",
     "status": "completed"
    },
    "tags": []
   },
   "outputs": [
    {
     "data": {
      "text/plain": [
       "(146, 6)"
      ]
     },
     "execution_count": 8,
     "metadata": {},
     "output_type": "execute_result"
    }
   ],
   "source": [
    "df1.shape"
   ]
  },
  {
   "cell_type": "code",
   "execution_count": 9,
   "id": "artificial-railway",
   "metadata": {
    "execution": {
     "iopub.execute_input": "2021-07-02T07:40:11.551487Z",
     "iopub.status.busy": "2021-07-02T07:40:11.550472Z",
     "iopub.status.idle": "2021-07-02T07:40:11.554428Z",
     "shell.execute_reply": "2021-07-02T07:40:11.554966Z",
     "shell.execute_reply.started": "2021-07-02T07:05:18.614571Z"
    },
    "papermill": {
     "duration": 0.052889,
     "end_time": "2021-07-02T07:40:11.555148",
     "exception": false,
     "start_time": "2021-07-02T07:40:11.502259",
     "status": "completed"
    },
    "tags": []
   },
   "outputs": [
    {
     "data": {
      "text/plain": [
       "Id              -0.044923\n",
       "SepalLengthCm    0.278417\n",
       "SepalWidthCm     0.140812\n",
       "PetalLengthCm   -0.323649\n",
       "PetalWidthCm    -0.148777\n",
       "dtype: float64"
      ]
     },
     "execution_count": 9,
     "metadata": {},
     "output_type": "execute_result"
    }
   ],
   "source": [
    "df1.skew()"
   ]
  },
  {
   "cell_type": "code",
   "execution_count": 10,
   "id": "widespread-lucas",
   "metadata": {
    "execution": {
     "iopub.execute_input": "2021-07-02T07:40:11.642049Z",
     "iopub.status.busy": "2021-07-02T07:40:11.641133Z",
     "iopub.status.idle": "2021-07-02T07:40:11.646133Z",
     "shell.execute_reply": "2021-07-02T07:40:11.646615Z",
     "shell.execute_reply.started": "2021-07-02T07:05:18.627857Z"
    },
    "papermill": {
     "duration": 0.050073,
     "end_time": "2021-07-02T07:40:11.646802",
     "exception": false,
     "start_time": "2021-07-02T07:40:11.596729",
     "status": "completed"
    },
    "tags": []
   },
   "outputs": [],
   "source": [
    "df1=df1.drop('Id',axis=1)"
   ]
  },
  {
   "cell_type": "markdown",
   "id": "coated-chocolate",
   "metadata": {
    "papermill": {
     "duration": 0.041027,
     "end_time": "2021-07-02T07:40:11.728931",
     "exception": false,
     "start_time": "2021-07-02T07:40:11.687904",
     "status": "completed"
    },
    "tags": []
   },
   "source": [
    " Most of the columns are near normal distribution,hence no transformation required here."
   ]
  },
  {
   "cell_type": "code",
   "execution_count": 11,
   "id": "operating-spray",
   "metadata": {
    "execution": {
     "iopub.execute_input": "2021-07-02T07:40:11.817440Z",
     "iopub.status.busy": "2021-07-02T07:40:11.816472Z",
     "iopub.status.idle": "2021-07-02T07:40:11.936461Z",
     "shell.execute_reply": "2021-07-02T07:40:11.935925Z",
     "shell.execute_reply.started": "2021-07-02T07:05:18.638095Z"
    },
    "papermill": {
     "duration": 0.165737,
     "end_time": "2021-07-02T07:40:11.936638",
     "exception": false,
     "start_time": "2021-07-02T07:40:11.770901",
     "status": "completed"
    },
    "tags": []
   },
   "outputs": [
    {
     "data": {
      "image/png": "[encoded data removed]",
      "text/plain": [
       "<Figure size 432x288 with 1 Axes>"
      ]
     },
     "metadata": {
      "needs_background": "light"
     },
     "output_type": "display_data"
    }
   ],
   "source": [
    "sns.countplot(df1['Species'])\n",
    "plt.show()"
   ]
  },
  {
   "cell_type": "code",
   "execution_count": 12,
   "id": "worse-career",
   "metadata": {
    "execution": {
     "iopub.execute_input": "2021-07-02T07:40:12.047832Z",
     "iopub.status.busy": "2021-07-02T07:40:12.043911Z",
     "iopub.status.idle": "2021-07-02T07:40:16.455773Z",
     "shell.execute_reply": "2021-07-02T07:40:16.456298Z",
     "shell.execute_reply.started": "2021-07-02T07:05:18.759273Z"
    },
    "papermill": {
     "duration": 4.476656,
     "end_time": "2021-07-02T07:40:16.456476",
     "exception": false,
     "start_time": "2021-07-02T07:40:11.979820",
     "status": "completed"
    },
    "tags": []
   },
   "outputs": [
    {
     "data": {
      "text/plain": [
       "<seaborn.axisgrid.PairGrid at 0x7fd75da75590>"
      ]
     },
     "execution_count": 12,
     "metadata": {},
     "output_type": "execute_result"
    },
    {
     "data": {
      "image/png": "[encoded data removed]",
      "text/plain": [
       "<Figure size 823.25x720 with 20 Axes>"
      ]
     },
     "metadata": {
      "needs_background": "light"
     },
     "output_type": "display_data"
    }
   ],
   "source": [
    "sns.pairplot(df1,hue='Species')"
   ]
  },
  {
   "cell_type": "markdown",
   "id": "guilty-friendship",
   "metadata": {
    "papermill": {
     "duration": 0.047319,
     "end_time": "2021-07-02T07:40:16.552104",
     "exception": false,
     "start_time": "2021-07-02T07:40:16.504785",
     "status": "completed"
    },
    "tags": []
   },
   "source": [
    "Looking at the pairplot,\n",
    "* *For all the features we can easily classify 'Iris-Setosa'*\n",
    "* *However the other two species on the other hand,overlaps with each other which might make classification dificult especially for 'SepalWidth' and 'SepalLength'.*\n"
   ]
  },
  {
   "cell_type": "markdown",
   "id": "complicated-motion",
   "metadata": {
    "papermill": {
     "duration": 0.048636,
     "end_time": "2021-07-02T07:40:16.648194",
     "exception": false,
     "start_time": "2021-07-02T07:40:16.599558",
     "status": "completed"
    },
    "tags": []
   },
   "source": [
    "## Feature Scaling"
   ]
  },
  {
   "cell_type": "code",
   "execution_count": 13,
   "id": "initial-substance",
   "metadata": {
    "execution": {
     "iopub.execute_input": "2021-07-02T07:40:16.750235Z",
     "iopub.status.busy": "2021-07-02T07:40:16.749552Z",
     "iopub.status.idle": "2021-07-02T07:40:16.751735Z",
     "shell.execute_reply": "2021-07-02T07:40:16.752164Z",
     "shell.execute_reply.started": "2021-07-02T07:05:23.096084Z"
    },
    "papermill": {
     "duration": 0.055471,
     "end_time": "2021-07-02T07:40:16.752329",
     "exception": false,
     "start_time": "2021-07-02T07:40:16.696858",
     "status": "completed"
    },
    "tags": []
   },
   "outputs": [],
   "source": [
    "x=df1.drop('Species',axis=1)\n",
    "y=df1['Species']"
   ]
  },
  {
   "cell_type": "code",
   "execution_count": 14,
   "id": "official-departure",
   "metadata": {
    "execution": {
     "iopub.execute_input": "2021-07-02T07:40:16.850396Z",
     "iopub.status.busy": "2021-07-02T07:40:16.849786Z",
     "iopub.status.idle": "2021-07-02T07:40:16.857864Z",
     "shell.execute_reply": "2021-07-02T07:40:16.858319Z",
     "shell.execute_reply.started": "2021-07-02T07:05:23.104499Z"
    },
    "papermill": {
     "duration": 0.058708,
     "end_time": "2021-07-02T07:40:16.858494",
     "exception": false,
     "start_time": "2021-07-02T07:40:16.799786",
     "status": "completed"
    },
    "tags": []
   },
   "outputs": [],
   "source": [
    "ss=StandardScaler()\n",
    "x_scaled=pd.DataFrame(ss.fit_transform(x),columns=x.columns)"
   ]
  },
  {
   "cell_type": "code",
   "execution_count": 15,
   "id": "mexican-cricket",
   "metadata": {
    "execution": {
     "iopub.execute_input": "2021-07-02T07:40:16.957362Z",
     "iopub.status.busy": "2021-07-02T07:40:16.956733Z",
     "iopub.status.idle": "2021-07-02T07:40:16.967068Z",
     "shell.execute_reply": "2021-07-02T07:40:16.967604Z",
     "shell.execute_reply.started": "2021-07-02T07:05:23.118754Z"
    },
    "papermill": {
     "duration": 0.061622,
     "end_time": "2021-07-02T07:40:16.967778",
     "exception": false,
     "start_time": "2021-07-02T07:40:16.906156",
     "status": "completed"
    },
    "tags": []
   },
   "outputs": [
    {
     "data": {
      "text/html": [
       "<div>\n",
       "<style scoped>\n",
       "    .dataframe tbody tr th:only-of-type {\n",
       "        vertical-align: middle;\n",
       "    }\n",
       "\n",
       "    .dataframe tbody tr th {\n",
       "        vertical-align: top;\n",
       "    }\n",
       "\n",
       "    .dataframe thead th {\n",
       "        text-align: right;\n",
       "    }\n",
       "</style>\n",
       "<table border=\"1\" class=\"dataframe\">\n",
       "  <thead>\n",
       "    <tr style=\"text-align: right;\">\n",
       "      <th></th>\n",
       "      <th>SepalLengthCm</th>\n",
       "      <th>SepalWidthCm</th>\n",
       "      <th>PetalLengthCm</th>\n",
       "      <th>PetalWidthCm</th>\n",
       "    </tr>\n",
       "  </thead>\n",
       "  <tbody>\n",
       "    <tr>\n",
       "      <th>0</th>\n",
       "      <td>-0.910515</td>\n",
       "      <td>1.175789</td>\n",
       "      <td>-1.374878</td>\n",
       "      <td>-1.345899</td>\n",
       "    </tr>\n",
       "    <tr>\n",
       "      <th>1</th>\n",
       "      <td>-1.151122</td>\n",
       "      <td>-0.093924</td>\n",
       "      <td>-1.374878</td>\n",
       "      <td>-1.345899</td>\n",
       "    </tr>\n",
       "  </tbody>\n",
       "</table>\n",
       "</div>"
      ],
      "text/plain": [
       "   SepalLengthCm  SepalWidthCm  PetalLengthCm  PetalWidthCm\n",
       "0      -0.910515      1.175789      -1.374878     -1.345899\n",
       "1      -1.151122     -0.093924      -1.374878     -1.345899"
      ]
     },
     "execution_count": 15,
     "metadata": {},
     "output_type": "execute_result"
    }
   ],
   "source": [
    "x_scaled.head(2)"
   ]
  },
  {
   "cell_type": "markdown",
   "id": "executive-might",
   "metadata": {
    "papermill": {
     "duration": 0.048949,
     "end_time": "2021-07-02T07:40:17.065223",
     "exception": false,
     "start_time": "2021-07-02T07:40:17.016274",
     "status": "completed"
    },
    "tags": []
   },
   "source": [
    "## Model Building"
   ]
  },
  {
   "cell_type": "code",
   "execution_count": 16,
   "id": "covered-ambassador",
   "metadata": {
    "execution": {
     "iopub.execute_input": "2021-07-02T07:40:17.171689Z",
     "iopub.status.busy": "2021-07-02T07:40:17.170969Z",
     "iopub.status.idle": "2021-07-02T07:40:17.173005Z",
     "shell.execute_reply": "2021-07-02T07:40:17.173496Z",
     "shell.execute_reply.started": "2021-07-02T07:05:23.140226Z"
    },
    "papermill": {
     "duration": 0.05836,
     "end_time": "2021-07-02T07:40:17.173691",
     "exception": false,
     "start_time": "2021-07-02T07:40:17.115331",
     "status": "completed"
    },
    "tags": []
   },
   "outputs": [],
   "source": [
    "X_train,X_test,y_train,y_test=train_test_split(x_scaled,y,test_size=0.3,shuffle=True,random_state=2)"
   ]
  },
  {
   "cell_type": "code",
   "execution_count": 17,
   "id": "inappropriate-literacy",
   "metadata": {
    "execution": {
     "iopub.execute_input": "2021-07-02T07:40:17.274196Z",
     "iopub.status.busy": "2021-07-02T07:40:17.273528Z",
     "iopub.status.idle": "2021-07-02T07:40:17.276994Z",
     "shell.execute_reply": "2021-07-02T07:40:17.277532Z",
     "shell.execute_reply.started": "2021-07-02T07:05:23.150419Z"
    },
    "papermill": {
     "duration": 0.054902,
     "end_time": "2021-07-02T07:40:17.277701",
     "exception": false,
     "start_time": "2021-07-02T07:40:17.222799",
     "status": "completed"
    },
    "tags": []
   },
   "outputs": [],
   "source": [
    "kn4=KNeighborsClassifier(n_neighbors=4)#initializing knn model with '4' neigbors"
   ]
  },
  {
   "cell_type": "code",
   "execution_count": 18,
   "id": "assured-authority",
   "metadata": {
    "execution": {
     "iopub.execute_input": "2021-07-02T07:40:17.377253Z",
     "iopub.status.busy": "2021-07-02T07:40:17.376641Z",
     "iopub.status.idle": "2021-07-02T07:40:17.383958Z",
     "shell.execute_reply": "2021-07-02T07:40:17.383424Z",
     "shell.execute_reply.started": "2021-07-02T07:05:23.161733Z"
    },
    "papermill": {
     "duration": 0.05832,
     "end_time": "2021-07-02T07:40:17.384229",
     "exception": false,
     "start_time": "2021-07-02T07:40:17.325909",
     "status": "completed"
    },
    "tags": []
   },
   "outputs": [],
   "source": [
    "kn4_model=kn4.fit(X_train,y_train)#fitting the model"
   ]
  },
  {
   "cell_type": "code",
   "execution_count": 19,
   "id": "upset-photography",
   "metadata": {
    "execution": {
     "iopub.execute_input": "2021-07-02T07:40:17.487912Z",
     "iopub.status.busy": "2021-07-02T07:40:17.486938Z",
     "iopub.status.idle": "2021-07-02T07:40:17.495946Z",
     "shell.execute_reply": "2021-07-02T07:40:17.496547Z",
     "shell.execute_reply.started": "2021-07-02T07:05:23.174867Z"
    },
    "papermill": {
     "duration": 0.064406,
     "end_time": "2021-07-02T07:40:17.496715",
     "exception": false,
     "start_time": "2021-07-02T07:40:17.432309",
     "status": "completed"
    },
    "tags": []
   },
   "outputs": [
    {
     "name": "stdout",
     "output_type": "stream",
     "text": [
      "Training Score: 0.9313725490196079\n"
     ]
    }
   ],
   "source": [
    "print('Training Score:',kn4_model.score(X_train,y_train))"
   ]
  },
  {
   "cell_type": "code",
   "execution_count": 20,
   "id": "electoral-cornell",
   "metadata": {
    "execution": {
     "iopub.execute_input": "2021-07-02T07:40:17.596480Z",
     "iopub.status.busy": "2021-07-02T07:40:17.595841Z",
     "iopub.status.idle": "2021-07-02T07:40:17.606708Z",
     "shell.execute_reply": "2021-07-02T07:40:17.606058Z",
     "shell.execute_reply.started": "2021-07-02T07:05:23.195222Z"
    },
    "papermill": {
     "duration": 0.061901,
     "end_time": "2021-07-02T07:40:17.606850",
     "exception": false,
     "start_time": "2021-07-02T07:40:17.544949",
     "status": "completed"
    },
    "tags": []
   },
   "outputs": [
    {
     "name": "stdout",
     "output_type": "stream",
     "text": [
      "Testing Score: 0.9318181818181818\n"
     ]
    }
   ],
   "source": [
    "print('Testing Score:',kn4_model.score(X_test,y_test))"
   ]
  },
  {
   "cell_type": "markdown",
   "id": "tracked-polls",
   "metadata": {
    "papermill": {
     "duration": 0.049335,
     "end_time": "2021-07-02T07:40:17.705133",
     "exception": false,
     "start_time": "2021-07-02T07:40:17.655798",
     "status": "completed"
    },
    "tags": []
   },
   "source": [
    "**Thus the knn model with '4' neighbors is 93.2% sucessful in classifying the species of a plant.**"
   ]
  },
  {
   "cell_type": "code",
   "execution_count": 21,
   "id": "advised-arena",
   "metadata": {
    "execution": {
     "iopub.execute_input": "2021-07-02T07:40:17.805104Z",
     "iopub.status.busy": "2021-07-02T07:40:17.804424Z",
     "iopub.status.idle": "2021-07-02T07:40:17.813971Z",
     "shell.execute_reply": "2021-07-02T07:40:17.813300Z",
     "shell.execute_reply.started": "2021-07-02T07:05:23.208708Z"
    },
    "papermill": {
     "duration": 0.060646,
     "end_time": "2021-07-02T07:40:17.814111",
     "exception": false,
     "start_time": "2021-07-02T07:40:17.753465",
     "status": "completed"
    },
    "tags": []
   },
   "outputs": [],
   "source": [
    "#predicting test_data\n",
    "test_pred=kn4_model.predict(X_test)"
   ]
  },
  {
   "cell_type": "code",
   "execution_count": 22,
   "id": "recreational-shareware",
   "metadata": {
    "execution": {
     "iopub.execute_input": "2021-07-02T07:40:17.920750Z",
     "iopub.status.busy": "2021-07-02T07:40:17.918467Z",
     "iopub.status.idle": "2021-07-02T07:40:17.925887Z",
     "shell.execute_reply": "2021-07-02T07:40:17.926389Z",
     "shell.execute_reply.started": "2021-07-02T07:05:23.218920Z"
    },
    "papermill": {
     "duration": 0.063807,
     "end_time": "2021-07-02T07:40:17.926576",
     "exception": false,
     "start_time": "2021-07-02T07:40:17.862769",
     "status": "completed"
    },
    "tags": []
   },
   "outputs": [
    {
     "name": "stdout",
     "output_type": "stream",
     "text": [
      "                 precision    recall  f1-score   support\n",
      "\n",
      "    Iris-setosa       1.00      1.00      1.00        15\n",
      "Iris-versicolor       0.82      1.00      0.90        14\n",
      " Iris-virginica       1.00      0.80      0.89        15\n",
      "\n",
      "       accuracy                           0.93        44\n",
      "      macro avg       0.94      0.93      0.93        44\n",
      "   weighted avg       0.94      0.93      0.93        44\n",
      "\n"
     ]
    }
   ],
   "source": [
    "print(classification_report(y_test,test_pred))"
   ]
  },
  {
   "cell_type": "markdown",
   "id": "consistent-wound",
   "metadata": {
    "papermill": {
     "duration": 0.049056,
     "end_time": "2021-07-02T07:40:18.025339",
     "exception": false,
     "start_time": "2021-07-02T07:40:17.976283",
     "status": "completed"
    },
    "tags": []
   },
   "source": [
    "* The f1-score for the  species 'Iris-versicolor'  and 'Iris-virginica' are less than 'Iris-setosa' , hence the model is finding it **slightly difficult** to make classification between the two species.\n",
    "* The precision for 'Iris-setosa' is 1 indicating the model perfectly predicts this particular species. "
   ]
  },
  {
   "cell_type": "code",
   "execution_count": 23,
   "id": "elementary-spanking",
   "metadata": {
    "execution": {
     "iopub.execute_input": "2021-07-02T07:40:18.132858Z",
     "iopub.status.busy": "2021-07-02T07:40:18.132180Z",
     "iopub.status.idle": "2021-07-02T07:40:18.340076Z",
     "shell.execute_reply": "2021-07-02T07:40:18.339475Z",
     "shell.execute_reply.started": "2021-07-02T07:05:23.237859Z"
    },
    "papermill": {
     "duration": 0.265079,
     "end_time": "2021-07-02T07:40:18.340216",
     "exception": false,
     "start_time": "2021-07-02T07:40:18.075137",
     "status": "completed"
    },
    "tags": []
   },
   "outputs": [
    {
     "data": {
      "text/plain": [
       "<AxesSubplot:>"
      ]
     },
     "execution_count": 23,
     "metadata": {},
     "output_type": "execute_result"
    },
    {
     "data": {
      "image/png": "[encoded data removed]",
      "text/plain": [
       "<Figure size 432x288 with 2 Axes>"
      ]
     },
     "metadata": {
      "needs_background": "light"
     },
     "output_type": "display_data"
    }
   ],
   "source": [
    "cfm=confusion_matrix(y_test,test_pred)\n",
    "sns.heatmap(cfm,annot=True,cmap='viridis')"
   ]
  },
  {
   "cell_type": "markdown",
   "id": "concrete-pocket",
   "metadata": {
    "papermill": {
     "duration": 0.049499,
     "end_time": "2021-07-02T07:40:18.439497",
     "exception": false,
     "start_time": "2021-07-02T07:40:18.389998",
     "status": "completed"
    },
    "tags": []
   },
   "source": [
    "**From the above heatmap, it is clear that the model misclassified  three 'Iris-virginica' species as 'Iris-versicolor'**"
   ]
  },
  {
   "cell_type": "markdown",
   "id": "figured-tucson",
   "metadata": {
    "papermill": {
     "duration": 0.049465,
     "end_time": "2021-07-02T07:40:18.539061",
     "exception": false,
     "start_time": "2021-07-02T07:40:18.489596",
     "status": "completed"
    },
    "tags": []
   },
   "source": [
    "## Grid Search CV"
   ]
  },
  {
   "cell_type": "markdown",
   "id": "otherwise-mustang",
   "metadata": {
    "papermill": {
     "duration": 0.049565,
     "end_time": "2021-07-02T07:40:18.638689",
     "exception": false,
     "start_time": "2021-07-02T07:40:18.589124",
     "status": "completed"
    },
    "tags": []
   },
   "source": [
    "*Using GridSearchCV to find the best 'n_neighbors' for knn model*"
   ]
  },
  {
   "cell_type": "code",
   "execution_count": 24,
   "id": "attended-mixer",
   "metadata": {
    "execution": {
     "iopub.execute_input": "2021-07-02T07:40:18.745422Z",
     "iopub.status.busy": "2021-07-02T07:40:18.744397Z",
     "iopub.status.idle": "2021-07-02T07:40:18.749862Z",
     "shell.execute_reply": "2021-07-02T07:40:18.749336Z",
     "shell.execute_reply.started": "2021-07-02T07:05:23.481467Z"
    },
    "papermill": {
     "duration": 0.06079,
     "end_time": "2021-07-02T07:40:18.750007",
     "exception": false,
     "start_time": "2021-07-02T07:40:18.689217",
     "status": "completed"
    },
    "tags": []
   },
   "outputs": [],
   "source": [
    "param={'n_neighbors':np.arange(2,7)}#assigning n_neighbors from 2 to 6"
   ]
  },
  {
   "cell_type": "code",
   "execution_count": 25,
   "id": "diverse-reception",
   "metadata": {
    "execution": {
     "iopub.execute_input": "2021-07-02T07:40:18.854840Z",
     "iopub.status.busy": "2021-07-02T07:40:18.854200Z",
     "iopub.status.idle": "2021-07-02T07:40:18.856403Z",
     "shell.execute_reply": "2021-07-02T07:40:18.856941Z",
     "shell.execute_reply.started": "2021-07-02T07:05:23.489231Z"
    },
    "papermill": {
     "duration": 0.057074,
     "end_time": "2021-07-02T07:40:18.857108",
     "exception": false,
     "start_time": "2021-07-02T07:40:18.800034",
     "status": "completed"
    },
    "tags": []
   },
   "outputs": [],
   "source": [
    "knn=KNeighborsClassifier()"
   ]
  },
  {
   "cell_type": "code",
   "execution_count": 26,
   "id": "civic-medline",
   "metadata": {
    "execution": {
     "iopub.execute_input": "2021-07-02T07:40:18.959619Z",
     "iopub.status.busy": "2021-07-02T07:40:18.958995Z",
     "iopub.status.idle": "2021-07-02T07:40:18.963115Z",
     "shell.execute_reply": "2021-07-02T07:40:18.962646Z",
     "shell.execute_reply.started": "2021-07-02T07:05:23.499229Z"
    },
    "papermill": {
     "duration": 0.056301,
     "end_time": "2021-07-02T07:40:18.963247",
     "exception": false,
     "start_time": "2021-07-02T07:40:18.906946",
     "status": "completed"
    },
    "tags": []
   },
   "outputs": [],
   "source": [
    "knngrid=GridSearchCV(knn,param_grid=param,scoring='f1_weighted',cv=5)"
   ]
  },
  {
   "cell_type": "code",
   "execution_count": 27,
   "id": "aging-juvenile",
   "metadata": {
    "execution": {
     "iopub.execute_input": "2021-07-02T07:40:19.066545Z",
     "iopub.status.busy": "2021-07-02T07:40:19.065871Z",
     "iopub.status.idle": "2021-07-02T07:40:19.262115Z",
     "shell.execute_reply": "2021-07-02T07:40:19.262613Z",
     "shell.execute_reply.started": "2021-07-02T07:05:23.509010Z"
    },
    "papermill": {
     "duration": 0.249786,
     "end_time": "2021-07-02T07:40:19.262797",
     "exception": false,
     "start_time": "2021-07-02T07:40:19.013011",
     "status": "completed"
    },
    "tags": []
   },
   "outputs": [],
   "source": [
    "kgrid_model=knngrid.fit(X_train,y_train)"
   ]
  },
  {
   "cell_type": "code",
   "execution_count": 28,
   "id": "parliamentary-worth",
   "metadata": {
    "execution": {
     "iopub.execute_input": "2021-07-02T07:40:19.366628Z",
     "iopub.status.busy": "2021-07-02T07:40:19.365965Z",
     "iopub.status.idle": "2021-07-02T07:40:19.371853Z",
     "shell.execute_reply": "2021-07-02T07:40:19.371307Z",
     "shell.execute_reply.started": "2021-07-02T07:05:23.683863Z"
    },
    "papermill": {
     "duration": 0.059308,
     "end_time": "2021-07-02T07:40:19.371998",
     "exception": false,
     "start_time": "2021-07-02T07:40:19.312690",
     "status": "completed"
    },
    "tags": []
   },
   "outputs": [
    {
     "data": {
      "text/plain": [
       "{'n_neighbors': 4}"
      ]
     },
     "execution_count": 28,
     "metadata": {},
     "output_type": "execute_result"
    }
   ],
   "source": [
    "kgrid_model.best_params_"
   ]
  },
  {
   "cell_type": "markdown",
   "id": "lightweight-finding",
   "metadata": {
    "papermill": {
     "duration": 0.050485,
     "end_time": "2021-07-02T07:40:19.472729",
     "exception": false,
     "start_time": "2021-07-02T07:40:19.422244",
     "status": "completed"
    },
    "tags": []
   },
   "source": [
    "*The best 'n_neighbors' acquired from GridSearchCV is 4,which is the one the model was built with.*"
   ]
  },
  {
   "cell_type": "code",
   "execution_count": 29,
   "id": "urban-concept",
   "metadata": {
    "execution": {
     "iopub.execute_input": "2021-07-02T07:40:19.578283Z",
     "iopub.status.busy": "2021-07-02T07:40:19.577625Z",
     "iopub.status.idle": "2021-07-02T07:40:19.580656Z",
     "shell.execute_reply": "2021-07-02T07:40:19.581210Z",
     "shell.execute_reply.started": "2021-07-02T07:05:23.690819Z"
    },
    "papermill": {
     "duration": 0.058308,
     "end_time": "2021-07-02T07:40:19.581384",
     "exception": false,
     "start_time": "2021-07-02T07:40:19.523076",
     "status": "completed"
    },
    "tags": []
   },
   "outputs": [
    {
     "data": {
      "text/plain": [
       "0.9111746031746032"
      ]
     },
     "execution_count": 29,
     "metadata": {},
     "output_type": "execute_result"
    }
   ],
   "source": [
    "kgrid_model.best_score_"
   ]
  },
  {
   "cell_type": "markdown",
   "id": "little-namibia",
   "metadata": {
    "papermill": {
     "duration": 0.05071,
     "end_time": "2021-07-02T07:40:19.683067",
     "exception": false,
     "start_time": "2021-07-02T07:40:19.632357",
     "status": "completed"
    },
    "tags": []
   },
   "source": [
    "## XGBoost Classifier"
   ]
  },
  {
   "cell_type": "markdown",
   "id": "mineral-clearing",
   "metadata": {
    "papermill": {
     "duration": 0.051165,
     "end_time": "2021-07-02T07:40:19.787003",
     "exception": false,
     "start_time": "2021-07-02T07:40:19.735838",
     "status": "completed"
    },
    "tags": []
   },
   "source": [
    "**To improve further accuracy lets try with 'XGB Classifier'**"
   ]
  },
  {
   "cell_type": "code",
   "execution_count": 30,
   "id": "virgin-techno",
   "metadata": {
    "execution": {
     "iopub.execute_input": "2021-07-02T07:40:19.891484Z",
     "iopub.status.busy": "2021-07-02T07:40:19.890877Z",
     "iopub.status.idle": "2021-07-02T07:40:19.894555Z",
     "shell.execute_reply": "2021-07-02T07:40:19.895060Z",
     "shell.execute_reply.started": "2021-07-02T07:05:23.703523Z"
    },
    "papermill": {
     "duration": 0.057468,
     "end_time": "2021-07-02T07:40:19.895237",
     "exception": false,
     "start_time": "2021-07-02T07:40:19.837769",
     "status": "completed"
    },
    "tags": []
   },
   "outputs": [],
   "source": [
    "xgb=XGBClassifier()"
   ]
  },
  {
   "cell_type": "code",
   "execution_count": 31,
   "id": "indonesian-fossil",
   "metadata": {
    "execution": {
     "iopub.execute_input": "2021-07-02T07:40:19.999680Z",
     "iopub.status.busy": "2021-07-02T07:40:19.999017Z",
     "iopub.status.idle": "2021-07-02T07:40:20.080259Z",
     "shell.execute_reply": "2021-07-02T07:40:20.079530Z",
     "shell.execute_reply.started": "2021-07-02T07:05:23.710210Z"
    },
    "papermill": {
     "duration": 0.134479,
     "end_time": "2021-07-02T07:40:20.080405",
     "exception": false,
     "start_time": "2021-07-02T07:40:19.945926",
     "status": "completed"
    },
    "tags": []
   },
   "outputs": [
    {
     "name": "stdout",
     "output_type": "stream",
     "text": [
      "[07:40:20] WARNING: ../src/learner.cc:1061: Starting in XGBoost 1.3.0, the default evaluation metric used with the objective 'multi:softprob' was changed from 'merror' to 'mlogloss'. Explicitly set eval_metric if you'd like to restore the old behavior.\n"
     ]
    }
   ],
   "source": [
    "xgb_model=xgb.fit(X_train,y_train)"
   ]
  },
  {
   "cell_type": "code",
   "execution_count": 32,
   "id": "simplified-productivity",
   "metadata": {
    "execution": {
     "iopub.execute_input": "2021-07-02T07:40:20.189328Z",
     "iopub.status.busy": "2021-07-02T07:40:20.188569Z",
     "iopub.status.idle": "2021-07-02T07:40:20.196745Z",
     "shell.execute_reply": "2021-07-02T07:40:20.197259Z",
     "shell.execute_reply.started": "2021-07-02T07:05:23.774228Z"
    },
    "papermill": {
     "duration": 0.065292,
     "end_time": "2021-07-02T07:40:20.197457",
     "exception": false,
     "start_time": "2021-07-02T07:40:20.132165",
     "status": "completed"
    },
    "tags": []
   },
   "outputs": [
    {
     "name": "stdout",
     "output_type": "stream",
     "text": [
      "Training Score: 1.0\n"
     ]
    }
   ],
   "source": [
    "print('Training Score:',xgb_model.score(X_train,y_train))"
   ]
  },
  {
   "cell_type": "code",
   "execution_count": 33,
   "id": "scheduled-flush",
   "metadata": {
    "execution": {
     "iopub.execute_input": "2021-07-02T07:40:20.311888Z",
     "iopub.status.busy": "2021-07-02T07:40:20.311179Z",
     "iopub.status.idle": "2021-07-02T07:40:20.319042Z",
     "shell.execute_reply": "2021-07-02T07:40:20.320708Z",
     "shell.execute_reply.started": "2021-07-02T07:05:23.790208Z"
    },
    "papermill": {
     "duration": 0.069773,
     "end_time": "2021-07-02T07:40:20.320954",
     "exception": false,
     "start_time": "2021-07-02T07:40:20.251181",
     "status": "completed"
    },
    "tags": []
   },
   "outputs": [
    {
     "name": "stdout",
     "output_type": "stream",
     "text": [
      "Testing Score: 1.0\n"
     ]
    }
   ],
   "source": [
    "print('Testing Score:',xgb_model.score(X_test,y_test))"
   ]
  },
  {
   "cell_type": "code",
   "execution_count": 34,
   "id": "superb-election",
   "metadata": {
    "execution": {
     "iopub.execute_input": "2021-07-02T07:40:20.437943Z",
     "iopub.status.busy": "2021-07-02T07:40:20.437074Z",
     "iopub.status.idle": "2021-07-02T07:40:20.439124Z",
     "shell.execute_reply": "2021-07-02T07:40:20.438569Z",
     "shell.execute_reply.started": "2021-07-02T07:05:23.802800Z"
    },
    "papermill": {
     "duration": 0.062991,
     "end_time": "2021-07-02T07:40:20.439272",
     "exception": false,
     "start_time": "2021-07-02T07:40:20.376281",
     "status": "completed"
    },
    "tags": []
   },
   "outputs": [],
   "source": [
    "xgb_pred=xgb_model.predict(X_test)"
   ]
  },
  {
   "cell_type": "code",
   "execution_count": 35,
   "id": "transparent-person",
   "metadata": {
    "execution": {
     "iopub.execute_input": "2021-07-02T07:40:20.553580Z",
     "iopub.status.busy": "2021-07-02T07:40:20.552540Z",
     "iopub.status.idle": "2021-07-02T07:40:20.561196Z",
     "shell.execute_reply": "2021-07-02T07:40:20.560137Z",
     "shell.execute_reply.started": "2021-07-02T07:05:23.812470Z"
    },
    "papermill": {
     "duration": 0.06865,
     "end_time": "2021-07-02T07:40:20.561431",
     "exception": false,
     "start_time": "2021-07-02T07:40:20.492781",
     "status": "completed"
    },
    "tags": []
   },
   "outputs": [
    {
     "name": "stdout",
     "output_type": "stream",
     "text": [
      "                 precision    recall  f1-score   support\n",
      "\n",
      "    Iris-setosa       1.00      1.00      1.00        15\n",
      "Iris-versicolor       1.00      1.00      1.00        14\n",
      " Iris-virginica       1.00      1.00      1.00        15\n",
      "\n",
      "       accuracy                           1.00        44\n",
      "      macro avg       1.00      1.00      1.00        44\n",
      "   weighted avg       1.00      1.00      1.00        44\n",
      "\n"
     ]
    }
   ],
   "source": [
    "print(classification_report(y_test,xgb_pred))"
   ]
  },
  {
   "cell_type": "markdown",
   "id": "virgin-behalf",
   "metadata": {
    "papermill": {
     "duration": 0.051924,
     "end_time": "2021-07-02T07:40:20.666556",
     "exception": false,
     "start_time": "2021-07-02T07:40:20.614632",
     "status": "completed"
    },
    "tags": []
   },
   "source": [
    "*f1-weighted score is 1 which means that our model has achieved 100% accuracy in predicting the species type.*"
   ]
  },
  {
   "cell_type": "code",
   "execution_count": 36,
   "id": "quick-evanescence",
   "metadata": {
    "execution": {
     "iopub.execute_input": "2021-07-02T07:40:20.797018Z",
     "iopub.status.busy": "2021-07-02T07:40:20.795275Z",
     "iopub.status.idle": "2021-07-02T07:40:20.984341Z",
     "shell.execute_reply": "2021-07-02T07:40:20.984843Z",
     "shell.execute_reply.started": "2021-07-02T07:05:23.828699Z"
    },
    "papermill": {
     "duration": 0.265795,
     "end_time": "2021-07-02T07:40:20.985025",
     "exception": false,
     "start_time": "2021-07-02T07:40:20.719230",
     "status": "completed"
    },
    "tags": []
   },
   "outputs": [
    {
     "data": {
      "image/png": "[encoded data removed]",
      "text/plain": [
       "<Figure size 432x288 with 2 Axes>"
      ]
     },
     "metadata": {
      "needs_background": "light"
     },
     "output_type": "display_data"
    }
   ],
   "source": [
    "xgb_cf=confusion_matrix(y_test,xgb_pred)\n",
    "sns.heatmap(xgb_cf,annot=True,cmap='viridis')\n",
    "plt.show()"
   ]
  },
  {
   "cell_type": "markdown",
   "id": "monthly-graphic",
   "metadata": {
    "papermill": {
     "duration": 0.053938,
     "end_time": "2021-07-02T07:40:21.091398",
     "exception": false,
     "start_time": "2021-07-02T07:40:21.037460",
     "status": "completed"
    },
    "tags": []
   },
   "source": [
    "**The heatmap show that all the species from the test data have been classified with 100% accuracy**"
   ]
  },
  {
   "cell_type": "code",
   "execution_count": 37,
   "id": "superb-liverpool",
   "metadata": {
    "execution": {
     "iopub.execute_input": "2021-07-02T07:40:21.203925Z",
     "iopub.status.busy": "2021-07-02T07:40:21.203255Z",
     "iopub.status.idle": "2021-07-02T07:40:21.503500Z",
     "shell.execute_reply": "2021-07-02T07:40:21.502414Z",
     "shell.execute_reply.started": "2021-07-02T07:05:24.068067Z"
    },
    "papermill": {
     "duration": 0.359766,
     "end_time": "2021-07-02T07:40:21.503746",
     "exception": false,
     "start_time": "2021-07-02T07:40:21.143980",
     "status": "completed"
    },
    "tags": []
   },
   "outputs": [
    {
     "name": "stdout",
     "output_type": "stream",
     "text": [
      "[07:40:21] WARNING: ../src/learner.cc:1061: Starting in XGBoost 1.3.0, the default evaluation metric used with the objective 'multi:softprob' was changed from 'merror' to 'mlogloss'. Explicitly set eval_metric if you'd like to restore the old behavior.\n",
      "[07:40:21] WARNING: ../src/learner.cc:1061: Starting in XGBoost 1.3.0, the default evaluation metric used with the objective 'multi:softprob' was changed from 'merror' to 'mlogloss'. Explicitly set eval_metric if you'd like to restore the old behavior.\n",
      "[07:40:21] WARNING: ../src/learner.cc:1061: Starting in XGBoost 1.3.0, the default evaluation metric used with the objective 'multi:softprob' was changed from 'merror' to 'mlogloss'. Explicitly set eval_metric if you'd like to restore the old behavior.\n",
      "[07:40:21] WARNING: ../src/learner.cc:1061: Starting in XGBoost 1.3.0, the default evaluation metric used with the objective 'multi:softprob' was changed from 'merror' to 'mlogloss'. Explicitly set eval_metric if you'd like to restore the old behavior.\n",
      "[07:40:21] WARNING: ../src/learner.cc:1061: Starting in XGBoost 1.3.0, the default evaluation metric used with the objective 'multi:softprob' was changed from 'merror' to 'mlogloss'. Explicitly set eval_metric if you'd like to restore the old behavior.\n",
      "Bias error: 0.0694375382345307\n",
      "Variance error: 0.026844085896525004\n"
     ]
    }
   ],
   "source": [
    "k = KFold(n_splits=5,shuffle=True,random_state=48)\n",
    "scores = cross_val_score(xgb,X_train,y_train,cv=k,scoring='f1_weighted')\n",
    "print('Bias error:',1-np.mean(scores))\n",
    "print('Variance error:', np.std(scores)/np.mean(scores))\n"
   ]
  },
  {
   "cell_type": "markdown",
   "id": "biblical-plumbing",
   "metadata": {
    "papermill": {
     "duration": 0.081222,
     "end_time": "2021-07-02T07:40:21.640224",
     "exception": false,
     "start_time": "2021-07-02T07:40:21.559002",
     "status": "completed"
    },
    "tags": []
   },
   "source": [
    "**The bias and variance error is also very much low, meaning that there is no underfitting or overfitting problem with the model**"
   ]
  },
  {
   "cell_type": "code",
   "execution_count": null,
   "id": "international-registration",
   "metadata": {
    "papermill": {
     "duration": 0.052486,
     "end_time": "2021-07-02T07:40:21.745710",
     "exception": false,
     "start_time": "2021-07-02T07:40:21.693224",
     "status": "completed"
    },
    "tags": []
   },
   "outputs": [],
   "source": []
  }
 ],
 "metadata": {
  "kernelspec": {
   "display_name": "Python 3",
   "language": "python",
   "name": "python3"
  },
  "language_info": {
   "codemirror_mode": {
    "name": "ipython",
    "version": 3
   },
   "file_extension": ".py",
   "mimetype": "text/x-python",
   "name": "python",
   "nbconvert_exporter": "python",
   "pygments_lexer": "ipython3",
   "version": "3.8.8"
  },
  "papermill": {
   "default_parameters": {},
   "duration": 20.316872,
   "end_time": "2021-07-02T07:40:22.510016",
   "environment_variables": {},
   "exception": null,
   "input_path": "__notebook__.ipynb",
   "output_path": "__notebook__.ipynb",
   "parameters": {},
   "start_time": "2021-07-02T07:40:02.193144",
   "version": "2.3.2"
  }
 },
 "nbformat": 4,
 "nbformat_minor": 5
}
