{
 "cells": [
  {
   "cell_type": "markdown",
   "id": "ordered-woman",
   "metadata": {
    "papermill": {
     "duration": 0.033999,
     "end_time": "2021-06-29T15:42:45.671509",
     "exception": false,
     "start_time": "2021-06-29T15:42:45.637510",
     "status": "completed"
    },
    "tags": []
   },
   "source": [
    "This is a dataset consisting of several features of stars.\n",
    "\n",
    "Some of them are:\n",
    "\n",
    "    Absolute Temperature (in K)\n",
    "    Relative Luminosity (L/Lo)\n",
    "    Relative Radius (R/Ro)\n",
    "    Absolute Magnitude (Mv)\n",
    "    Star Color (white,Red,Blue,Yellow,yellow-orange etc)\n",
    "    Spectral Class (O,B,A,F,G,K,,M)\n",
    "    Star Type **(Red Dwarf, Brown Dwarf, White Dwarf, Main Sequence , SuperGiants, HyperGiants)**\n",
    "\n",
    "Lo = 3.828 x 10^26 Watts (Avg Luminosity of Sun)\n",
    "Ro = 6.9551 x 10^8 m (Avg Radius of Sun)"
   ]
  },
  {
   "cell_type": "markdown",
   "id": "wooden-manual",
   "metadata": {
    "papermill": {
     "duration": 0.036986,
     "end_time": "2021-06-29T15:42:45.742677",
     "exception": false,
     "start_time": "2021-06-29T15:42:45.705691",
     "status": "completed"
    },
    "tags": []
   },
   "source": [
    "1. Brown Dwarf -> Star Type = 0\n",
    "2. Red Dwarf -> Star Type = 1\n",
    "3. White Dwarf-> Star Type = 2\n",
    "4. Main Sequence -> Star Type = 3\n",
    "5. Supergiant -> Star Type = 4\n",
    "6. Hypergiant -> Star Type = 5\n"
   ]
  },
  {
   "cell_type": "code",
   "execution_count": 1,
   "id": "elder-problem",
   "metadata": {
    "execution": {
     "iopub.execute_input": "2021-06-29T15:42:45.827198Z",
     "iopub.status.busy": "2021-06-29T15:42:45.826395Z",
     "iopub.status.idle": "2021-06-29T15:42:47.068356Z",
     "shell.execute_reply": "2021-06-29T15:42:47.068893Z",
     "shell.execute_reply.started": "2021-06-29T15:39:07.587033Z"
    },
    "papermill": {
     "duration": 1.288333,
     "end_time": "2021-06-29T15:42:47.069125",
     "exception": false,
     "start_time": "2021-06-29T15:42:45.780792",
     "status": "completed"
    },
    "tags": []
   },
   "outputs": [],
   "source": [
    "#importing libraries\n",
    "import numpy as np \n",
    "import pandas as pd\n",
    "import seaborn as sns\n",
    "import matplotlib.pyplot as plt\n",
    "from sklearn.neighbors import KNeighborsClassifier\n",
    "from sklearn.model_selection import train_test_split,GridSearchCV\n",
    "from sklearn.metrics import classification_report\n",
    "from sklearn.preprocessing import StandardScaler\n",
    "from sklearn.model_selection import KFold\n",
    "from sklearn.model_selection import cross_val_score\n",
    "from warnings import filterwarnings\n",
    "filterwarnings('ignore')"
   ]
  },
  {
   "cell_type": "code",
   "execution_count": 2,
   "id": "a0fc2c13",
   "metadata": {},
   "outputs": [
    {
     "data": {
      "text/html": [
       "<div>\n",
       "<style scoped>\n",
       "    .dataframe tbody tr th:only-of-type {\n",
       "        vertical-align: middle;\n",
       "    }\n",
       "\n",
       "    .dataframe tbody tr th {\n",
       "        vertical-align: top;\n",
       "    }\n",
       "\n",
       "    .dataframe thead th {\n",
       "        text-align: right;\n",
       "    }\n",
       "</style>\n",
       "<table border=\"1\" class=\"dataframe\">\n",
       "  <thead>\n",
       "    <tr style=\"text-align: right;\">\n",
       "      <th></th>\n",
       "      <th>Temperature (K)</th>\n",
       "      <th>Luminosity(L/Lo)</th>\n",
       "      <th>Radius(R/Ro)</th>\n",
       "      <th>Absolute magnitude(Mv)</th>\n",
       "      <th>Star type</th>\n",
       "      <th>Star color</th>\n",
       "      <th>Spectral Class</th>\n",
       "    </tr>\n",
       "  </thead>\n",
       "  <tbody>\n",
       "    <tr>\n",
       "      <th>0</th>\n",
       "      <td>3068</td>\n",
       "      <td>0.002400</td>\n",
       "      <td>0.1700</td>\n",
       "      <td>16.12</td>\n",
       "      <td>0</td>\n",
       "      <td>Red</td>\n",
       "      <td>M</td>\n",
       "    </tr>\n",
       "    <tr>\n",
       "      <th>1</th>\n",
       "      <td>3042</td>\n",
       "      <td>0.000500</td>\n",
       "      <td>0.1542</td>\n",
       "      <td>16.60</td>\n",
       "      <td>0</td>\n",
       "      <td>Red</td>\n",
       "      <td>M</td>\n",
       "    </tr>\n",
       "    <tr>\n",
       "      <th>2</th>\n",
       "      <td>2600</td>\n",
       "      <td>0.000300</td>\n",
       "      <td>0.1020</td>\n",
       "      <td>18.70</td>\n",
       "      <td>0</td>\n",
       "      <td>Red</td>\n",
       "      <td>M</td>\n",
       "    </tr>\n",
       "    <tr>\n",
       "      <th>3</th>\n",
       "      <td>2800</td>\n",
       "      <td>0.000200</td>\n",
       "      <td>0.1600</td>\n",
       "      <td>16.65</td>\n",
       "      <td>0</td>\n",
       "      <td>Red</td>\n",
       "      <td>M</td>\n",
       "    </tr>\n",
       "    <tr>\n",
       "      <th>4</th>\n",
       "      <td>1939</td>\n",
       "      <td>0.000138</td>\n",
       "      <td>0.1030</td>\n",
       "      <td>20.06</td>\n",
       "      <td>0</td>\n",
       "      <td>Red</td>\n",
       "      <td>M</td>\n",
       "    </tr>\n",
       "  </tbody>\n",
       "</table>\n",
       "</div>"
      ],
      "text/plain": [
       "   Temperature (K)  Luminosity(L/Lo)  Radius(R/Ro)  Absolute magnitude(Mv)  \\\n",
       "0             3068          0.002400        0.1700                   16.12   \n",
       "1             3042          0.000500        0.1542                   16.60   \n",
       "2             2600          0.000300        0.1020                   18.70   \n",
       "3             2800          0.000200        0.1600                   16.65   \n",
       "4             1939          0.000138        0.1030                   20.06   \n",
       "\n",
       "   Star type Star color Spectral Class  \n",
       "0          0        Red              M  \n",
       "1          0        Red              M  \n",
       "2          0        Red              M  \n",
       "3          0        Red              M  \n",
       "4          0        Red              M  "
      ]
     },
     "execution_count": 2,
     "metadata": {},
     "output_type": "execute_result"
    }
   ],
   "source": [
    "df=pd.read_csv('6 class csv.csv')\n",
    "df.head()"
   ]
  },
  {
   "cell_type": "code",
   "execution_count": 3,
   "id": "proved-karaoke",
   "metadata": {
    "execution": {
     "iopub.execute_input": "2021-06-29T15:42:47.256134Z",
     "iopub.status.busy": "2021-06-29T15:42:47.255451Z",
     "iopub.status.idle": "2021-06-29T15:42:47.260612Z",
     "shell.execute_reply": "2021-06-29T15:42:47.261155Z",
     "shell.execute_reply.started": "2021-06-29T15:39:07.688831Z"
    },
    "papermill": {
     "duration": 0.043318,
     "end_time": "2021-06-29T15:42:47.261342",
     "exception": false,
     "start_time": "2021-06-29T15:42:47.218024",
     "status": "completed"
    },
    "tags": []
   },
   "outputs": [
    {
     "data": {
      "text/plain": [
       "(240, 7)"
      ]
     },
     "execution_count": 3,
     "metadata": {},
     "output_type": "execute_result"
    }
   ],
   "source": [
    "df.shape #checking  shape of the data"
   ]
  },
  {
   "cell_type": "code",
   "execution_count": 4,
   "id": "hazardous-baltimore",
   "metadata": {
    "execution": {
     "iopub.execute_input": "2021-06-29T15:42:47.335315Z",
     "iopub.status.busy": "2021-06-29T15:42:47.334626Z",
     "iopub.status.idle": "2021-06-29T15:42:47.354138Z",
     "shell.execute_reply": "2021-06-29T15:42:47.353609Z",
     "shell.execute_reply.started": "2021-06-29T15:39:07.701661Z"
    },
    "papermill": {
     "duration": 0.057713,
     "end_time": "2021-06-29T15:42:47.354295",
     "exception": false,
     "start_time": "2021-06-29T15:42:47.296582",
     "status": "completed"
    },
    "tags": []
   },
   "outputs": [
    {
     "name": "stdout",
     "output_type": "stream",
     "text": [
      "<class 'pandas.core.frame.DataFrame'>\n",
      "RangeIndex: 240 entries, 0 to 239\n",
      "Data columns (total 7 columns):\n",
      " #   Column                  Non-Null Count  Dtype  \n",
      "---  ------                  --------------  -----  \n",
      " 0   Temperature (K)         240 non-null    int64  \n",
      " 1   Luminosity(L/Lo)        240 non-null    float64\n",
      " 2   Radius(R/Ro)            240 non-null    float64\n",
      " 3   Absolute magnitude(Mv)  240 non-null    float64\n",
      " 4   Star type               240 non-null    int64  \n",
      " 5   Star color              240 non-null    object \n",
      " 6   Spectral Class          240 non-null    object \n",
      "dtypes: float64(3), int64(2), object(2)\n",
      "memory usage: 13.2+ KB\n"
     ]
    }
   ],
   "source": [
    "df.info() #checking datatypes"
   ]
  },
  {
   "cell_type": "code",
   "execution_count": 5,
   "id": "lightweight-arlington",
   "metadata": {
    "execution": {
     "iopub.execute_input": "2021-06-29T15:42:47.432051Z",
     "iopub.status.busy": "2021-06-29T15:42:47.431310Z",
     "iopub.status.idle": "2021-06-29T15:42:47.450992Z",
     "shell.execute_reply": "2021-06-29T15:42:47.450360Z",
     "shell.execute_reply.started": "2021-06-29T15:39:07.786404Z"
    },
    "papermill": {
     "duration": 0.061613,
     "end_time": "2021-06-29T15:42:47.451135",
     "exception": false,
     "start_time": "2021-06-29T15:42:47.389522",
     "status": "completed"
    },
    "tags": []
   },
   "outputs": [
    {
     "data": {
      "text/plain": [
       "Temperature (K)           0.0\n",
       "Luminosity(L/Lo)          0.0\n",
       "Radius(R/Ro)              0.0\n",
       "Absolute magnitude(Mv)    0.0\n",
       "Star type                 0.0\n",
       "Star color                0.0\n",
       "Spectral Class            0.0\n",
       "dtype: float64"
      ]
     },
     "execution_count": 5,
     "metadata": {},
     "output_type": "execute_result"
    }
   ],
   "source": [
    "df.isna().sum()/len(df) #percentange of missing values in each column"
   ]
  },
  {
   "cell_type": "markdown",
   "id": "attached-intermediate",
   "metadata": {
    "papermill": {
     "duration": 0.03502,
     "end_time": "2021-06-29T15:42:47.521759",
     "exception": false,
     "start_time": "2021-06-29T15:42:47.486739",
     "status": "completed"
    },
    "tags": []
   },
   "source": [
    "Below diagram is the "
   ]
  },
  {
   "cell_type": "markdown",
   "id": "superb-shopper",
   "metadata": {
    "papermill": {
     "duration": 0.035213,
     "end_time": "2021-06-29T15:42:47.592613",
     "exception": false,
     "start_time": "2021-06-29T15:42:47.557400",
     "status": "completed"
    },
    "tags": []
   },
   "source": [
    "Below images, show that the stars follows a certain graph in the celestial Space ,\n",
    "called Hertzsprung-Russell Diagram or simply HR-Diagram"
   ]
  },
  {
   "cell_type": "markdown",
   "id": "compound-massage",
   "metadata": {
    "papermill": {
     "duration": 0.035002,
     "end_time": "2021-06-29T15:42:47.663006",
     "exception": false,
     "start_time": "2021-06-29T15:42:47.628004",
     "status": "completed"
    },
    "tags": []
   },
   "source": [
    "![](https://www.googleapis.com/download/storage/v1/b/kaggle-user-content/o/inbox%2F3791628%2Ffe9436bf4e2d23b5b18fb3db1f1fcbcb%2FHRDiagram.png?generation=1597348809674507&alt=media)\n",
    "![](https://www.googleapis.com/download/storage/v1/b/kaggle-user-content/o/inbox%2F3791628%2F9fc57334a9b9fafbc71aacdd6e5cd69c%2F310px-Hertzsprung-Russel_StarData.png?generation=1597349661801284&alt=media)\n",
    "![](https://www.googleapis.com/download/storage/v1/b/kaggle-user-content/o/inbox%2F3791628%2F14338bbebf77d18e1faef582bccdbdd6%2Fhr.jpg?generation=1597349509841965&alt=media)"
   ]
  },
  {
   "cell_type": "markdown",
   "id": "conditional-shopper",
   "metadata": {
    "papermill": {
     "duration": 0.036031,
     "end_time": "2021-06-29T15:42:47.734376",
     "exception": false,
     "start_time": "2021-06-29T15:42:47.698345",
     "status": "completed"
    },
    "tags": []
   },
   "source": [
    "Let's visualize HR-diagram with our data"
   ]
  },
  {
   "cell_type": "code",
   "execution_count": 6,
   "id": "present-friend",
   "metadata": {
    "execution": {
     "iopub.execute_input": "2021-06-29T15:42:47.851555Z",
     "iopub.status.busy": "2021-06-29T15:42:47.850776Z",
     "iopub.status.idle": "2021-06-29T15:42:48.634464Z",
     "shell.execute_reply": "2021-06-29T15:42:48.634962Z",
     "shell.execute_reply.started": "2021-06-29T15:39:07.797262Z"
    },
    "papermill": {
     "duration": 0.85761,
     "end_time": "2021-06-29T15:42:48.635144",
     "exception": false,
     "start_time": "2021-06-29T15:42:47.777534",
     "status": "completed"
    },
    "tags": []
   },
   "outputs": [
    {
     "data": {
      "image/png": "[encoded data removed]",
      "text/plain": [
       "<Figure size 936x648 with 2 Axes>"
      ]
     },
     "metadata": {
      "needs_background": "light"
     },
     "output_type": "display_data"
    }
   ],
   "source": [
    "fig,ax=plt.subplots(nrows=1,ncols=2,figsize=(13,9))\n",
    "sns.scatterplot(x='Temperature (K)',y='Absolute magnitude(Mv)',data=df,hue='Star type',ax=ax[0],palette='dark')\n",
    "sns.scatterplot(x='Temperature (K)',y='Absolute magnitude(Mv)',data=df,hue='Spectral Class',ax=ax[1],palette='dark')\n",
    "plt.tight_layout()\n",
    "plt.show()"
   ]
  },
  {
   "cell_type": "markdown",
   "id": "curious-device",
   "metadata": {
    "papermill": {
     "duration": 0.038261,
     "end_time": "2021-06-29T15:42:48.711929",
     "exception": false,
     "start_time": "2021-06-29T15:42:48.673668",
     "status": "completed"
    },
    "tags": []
   },
   "source": [
    "The above diagram resembles a graph similar to HR-diagram"
   ]
  },
  {
   "cell_type": "code",
   "execution_count": 7,
   "id": "respiratory-shelf",
   "metadata": {
    "execution": {
     "iopub.execute_input": "2021-06-29T15:42:48.844843Z",
     "iopub.status.busy": "2021-06-29T15:42:48.839070Z",
     "iopub.status.idle": "2021-06-29T15:42:49.531755Z",
     "shell.execute_reply": "2021-06-29T15:42:49.532265Z",
     "shell.execute_reply.started": "2021-06-29T15:39:08.638931Z"
    },
    "papermill": {
     "duration": 0.781921,
     "end_time": "2021-06-29T15:42:49.532438",
     "exception": false,
     "start_time": "2021-06-29T15:42:48.750517",
     "status": "completed"
    },
    "tags": []
   },
   "outputs": [
    {
     "data": {
      "image/png": "[encoded data removed]",
      "text/plain": [
       "<Figure size 936x648 with 2 Axes>"
      ]
     },
     "metadata": {
      "needs_background": "light"
     },
     "output_type": "display_data"
    }
   ],
   "source": [
    "fig,ax=plt.subplots(nrows=1,ncols=2,figsize=(13,9))\n",
    "sns.scatterplot(x='Temperature (K)',y='Luminosity(L/Lo)',data=df,hue='Star type',ax=ax[0],palette='bright')\n",
    "sns.scatterplot(x='Temperature (K)',y='Luminosity(L/Lo)',data=df,hue='Spectral Class',ax=ax[1],palette='bright')\n",
    "plt.tight_layout()\n",
    "plt.show()"
   ]
  },
  {
   "cell_type": "code",
   "execution_count": 8,
   "id": "desperate-washington",
   "metadata": {
    "execution": {
     "iopub.execute_input": "2021-06-29T15:42:49.615845Z",
     "iopub.status.busy": "2021-06-29T15:42:49.615202Z",
     "iopub.status.idle": "2021-06-29T15:42:49.622914Z",
     "shell.execute_reply": "2021-06-29T15:42:49.623526Z",
     "shell.execute_reply.started": "2021-06-29T15:39:09.459334Z"
    },
    "papermill": {
     "duration": 0.051162,
     "end_time": "2021-06-29T15:42:49.623706",
     "exception": false,
     "start_time": "2021-06-29T15:42:49.572544",
     "status": "completed"
    },
    "tags": []
   },
   "outputs": [],
   "source": [
    "#splitting dataframe into categorical and numeric features to perform preprocessing\n",
    "df_cat=df.select_dtypes(exclude=np.number)\n",
    "df_num=df.select_dtypes(include=np.number)"
   ]
  },
  {
   "cell_type": "code",
   "execution_count": 9,
   "id": "unsigned-celebrity",
   "metadata": {
    "execution": {
     "iopub.execute_input": "2021-06-29T15:42:49.707789Z",
     "iopub.status.busy": "2021-06-29T15:42:49.707145Z",
     "iopub.status.idle": "2021-06-29T15:42:49.715894Z",
     "shell.execute_reply": "2021-06-29T15:42:49.716473Z",
     "shell.execute_reply.started": "2021-06-29T15:39:09.471684Z"
    },
    "papermill": {
     "duration": 0.052641,
     "end_time": "2021-06-29T15:42:49.716652",
     "exception": false,
     "start_time": "2021-06-29T15:42:49.664011",
     "status": "completed"
    },
    "tags": []
   },
   "outputs": [
    {
     "data": {
      "text/html": [
       "<div>\n",
       "<style scoped>\n",
       "    .dataframe tbody tr th:only-of-type {\n",
       "        vertical-align: middle;\n",
       "    }\n",
       "\n",
       "    .dataframe tbody tr th {\n",
       "        vertical-align: top;\n",
       "    }\n",
       "\n",
       "    .dataframe thead th {\n",
       "        text-align: right;\n",
       "    }\n",
       "</style>\n",
       "<table border=\"1\" class=\"dataframe\">\n",
       "  <thead>\n",
       "    <tr style=\"text-align: right;\">\n",
       "      <th></th>\n",
       "      <th>Star color</th>\n",
       "      <th>Spectral Class</th>\n",
       "    </tr>\n",
       "  </thead>\n",
       "  <tbody>\n",
       "    <tr>\n",
       "      <th>0</th>\n",
       "      <td>Red</td>\n",
       "      <td>M</td>\n",
       "    </tr>\n",
       "    <tr>\n",
       "      <th>1</th>\n",
       "      <td>Red</td>\n",
       "      <td>M</td>\n",
       "    </tr>\n",
       "  </tbody>\n",
       "</table>\n",
       "</div>"
      ],
      "text/plain": [
       "  Star color Spectral Class\n",
       "0        Red              M\n",
       "1        Red              M"
      ]
     },
     "execution_count": 9,
     "metadata": {},
     "output_type": "execute_result"
    }
   ],
   "source": [
    "df_cat.head(2)"
   ]
  },
  {
   "cell_type": "code",
   "execution_count": 10,
   "id": "minute-australia",
   "metadata": {
    "execution": {
     "iopub.execute_input": "2021-06-29T15:42:49.810253Z",
     "iopub.status.busy": "2021-06-29T15:42:49.809592Z",
     "iopub.status.idle": "2021-06-29T15:42:49.812294Z",
     "shell.execute_reply": "2021-06-29T15:42:49.812770Z",
     "shell.execute_reply.started": "2021-06-29T15:39:09.486290Z"
    },
    "papermill": {
     "duration": 0.054773,
     "end_time": "2021-06-29T15:42:49.812956",
     "exception": false,
     "start_time": "2021-06-29T15:42:49.758183",
     "status": "completed"
    },
    "tags": []
   },
   "outputs": [
    {
     "data": {
      "text/html": [
       "<div>\n",
       "<style scoped>\n",
       "    .dataframe tbody tr th:only-of-type {\n",
       "        vertical-align: middle;\n",
       "    }\n",
       "\n",
       "    .dataframe tbody tr th {\n",
       "        vertical-align: top;\n",
       "    }\n",
       "\n",
       "    .dataframe thead th {\n",
       "        text-align: right;\n",
       "    }\n",
       "</style>\n",
       "<table border=\"1\" class=\"dataframe\">\n",
       "  <thead>\n",
       "    <tr style=\"text-align: right;\">\n",
       "      <th></th>\n",
       "      <th>Temperature (K)</th>\n",
       "      <th>Luminosity(L/Lo)</th>\n",
       "      <th>Radius(R/Ro)</th>\n",
       "      <th>Absolute magnitude(Mv)</th>\n",
       "      <th>Star type</th>\n",
       "    </tr>\n",
       "  </thead>\n",
       "  <tbody>\n",
       "    <tr>\n",
       "      <th>0</th>\n",
       "      <td>3068</td>\n",
       "      <td>0.0024</td>\n",
       "      <td>0.1700</td>\n",
       "      <td>16.12</td>\n",
       "      <td>0</td>\n",
       "    </tr>\n",
       "    <tr>\n",
       "      <th>1</th>\n",
       "      <td>3042</td>\n",
       "      <td>0.0005</td>\n",
       "      <td>0.1542</td>\n",
       "      <td>16.60</td>\n",
       "      <td>0</td>\n",
       "    </tr>\n",
       "  </tbody>\n",
       "</table>\n",
       "</div>"
      ],
      "text/plain": [
       "   Temperature (K)  Luminosity(L/Lo)  Radius(R/Ro)  Absolute magnitude(Mv)  \\\n",
       "0             3068            0.0024        0.1700                   16.12   \n",
       "1             3042            0.0005        0.1542                   16.60   \n",
       "\n",
       "   Star type  \n",
       "0          0  \n",
       "1          0  "
      ]
     },
     "execution_count": 10,
     "metadata": {},
     "output_type": "execute_result"
    }
   ],
   "source": [
    "df_num.head(2)"
   ]
  },
  {
   "cell_type": "code",
   "execution_count": 11,
   "id": "alternative-handle",
   "metadata": {
    "execution": {
     "iopub.execute_input": "2021-06-29T15:42:49.898864Z",
     "iopub.status.busy": "2021-06-29T15:42:49.898157Z",
     "iopub.status.idle": "2021-06-29T15:42:50.782359Z",
     "shell.execute_reply": "2021-06-29T15:42:50.781679Z",
     "shell.execute_reply.started": "2021-06-29T15:39:09.506727Z"
    },
    "papermill": {
     "duration": 0.928106,
     "end_time": "2021-06-29T15:42:50.782513",
     "exception": false,
     "start_time": "2021-06-29T15:42:49.854407",
     "status": "completed"
    },
    "tags": []
   },
   "outputs": [
    {
     "data": {
      "image/png": "[encoded data removed]",
      "text/plain": [
       "<Figure size 1152x720 with 5 Axes>"
      ]
     },
     "metadata": {
      "needs_background": "light"
     },
     "output_type": "display_data"
    }
   ],
   "source": [
    "#visualizing outliers\n",
    "fig,ax=plt.subplots(len(df_num.columns),figsize=(16,10))\n",
    "for i in range(len(df_num.columns)):\n",
    "    sns.boxplot(x=df_num.iloc[:,i],ax=ax[i],hue=df_num['Star type'])\n",
    "    plt.tight_layout()\n",
    "plt.show()"
   ]
  },
  {
   "cell_type": "markdown",
   "id": "equal-accent",
   "metadata": {
    "papermill": {
     "duration": 0.042784,
     "end_time": "2021-06-29T15:42:50.868468",
     "exception": false,
     "start_time": "2021-06-29T15:42:50.825684",
     "status": "completed"
    },
    "tags": []
   },
   "source": [
    "Since these outliers are natural variations,it is not necessary to remove them."
   ]
  },
  {
   "cell_type": "code",
   "execution_count": 12,
   "id": "forced-somalia",
   "metadata": {
    "execution": {
     "iopub.execute_input": "2021-06-29T15:42:50.960320Z",
     "iopub.status.busy": "2021-06-29T15:42:50.959459Z",
     "iopub.status.idle": "2021-06-29T15:42:50.963742Z",
     "shell.execute_reply": "2021-06-29T15:42:50.963218Z",
     "shell.execute_reply.started": "2021-06-29T15:39:10.528621Z"
    },
    "papermill": {
     "duration": 0.05341,
     "end_time": "2021-06-29T15:42:50.963918",
     "exception": false,
     "start_time": "2021-06-29T15:42:50.910508",
     "status": "completed"
    },
    "tags": []
   },
   "outputs": [
    {
     "data": {
      "text/plain": [
       "0    40\n",
       "1    40\n",
       "2    40\n",
       "3    40\n",
       "4    40\n",
       "5    40\n",
       "Name: Star type, dtype: int64"
      ]
     },
     "execution_count": 12,
     "metadata": {},
     "output_type": "execute_result"
    }
   ],
   "source": [
    "#ckeckin for class imbalance\n",
    "df['Star type'].value_counts()"
   ]
  },
  {
   "cell_type": "markdown",
   "id": "gross-syndrome",
   "metadata": {
    "papermill": {
     "duration": 0.041844,
     "end_time": "2021-06-29T15:42:51.048928",
     "exception": false,
     "start_time": "2021-06-29T15:42:51.007084",
     "status": "completed"
    },
    "tags": []
   },
   "source": [
    "we have an equally classified dataset"
   ]
  },
  {
   "cell_type": "code",
   "execution_count": 13,
   "id": "found-message",
   "metadata": {
    "execution": {
     "iopub.execute_input": "2021-06-29T15:42:51.145215Z",
     "iopub.status.busy": "2021-06-29T15:42:51.143178Z",
     "iopub.status.idle": "2021-06-29T15:42:51.164446Z",
     "shell.execute_reply": "2021-06-29T15:42:51.164964Z",
     "shell.execute_reply.started": "2021-06-29T15:39:10.538241Z"
    },
    "papermill": {
     "duration": 0.07269,
     "end_time": "2021-06-29T15:42:51.165143",
     "exception": false,
     "start_time": "2021-06-29T15:42:51.092453",
     "status": "completed"
    },
    "tags": []
   },
   "outputs": [
    {
     "data": {
      "text/html": [
       "<div>\n",
       "<style scoped>\n",
       "    .dataframe tbody tr th:only-of-type {\n",
       "        vertical-align: middle;\n",
       "    }\n",
       "\n",
       "    .dataframe tbody tr th {\n",
       "        vertical-align: top;\n",
       "    }\n",
       "\n",
       "    .dataframe thead th {\n",
       "        text-align: right;\n",
       "    }\n",
       "</style>\n",
       "<table border=\"1\" class=\"dataframe\">\n",
       "  <thead>\n",
       "    <tr style=\"text-align: right;\">\n",
       "      <th></th>\n",
       "      <th>Temperature (K)</th>\n",
       "      <th>Luminosity(L/Lo)</th>\n",
       "      <th>Radius(R/Ro)</th>\n",
       "      <th>Absolute magnitude(Mv)</th>\n",
       "      <th>Star type</th>\n",
       "    </tr>\n",
       "  </thead>\n",
       "  <tbody>\n",
       "    <tr>\n",
       "      <th>count</th>\n",
       "      <td>240.000000</td>\n",
       "      <td>240.000000</td>\n",
       "      <td>240.000000</td>\n",
       "      <td>240.000000</td>\n",
       "      <td>240.000000</td>\n",
       "    </tr>\n",
       "    <tr>\n",
       "      <th>mean</th>\n",
       "      <td>10497.462500</td>\n",
       "      <td>107188.361635</td>\n",
       "      <td>237.157781</td>\n",
       "      <td>4.382396</td>\n",
       "      <td>2.500000</td>\n",
       "    </tr>\n",
       "    <tr>\n",
       "      <th>std</th>\n",
       "      <td>9552.425037</td>\n",
       "      <td>179432.244940</td>\n",
       "      <td>517.155763</td>\n",
       "      <td>10.532512</td>\n",
       "      <td>1.711394</td>\n",
       "    </tr>\n",
       "    <tr>\n",
       "      <th>min</th>\n",
       "      <td>1939.000000</td>\n",
       "      <td>0.000080</td>\n",
       "      <td>0.008400</td>\n",
       "      <td>-11.920000</td>\n",
       "      <td>0.000000</td>\n",
       "    </tr>\n",
       "    <tr>\n",
       "      <th>25%</th>\n",
       "      <td>3344.250000</td>\n",
       "      <td>0.000865</td>\n",
       "      <td>0.102750</td>\n",
       "      <td>-6.232500</td>\n",
       "      <td>1.000000</td>\n",
       "    </tr>\n",
       "    <tr>\n",
       "      <th>50%</th>\n",
       "      <td>5776.000000</td>\n",
       "      <td>0.070500</td>\n",
       "      <td>0.762500</td>\n",
       "      <td>8.313000</td>\n",
       "      <td>2.500000</td>\n",
       "    </tr>\n",
       "    <tr>\n",
       "      <th>75%</th>\n",
       "      <td>15055.500000</td>\n",
       "      <td>198050.000000</td>\n",
       "      <td>42.750000</td>\n",
       "      <td>13.697500</td>\n",
       "      <td>4.000000</td>\n",
       "    </tr>\n",
       "    <tr>\n",
       "      <th>max</th>\n",
       "      <td>40000.000000</td>\n",
       "      <td>849420.000000</td>\n",
       "      <td>1948.500000</td>\n",
       "      <td>20.060000</td>\n",
       "      <td>5.000000</td>\n",
       "    </tr>\n",
       "  </tbody>\n",
       "</table>\n",
       "</div>"
      ],
      "text/plain": [
       "       Temperature (K)  Luminosity(L/Lo)  Radius(R/Ro)  \\\n",
       "count       240.000000        240.000000    240.000000   \n",
       "mean      10497.462500     107188.361635    237.157781   \n",
       "std        9552.425037     179432.244940    517.155763   \n",
       "min        1939.000000          0.000080      0.008400   \n",
       "25%        3344.250000          0.000865      0.102750   \n",
       "50%        5776.000000          0.070500      0.762500   \n",
       "75%       15055.500000     198050.000000     42.750000   \n",
       "max       40000.000000     849420.000000   1948.500000   \n",
       "\n",
       "       Absolute magnitude(Mv)   Star type  \n",
       "count              240.000000  240.000000  \n",
       "mean                 4.382396    2.500000  \n",
       "std                 10.532512    1.711394  \n",
       "min                -11.920000    0.000000  \n",
       "25%                 -6.232500    1.000000  \n",
       "50%                  8.313000    2.500000  \n",
       "75%                 13.697500    4.000000  \n",
       "max                 20.060000    5.000000  "
      ]
     },
     "execution_count": 13,
     "metadata": {},
     "output_type": "execute_result"
    }
   ],
   "source": [
    "#numeric features description\n",
    "df.describe()"
   ]
  },
  {
   "cell_type": "markdown",
   "id": "finite-singer",
   "metadata": {
    "papermill": {
     "duration": 0.042319,
     "end_time": "2021-06-29T15:42:51.250348",
     "exception": false,
     "start_time": "2021-06-29T15:42:51.208029",
     "status": "completed"
    },
    "tags": []
   },
   "source": [
    "From the above table, we can see that the values among features vary drastically,hence scaling is required."
   ]
  },
  {
   "cell_type": "code",
   "execution_count": 14,
   "id": "dressed-charles",
   "metadata": {
    "execution": {
     "iopub.execute_input": "2021-06-29T15:42:51.341547Z",
     "iopub.status.busy": "2021-06-29T15:42:51.340638Z",
     "iopub.status.idle": "2021-06-29T15:42:51.343582Z",
     "shell.execute_reply": "2021-06-29T15:42:51.342977Z",
     "shell.execute_reply.started": "2021-06-29T15:39:10.579942Z"
    },
    "papermill": {
     "duration": 0.050553,
     "end_time": "2021-06-29T15:42:51.343719",
     "exception": false,
     "start_time": "2021-06-29T15:42:51.293166",
     "status": "completed"
    },
    "tags": []
   },
   "outputs": [],
   "source": [
    "#initializing standardscaler for scaling\n",
    "ss=StandardScaler()"
   ]
  },
  {
   "cell_type": "code",
   "execution_count": 15,
   "id": "critical-interstate",
   "metadata": {
    "execution": {
     "iopub.execute_input": "2021-06-29T15:42:51.432470Z",
     "iopub.status.busy": "2021-06-29T15:42:51.431872Z",
     "iopub.status.idle": "2021-06-29T15:42:51.448266Z",
     "shell.execute_reply": "2021-06-29T15:42:51.448776Z",
     "shell.execute_reply.started": "2021-06-29T15:39:10.585694Z"
    },
    "papermill": {
     "duration": 0.062264,
     "end_time": "2021-06-29T15:42:51.448980",
     "exception": false,
     "start_time": "2021-06-29T15:42:51.386716",
     "status": "completed"
    },
    "tags": []
   },
   "outputs": [
    {
     "data": {
      "text/html": [
       "<div>\n",
       "<style scoped>\n",
       "    .dataframe tbody tr th:only-of-type {\n",
       "        vertical-align: middle;\n",
       "    }\n",
       "\n",
       "    .dataframe tbody tr th {\n",
       "        vertical-align: top;\n",
       "    }\n",
       "\n",
       "    .dataframe thead th {\n",
       "        text-align: right;\n",
       "    }\n",
       "</style>\n",
       "<table border=\"1\" class=\"dataframe\">\n",
       "  <thead>\n",
       "    <tr style=\"text-align: right;\">\n",
       "      <th></th>\n",
       "      <th>Temperature (K)</th>\n",
       "      <th>Luminosity(L/Lo)</th>\n",
       "      <th>Radius(R/Ro)</th>\n",
       "      <th>Absolute magnitude(Mv)</th>\n",
       "      <th>Star type</th>\n",
       "    </tr>\n",
       "  </thead>\n",
       "  <tbody>\n",
       "    <tr>\n",
       "      <th>0</th>\n",
       "      <td>-0.779382</td>\n",
       "      <td>-0.598624</td>\n",
       "      <td>-0.459210</td>\n",
       "      <td>1.116745</td>\n",
       "      <td>-1.46385</td>\n",
       "    </tr>\n",
       "    <tr>\n",
       "      <th>1</th>\n",
       "      <td>-0.782110</td>\n",
       "      <td>-0.598624</td>\n",
       "      <td>-0.459241</td>\n",
       "      <td>1.162414</td>\n",
       "      <td>-1.46385</td>\n",
       "    </tr>\n",
       "    <tr>\n",
       "      <th>2</th>\n",
       "      <td>-0.828477</td>\n",
       "      <td>-0.598624</td>\n",
       "      <td>-0.459342</td>\n",
       "      <td>1.362213</td>\n",
       "      <td>-1.46385</td>\n",
       "    </tr>\n",
       "    <tr>\n",
       "      <th>3</th>\n",
       "      <td>-0.807496</td>\n",
       "      <td>-0.598624</td>\n",
       "      <td>-0.459229</td>\n",
       "      <td>1.167171</td>\n",
       "      <td>-1.46385</td>\n",
       "    </tr>\n",
       "    <tr>\n",
       "      <th>4</th>\n",
       "      <td>-0.897819</td>\n",
       "      <td>-0.598624</td>\n",
       "      <td>-0.459340</td>\n",
       "      <td>1.491607</td>\n",
       "      <td>-1.46385</td>\n",
       "    </tr>\n",
       "  </tbody>\n",
       "</table>\n",
       "</div>"
      ],
      "text/plain": [
       "   Temperature (K)  Luminosity(L/Lo)  Radius(R/Ro)  Absolute magnitude(Mv)  \\\n",
       "0        -0.779382         -0.598624     -0.459210                1.116745   \n",
       "1        -0.782110         -0.598624     -0.459241                1.162414   \n",
       "2        -0.828477         -0.598624     -0.459342                1.362213   \n",
       "3        -0.807496         -0.598624     -0.459229                1.167171   \n",
       "4        -0.897819         -0.598624     -0.459340                1.491607   \n",
       "\n",
       "   Star type  \n",
       "0   -1.46385  \n",
       "1   -1.46385  \n",
       "2   -1.46385  \n",
       "3   -1.46385  \n",
       "4   -1.46385  "
      ]
     },
     "execution_count": 15,
     "metadata": {},
     "output_type": "execute_result"
    }
   ],
   "source": [
    "scaled_num=pd.DataFrame(ss.fit_transform(df_num),columns=df_num.columns)\n",
    "scaled_num.head()"
   ]
  },
  {
   "cell_type": "code",
   "execution_count": 16,
   "id": "regional-penetration",
   "metadata": {
    "execution": {
     "iopub.execute_input": "2021-06-29T15:42:51.538757Z",
     "iopub.status.busy": "2021-06-29T15:42:51.538165Z",
     "iopub.status.idle": "2021-06-29T15:42:51.669568Z",
     "shell.execute_reply": "2021-06-29T15:42:51.668934Z",
     "shell.execute_reply.started": "2021-06-29T15:39:10.611946Z"
    },
    "papermill": {
     "duration": 0.177348,
     "end_time": "2021-06-29T15:42:51.669704",
     "exception": false,
     "start_time": "2021-06-29T15:42:51.492356",
     "status": "completed"
    },
    "tags": []
   },
   "outputs": [
    {
     "data": {
      "text/html": [
       "<div>\n",
       "<style scoped>\n",
       "    .dataframe tbody tr th:only-of-type {\n",
       "        vertical-align: middle;\n",
       "    }\n",
       "\n",
       "    .dataframe tbody tr th {\n",
       "        vertical-align: top;\n",
       "    }\n",
       "\n",
       "    .dataframe thead th {\n",
       "        text-align: right;\n",
       "    }\n",
       "</style>\n",
       "<table border=\"1\" class=\"dataframe\">\n",
       "  <thead>\n",
       "    <tr style=\"text-align: right;\">\n",
       "      <th></th>\n",
       "      <th>Star color_Blue</th>\n",
       "      <th>Star color_Blue White</th>\n",
       "      <th>Star color_Blue white</th>\n",
       "      <th>Star color_Blue white</th>\n",
       "      <th>Star color_Blue-White</th>\n",
       "      <th>Star color_Blue-white</th>\n",
       "      <th>Star color_Orange</th>\n",
       "      <th>Star color_Orange-Red</th>\n",
       "      <th>Star color_Pale yellow orange</th>\n",
       "      <th>Star color_Red</th>\n",
       "      <th>...</th>\n",
       "      <th>Star color_Yellowish White</th>\n",
       "      <th>Star color_white</th>\n",
       "      <th>Star color_yellow-white</th>\n",
       "      <th>Star color_yellowish</th>\n",
       "      <th>Spectral Class_B</th>\n",
       "      <th>Spectral Class_F</th>\n",
       "      <th>Spectral Class_G</th>\n",
       "      <th>Spectral Class_K</th>\n",
       "      <th>Spectral Class_M</th>\n",
       "      <th>Spectral Class_O</th>\n",
       "    </tr>\n",
       "  </thead>\n",
       "  <tbody>\n",
       "    <tr>\n",
       "      <th>0</th>\n",
       "      <td>0</td>\n",
       "      <td>0</td>\n",
       "      <td>0</td>\n",
       "      <td>0</td>\n",
       "      <td>0</td>\n",
       "      <td>0</td>\n",
       "      <td>0</td>\n",
       "      <td>0</td>\n",
       "      <td>0</td>\n",
       "      <td>1</td>\n",
       "      <td>...</td>\n",
       "      <td>0</td>\n",
       "      <td>0</td>\n",
       "      <td>0</td>\n",
       "      <td>0</td>\n",
       "      <td>0</td>\n",
       "      <td>0</td>\n",
       "      <td>0</td>\n",
       "      <td>0</td>\n",
       "      <td>1</td>\n",
       "      <td>0</td>\n",
       "    </tr>\n",
       "    <tr>\n",
       "      <th>1</th>\n",
       "      <td>0</td>\n",
       "      <td>0</td>\n",
       "      <td>0</td>\n",
       "      <td>0</td>\n",
       "      <td>0</td>\n",
       "      <td>0</td>\n",
       "      <td>0</td>\n",
       "      <td>0</td>\n",
       "      <td>0</td>\n",
       "      <td>1</td>\n",
       "      <td>...</td>\n",
       "      <td>0</td>\n",
       "      <td>0</td>\n",
       "      <td>0</td>\n",
       "      <td>0</td>\n",
       "      <td>0</td>\n",
       "      <td>0</td>\n",
       "      <td>0</td>\n",
       "      <td>0</td>\n",
       "      <td>1</td>\n",
       "      <td>0</td>\n",
       "    </tr>\n",
       "    <tr>\n",
       "      <th>2</th>\n",
       "      <td>0</td>\n",
       "      <td>0</td>\n",
       "      <td>0</td>\n",
       "      <td>0</td>\n",
       "      <td>0</td>\n",
       "      <td>0</td>\n",
       "      <td>0</td>\n",
       "      <td>0</td>\n",
       "      <td>0</td>\n",
       "      <td>1</td>\n",
       "      <td>...</td>\n",
       "      <td>0</td>\n",
       "      <td>0</td>\n",
       "      <td>0</td>\n",
       "      <td>0</td>\n",
       "      <td>0</td>\n",
       "      <td>0</td>\n",
       "      <td>0</td>\n",
       "      <td>0</td>\n",
       "      <td>1</td>\n",
       "      <td>0</td>\n",
       "    </tr>\n",
       "    <tr>\n",
       "      <th>3</th>\n",
       "      <td>0</td>\n",
       "      <td>0</td>\n",
       "      <td>0</td>\n",
       "      <td>0</td>\n",
       "      <td>0</td>\n",
       "      <td>0</td>\n",
       "      <td>0</td>\n",
       "      <td>0</td>\n",
       "      <td>0</td>\n",
       "      <td>1</td>\n",
       "      <td>...</td>\n",
       "      <td>0</td>\n",
       "      <td>0</td>\n",
       "      <td>0</td>\n",
       "      <td>0</td>\n",
       "      <td>0</td>\n",
       "      <td>0</td>\n",
       "      <td>0</td>\n",
       "      <td>0</td>\n",
       "      <td>1</td>\n",
       "      <td>0</td>\n",
       "    </tr>\n",
       "    <tr>\n",
       "      <th>4</th>\n",
       "      <td>0</td>\n",
       "      <td>0</td>\n",
       "      <td>0</td>\n",
       "      <td>0</td>\n",
       "      <td>0</td>\n",
       "      <td>0</td>\n",
       "      <td>0</td>\n",
       "      <td>0</td>\n",
       "      <td>0</td>\n",
       "      <td>1</td>\n",
       "      <td>...</td>\n",
       "      <td>0</td>\n",
       "      <td>0</td>\n",
       "      <td>0</td>\n",
       "      <td>0</td>\n",
       "      <td>0</td>\n",
       "      <td>0</td>\n",
       "      <td>0</td>\n",
       "      <td>0</td>\n",
       "      <td>1</td>\n",
       "      <td>0</td>\n",
       "    </tr>\n",
       "  </tbody>\n",
       "</table>\n",
       "<p>5 rows × 24 columns</p>\n",
       "</div>"
      ],
      "text/plain": [
       "   Star color_Blue   Star color_Blue White  Star color_Blue white  \\\n",
       "0                 0                      0                      0   \n",
       "1                 0                      0                      0   \n",
       "2                 0                      0                      0   \n",
       "3                 0                      0                      0   \n",
       "4                 0                      0                      0   \n",
       "\n",
       "   Star color_Blue white   Star color_Blue-White  Star color_Blue-white  \\\n",
       "0                       0                      0                      0   \n",
       "1                       0                      0                      0   \n",
       "2                       0                      0                      0   \n",
       "3                       0                      0                      0   \n",
       "4                       0                      0                      0   \n",
       "\n",
       "   Star color_Orange  Star color_Orange-Red  Star color_Pale yellow orange  \\\n",
       "0                  0                      0                              0   \n",
       "1                  0                      0                              0   \n",
       "2                  0                      0                              0   \n",
       "3                  0                      0                              0   \n",
       "4                  0                      0                              0   \n",
       "\n",
       "   Star color_Red  ...  Star color_Yellowish White  Star color_white  \\\n",
       "0               1  ...                           0                 0   \n",
       "1               1  ...                           0                 0   \n",
       "2               1  ...                           0                 0   \n",
       "3               1  ...                           0                 0   \n",
       "4               1  ...                           0                 0   \n",
       "\n",
       "   Star color_yellow-white  Star color_yellowish  Spectral Class_B  \\\n",
       "0                        0                     0                 0   \n",
       "1                        0                     0                 0   \n",
       "2                        0                     0                 0   \n",
       "3                        0                     0                 0   \n",
       "4                        0                     0                 0   \n",
       "\n",
       "   Spectral Class_F  Spectral Class_G  Spectral Class_K  Spectral Class_M  \\\n",
       "0                 0                 0                 0                 1   \n",
       "1                 0                 0                 0                 1   \n",
       "2                 0                 0                 0                 1   \n",
       "3                 0                 0                 0                 1   \n",
       "4                 0                 0                 0                 1   \n",
       "\n",
       "   Spectral Class_O  \n",
       "0                 0  \n",
       "1                 0  \n",
       "2                 0  \n",
       "3                 0  \n",
       "4                 0  \n",
       "\n",
       "[5 rows x 24 columns]"
      ]
     },
     "execution_count": 16,
     "metadata": {},
     "output_type": "execute_result"
    }
   ],
   "source": [
    "#encoding categorical variables\n",
    "encoded_cat=pd.get_dummies(df_cat,drop_first=True)\n",
    "encoded_cat.head()"
   ]
  },
  {
   "cell_type": "code",
   "execution_count": 17,
   "id": "anonymous-bargain",
   "metadata": {
    "execution": {
     "iopub.execute_input": "2021-06-29T15:42:51.780464Z",
     "iopub.status.busy": "2021-06-29T15:42:51.779711Z",
     "iopub.status.idle": "2021-06-29T15:42:51.783690Z",
     "shell.execute_reply": "2021-06-29T15:42:51.784146Z",
     "shell.execute_reply.started": "2021-06-29T15:39:10.644085Z"
    },
    "papermill": {
     "duration": 0.070717,
     "end_time": "2021-06-29T15:42:51.784323",
     "exception": false,
     "start_time": "2021-06-29T15:42:51.713606",
     "status": "completed"
    },
    "tags": []
   },
   "outputs": [
    {
     "data": {
      "text/html": [
       "<div>\n",
       "<style scoped>\n",
       "    .dataframe tbody tr th:only-of-type {\n",
       "        vertical-align: middle;\n",
       "    }\n",
       "\n",
       "    .dataframe tbody tr th {\n",
       "        vertical-align: top;\n",
       "    }\n",
       "\n",
       "    .dataframe thead th {\n",
       "        text-align: right;\n",
       "    }\n",
       "</style>\n",
       "<table border=\"1\" class=\"dataframe\">\n",
       "  <thead>\n",
       "    <tr style=\"text-align: right;\">\n",
       "      <th></th>\n",
       "      <th>Star color_Blue</th>\n",
       "      <th>Star color_Blue White</th>\n",
       "      <th>Star color_Blue white</th>\n",
       "      <th>Star color_Blue white</th>\n",
       "      <th>Star color_Blue-White</th>\n",
       "      <th>Star color_Blue-white</th>\n",
       "      <th>Star color_Orange</th>\n",
       "      <th>Star color_Orange-Red</th>\n",
       "      <th>Star color_Pale yellow orange</th>\n",
       "      <th>Star color_Red</th>\n",
       "      <th>...</th>\n",
       "      <th>Spectral Class_F</th>\n",
       "      <th>Spectral Class_G</th>\n",
       "      <th>Spectral Class_K</th>\n",
       "      <th>Spectral Class_M</th>\n",
       "      <th>Spectral Class_O</th>\n",
       "      <th>Temperature (K)</th>\n",
       "      <th>Luminosity(L/Lo)</th>\n",
       "      <th>Radius(R/Ro)</th>\n",
       "      <th>Absolute magnitude(Mv)</th>\n",
       "      <th>Star type</th>\n",
       "    </tr>\n",
       "  </thead>\n",
       "  <tbody>\n",
       "    <tr>\n",
       "      <th>0</th>\n",
       "      <td>0</td>\n",
       "      <td>0</td>\n",
       "      <td>0</td>\n",
       "      <td>0</td>\n",
       "      <td>0</td>\n",
       "      <td>0</td>\n",
       "      <td>0</td>\n",
       "      <td>0</td>\n",
       "      <td>0</td>\n",
       "      <td>1</td>\n",
       "      <td>...</td>\n",
       "      <td>0</td>\n",
       "      <td>0</td>\n",
       "      <td>0</td>\n",
       "      <td>1</td>\n",
       "      <td>0</td>\n",
       "      <td>-0.779382</td>\n",
       "      <td>-0.598624</td>\n",
       "      <td>-0.459210</td>\n",
       "      <td>1.116745</td>\n",
       "      <td>-1.46385</td>\n",
       "    </tr>\n",
       "    <tr>\n",
       "      <th>1</th>\n",
       "      <td>0</td>\n",
       "      <td>0</td>\n",
       "      <td>0</td>\n",
       "      <td>0</td>\n",
       "      <td>0</td>\n",
       "      <td>0</td>\n",
       "      <td>0</td>\n",
       "      <td>0</td>\n",
       "      <td>0</td>\n",
       "      <td>1</td>\n",
       "      <td>...</td>\n",
       "      <td>0</td>\n",
       "      <td>0</td>\n",
       "      <td>0</td>\n",
       "      <td>1</td>\n",
       "      <td>0</td>\n",
       "      <td>-0.782110</td>\n",
       "      <td>-0.598624</td>\n",
       "      <td>-0.459241</td>\n",
       "      <td>1.162414</td>\n",
       "      <td>-1.46385</td>\n",
       "    </tr>\n",
       "    <tr>\n",
       "      <th>2</th>\n",
       "      <td>0</td>\n",
       "      <td>0</td>\n",
       "      <td>0</td>\n",
       "      <td>0</td>\n",
       "      <td>0</td>\n",
       "      <td>0</td>\n",
       "      <td>0</td>\n",
       "      <td>0</td>\n",
       "      <td>0</td>\n",
       "      <td>1</td>\n",
       "      <td>...</td>\n",
       "      <td>0</td>\n",
       "      <td>0</td>\n",
       "      <td>0</td>\n",
       "      <td>1</td>\n",
       "      <td>0</td>\n",
       "      <td>-0.828477</td>\n",
       "      <td>-0.598624</td>\n",
       "      <td>-0.459342</td>\n",
       "      <td>1.362213</td>\n",
       "      <td>-1.46385</td>\n",
       "    </tr>\n",
       "    <tr>\n",
       "      <th>3</th>\n",
       "      <td>0</td>\n",
       "      <td>0</td>\n",
       "      <td>0</td>\n",
       "      <td>0</td>\n",
       "      <td>0</td>\n",
       "      <td>0</td>\n",
       "      <td>0</td>\n",
       "      <td>0</td>\n",
       "      <td>0</td>\n",
       "      <td>1</td>\n",
       "      <td>...</td>\n",
       "      <td>0</td>\n",
       "      <td>0</td>\n",
       "      <td>0</td>\n",
       "      <td>1</td>\n",
       "      <td>0</td>\n",
       "      <td>-0.807496</td>\n",
       "      <td>-0.598624</td>\n",
       "      <td>-0.459229</td>\n",
       "      <td>1.167171</td>\n",
       "      <td>-1.46385</td>\n",
       "    </tr>\n",
       "    <tr>\n",
       "      <th>4</th>\n",
       "      <td>0</td>\n",
       "      <td>0</td>\n",
       "      <td>0</td>\n",
       "      <td>0</td>\n",
       "      <td>0</td>\n",
       "      <td>0</td>\n",
       "      <td>0</td>\n",
       "      <td>0</td>\n",
       "      <td>0</td>\n",
       "      <td>1</td>\n",
       "      <td>...</td>\n",
       "      <td>0</td>\n",
       "      <td>0</td>\n",
       "      <td>0</td>\n",
       "      <td>1</td>\n",
       "      <td>0</td>\n",
       "      <td>-0.897819</td>\n",
       "      <td>-0.598624</td>\n",
       "      <td>-0.459340</td>\n",
       "      <td>1.491607</td>\n",
       "      <td>-1.46385</td>\n",
       "    </tr>\n",
       "  </tbody>\n",
       "</table>\n",
       "<p>5 rows × 29 columns</p>\n",
       "</div>"
      ],
      "text/plain": [
       "   Star color_Blue   Star color_Blue White  Star color_Blue white  \\\n",
       "0                 0                      0                      0   \n",
       "1                 0                      0                      0   \n",
       "2                 0                      0                      0   \n",
       "3                 0                      0                      0   \n",
       "4                 0                      0                      0   \n",
       "\n",
       "   Star color_Blue white   Star color_Blue-White  Star color_Blue-white  \\\n",
       "0                       0                      0                      0   \n",
       "1                       0                      0                      0   \n",
       "2                       0                      0                      0   \n",
       "3                       0                      0                      0   \n",
       "4                       0                      0                      0   \n",
       "\n",
       "   Star color_Orange  Star color_Orange-Red  Star color_Pale yellow orange  \\\n",
       "0                  0                      0                              0   \n",
       "1                  0                      0                              0   \n",
       "2                  0                      0                              0   \n",
       "3                  0                      0                              0   \n",
       "4                  0                      0                              0   \n",
       "\n",
       "   Star color_Red  ...  Spectral Class_F  Spectral Class_G  Spectral Class_K  \\\n",
       "0               1  ...                 0                 0                 0   \n",
       "1               1  ...                 0                 0                 0   \n",
       "2               1  ...                 0                 0                 0   \n",
       "3               1  ...                 0                 0                 0   \n",
       "4               1  ...                 0                 0                 0   \n",
       "\n",
       "   Spectral Class_M  Spectral Class_O  Temperature (K)  Luminosity(L/Lo)  \\\n",
       "0                 1                 0        -0.779382         -0.598624   \n",
       "1                 1                 0        -0.782110         -0.598624   \n",
       "2                 1                 0        -0.828477         -0.598624   \n",
       "3                 1                 0        -0.807496         -0.598624   \n",
       "4                 1                 0        -0.897819         -0.598624   \n",
       "\n",
       "   Radius(R/Ro)  Absolute magnitude(Mv)  Star type  \n",
       "0     -0.459210                1.116745   -1.46385  \n",
       "1     -0.459241                1.162414   -1.46385  \n",
       "2     -0.459342                1.362213   -1.46385  \n",
       "3     -0.459229                1.167171   -1.46385  \n",
       "4     -0.459340                1.491607   -1.46385  \n",
       "\n",
       "[5 rows x 29 columns]"
      ]
     },
     "execution_count": 17,
     "metadata": {},
     "output_type": "execute_result"
    }
   ],
   "source": [
    "#combining scaled numeric variables and encoded categorical variables\n",
    "df_mod=pd.concat([encoded_cat,scaled_num],axis=1)\n",
    "df_mod.head()"
   ]
  },
  {
   "cell_type": "code",
   "execution_count": 18,
   "id": "consolidated-psychiatry",
   "metadata": {
    "execution": {
     "iopub.execute_input": "2021-06-29T15:42:51.881459Z",
     "iopub.status.busy": "2021-06-29T15:42:51.880416Z",
     "iopub.status.idle": "2021-06-29T15:42:51.883895Z",
     "shell.execute_reply": "2021-06-29T15:42:51.883306Z",
     "shell.execute_reply.started": "2021-06-29T15:39:10.669317Z"
    },
    "papermill": {
     "duration": 0.054854,
     "end_time": "2021-06-29T15:42:51.884042",
     "exception": false,
     "start_time": "2021-06-29T15:42:51.829188",
     "status": "completed"
    },
    "tags": []
   },
   "outputs": [],
   "source": [
    "X=df_mod.drop('Star type',axis=1)\n",
    "y=df['Star type']"
   ]
  },
  {
   "cell_type": "code",
   "execution_count": 19,
   "id": "suspected-peace",
   "metadata": {
    "execution": {
     "iopub.execute_input": "2021-06-29T15:42:51.981313Z",
     "iopub.status.busy": "2021-06-29T15:42:51.980598Z",
     "iopub.status.idle": "2021-06-29T15:42:51.983690Z",
     "shell.execute_reply": "2021-06-29T15:42:51.983104Z",
     "shell.execute_reply.started": "2021-06-29T15:39:10.681207Z"
    },
    "papermill": {
     "duration": 0.054843,
     "end_time": "2021-06-29T15:42:51.983851",
     "exception": false,
     "start_time": "2021-06-29T15:42:51.929008",
     "status": "completed"
    },
    "tags": []
   },
   "outputs": [],
   "source": [
    "#splitting training and test data\n",
    "X_train,X_test,y_train,y_test=train_test_split(X,y,test_size=0.2,shuffle=True,random_state=6)"
   ]
  },
  {
   "cell_type": "code",
   "execution_count": 20,
   "id": "essential-flesh",
   "metadata": {
    "execution": {
     "iopub.execute_input": "2021-06-29T15:42:52.081140Z",
     "iopub.status.busy": "2021-06-29T15:42:52.080468Z",
     "iopub.status.idle": "2021-06-29T15:42:52.084247Z",
     "shell.execute_reply": "2021-06-29T15:42:52.083711Z",
     "shell.execute_reply.started": "2021-06-29T15:39:10.695295Z"
    },
    "papermill": {
     "duration": 0.053783,
     "end_time": "2021-06-29T15:42:52.084394",
     "exception": false,
     "start_time": "2021-06-29T15:42:52.030611",
     "status": "completed"
    },
    "tags": []
   },
   "outputs": [],
   "source": [
    "# trying knn classifier with 3 neighbors\n",
    "kn3=KNeighborsClassifier(n_neighbors=3)"
   ]
  },
  {
   "cell_type": "code",
   "execution_count": 21,
   "id": "touched-faculty",
   "metadata": {
    "execution": {
     "iopub.execute_input": "2021-06-29T15:42:52.181201Z",
     "iopub.status.busy": "2021-06-29T15:42:52.180496Z",
     "iopub.status.idle": "2021-06-29T15:42:52.183747Z",
     "shell.execute_reply": "2021-06-29T15:42:52.184225Z",
     "shell.execute_reply.started": "2021-06-29T15:39:10.707791Z"
    },
    "papermill": {
     "duration": 0.055148,
     "end_time": "2021-06-29T15:42:52.184404",
     "exception": false,
     "start_time": "2021-06-29T15:42:52.129256",
     "status": "completed"
    },
    "tags": []
   },
   "outputs": [],
   "source": [
    "kn3_model=kn3.fit(X_train,y_train)"
   ]
  },
  {
   "cell_type": "code",
   "execution_count": 22,
   "id": "extreme-desert",
   "metadata": {
    "execution": {
     "iopub.execute_input": "2021-06-29T15:42:52.284708Z",
     "iopub.status.busy": "2021-06-29T15:42:52.282613Z",
     "iopub.status.idle": "2021-06-29T15:42:52.322047Z",
     "shell.execute_reply": "2021-06-29T15:42:52.321186Z",
     "shell.execute_reply.started": "2021-06-29T15:39:10.722973Z"
    },
    "papermill": {
     "duration": 0.093312,
     "end_time": "2021-06-29T15:42:52.322297",
     "exception": false,
     "start_time": "2021-06-29T15:42:52.228985",
     "status": "completed"
    },
    "tags": []
   },
   "outputs": [
    {
     "name": "stdout",
     "output_type": "stream",
     "text": [
      "Train_score: 0.984375\n",
      "Test_score: 0.9791666666666666\n"
     ]
    }
   ],
   "source": [
    "train_score=kn3_model.score(X_train,y_train)\n",
    "print('Train_score:',train_score)\n",
    "test_score=kn3_model.score(X_test,y_test)\n",
    "print('Test_score:',test_score)"
   ]
  },
  {
   "cell_type": "markdown",
   "id": "finnish-supply",
   "metadata": {
    "execution": {
     "iopub.execute_input": "2021-06-29T14:22:52.915621Z",
     "iopub.status.busy": "2021-06-29T14:22:52.915139Z",
     "iopub.status.idle": "2021-06-29T14:22:52.942136Z",
     "shell.execute_reply": "2021-06-29T14:22:52.940641Z",
     "shell.execute_reply.started": "2021-06-29T14:22:52.915573Z"
    },
    "papermill": {
     "duration": 0.045114,
     "end_time": "2021-06-29T15:42:52.447370",
     "exception": false,
     "start_time": "2021-06-29T15:42:52.402256",
     "status": "completed"
    },
    "tags": []
   },
   "source": [
    "scores of the training and test data are very close to each other,which implies that the model also performs well for unseen data."
   ]
  },
  {
   "cell_type": "markdown",
   "id": "requested-thermal",
   "metadata": {
    "papermill": {
     "duration": 0.045199,
     "end_time": "2021-06-29T15:42:52.538222",
     "exception": false,
     "start_time": "2021-06-29T15:42:52.493023",
     "status": "completed"
    },
    "tags": []
   },
   "source": [
    "## Lets check with classification metrics"
   ]
  },
  {
   "cell_type": "code",
   "execution_count": 23,
   "id": "alien-thomson",
   "metadata": {
    "execution": {
     "iopub.execute_input": "2021-06-29T15:42:52.637389Z",
     "iopub.status.busy": "2021-06-29T15:42:52.636353Z",
     "iopub.status.idle": "2021-06-29T15:42:52.662844Z",
     "shell.execute_reply": "2021-06-29T15:42:52.664038Z",
     "shell.execute_reply.started": "2021-06-29T15:39:10.779538Z"
    },
    "papermill": {
     "duration": 0.080578,
     "end_time": "2021-06-29T15:42:52.664365",
     "exception": false,
     "start_time": "2021-06-29T15:42:52.583787",
     "status": "completed"
    },
    "tags": []
   },
   "outputs": [
    {
     "name": "stdout",
     "output_type": "stream",
     "text": [
      "              precision    recall  f1-score   support\n",
      "\n",
      "           0       1.00      1.00      1.00        30\n",
      "           1       1.00      1.00      1.00        31\n",
      "           2       1.00      1.00      1.00        30\n",
      "           3       0.91      1.00      0.96        32\n",
      "           4       1.00      0.94      0.97        36\n",
      "           5       1.00      0.97      0.98        33\n",
      "\n",
      "    accuracy                           0.98       192\n",
      "   macro avg       0.99      0.99      0.99       192\n",
      "weighted avg       0.99      0.98      0.98       192\n",
      "\n"
     ]
    }
   ],
   "source": [
    "train_pred=kn3_model.predict(X_train)\n",
    "print(classification_report(y_train,train_pred))"
   ]
  },
  {
   "cell_type": "markdown",
   "id": "reasonable-pacific",
   "metadata": {
    "papermill": {
     "duration": 0.048534,
     "end_time": "2021-06-29T15:42:52.793553",
     "exception": false,
     "start_time": "2021-06-29T15:42:52.745019",
     "status": "completed"
    },
    "tags": []
   },
   "source": [
    "The 'f1-weighted avg' score is 0.98 which implies that our model is able to classify 98% of the data correctly."
   ]
  },
  {
   "cell_type": "markdown",
   "id": "intensive-jerusalem",
   "metadata": {
    "papermill": {
     "duration": 0.045497,
     "end_time": "2021-06-29T15:42:52.885066",
     "exception": false,
     "start_time": "2021-06-29T15:42:52.839569",
     "status": "completed"
    },
    "tags": []
   },
   "source": [
    "## Cross Validating the model"
   ]
  },
  {
   "cell_type": "code",
   "execution_count": 24,
   "id": "equipped-louisville",
   "metadata": {
    "execution": {
     "iopub.execute_input": "2021-06-29T15:42:52.989714Z",
     "iopub.status.busy": "2021-06-29T15:42:52.981447Z",
     "iopub.status.idle": "2021-06-29T15:42:53.032862Z",
     "shell.execute_reply": "2021-06-29T15:42:53.032256Z",
     "shell.execute_reply.started": "2021-06-29T15:39:10.822110Z"
    },
    "papermill": {
     "duration": 0.102566,
     "end_time": "2021-06-29T15:42:53.033013",
     "exception": false,
     "start_time": "2021-06-29T15:42:52.930447",
     "status": "completed"
    },
    "tags": []
   },
   "outputs": [],
   "source": [
    "k = KFold(n_splits=5,shuffle=True,random_state=48)#splitting into five folds\n",
    "scores = cross_val_score(kn3,X_train,y_train,cv=k,scoring='f1_weighted')"
   ]
  },
  {
   "cell_type": "code",
   "execution_count": 25,
   "id": "faced-vocabulary",
   "metadata": {
    "execution": {
     "iopub.execute_input": "2021-06-29T15:42:53.130504Z",
     "iopub.status.busy": "2021-06-29T15:42:53.129580Z",
     "iopub.status.idle": "2021-06-29T15:42:53.134284Z",
     "shell.execute_reply": "2021-06-29T15:42:53.133678Z",
     "shell.execute_reply.started": "2021-06-29T15:39:10.908611Z"
    },
    "papermill": {
     "duration": 0.055754,
     "end_time": "2021-06-29T15:42:53.134429",
     "exception": false,
     "start_time": "2021-06-29T15:42:53.078675",
     "status": "completed"
    },
    "tags": []
   },
   "outputs": [
    {
     "data": {
      "text/plain": [
       "array([0.97616893, 0.94871795, 1.        , 1.        , 0.97451963])"
      ]
     },
     "execution_count": 25,
     "metadata": {},
     "output_type": "execute_result"
    }
   ],
   "source": [
    "scores"
   ]
  },
  {
   "cell_type": "code",
   "execution_count": 26,
   "id": "developmental-manor",
   "metadata": {
    "execution": {
     "iopub.execute_input": "2021-06-29T15:42:53.230560Z",
     "iopub.status.busy": "2021-06-29T15:42:53.229958Z",
     "iopub.status.idle": "2021-06-29T15:42:53.235589Z",
     "shell.execute_reply": "2021-06-29T15:42:53.236095Z",
     "shell.execute_reply.started": "2021-06-29T15:39:10.918838Z"
    },
    "papermill": {
     "duration": 0.055231,
     "end_time": "2021-06-29T15:42:53.236265",
     "exception": false,
     "start_time": "2021-06-29T15:42:53.181034",
     "status": "completed"
    },
    "tags": []
   },
   "outputs": [
    {
     "name": "stdout",
     "output_type": "stream",
     "text": [
      "Bias error: 0.02011869795151533\n",
      "Variance error: 0.019487656442323933\n"
     ]
    }
   ],
   "source": [
    "print('Bias error:', 1 -  np.mean(scores))\n",
    "print('Variance error:',np.std(scores)/np.mean(scores))"
   ]
  },
  {
   "cell_type": "markdown",
   "id": "superb-church",
   "metadata": {
    "papermill": {
     "duration": 0.04639,
     "end_time": "2021-06-29T15:42:53.330000",
     "exception": false,
     "start_time": "2021-06-29T15:42:53.283610",
     "status": "completed"
    },
    "tags": []
   },
   "source": [
    "very low bias and variance error,therefore there is no overfitting or underfitting in the model"
   ]
  },
  {
   "cell_type": "markdown",
   "id": "random-syracuse",
   "metadata": {
    "papermill": {
     "duration": 0.046675,
     "end_time": "2021-06-29T15:42:53.423189",
     "exception": false,
     "start_time": "2021-06-29T15:42:53.376514",
     "status": "completed"
    },
    "tags": []
   },
   "source": [
    "## GridSearchCV"
   ]
  },
  {
   "cell_type": "markdown",
   "id": "rubber-preserve",
   "metadata": {
    "papermill": {
     "duration": 0.046398,
     "end_time": "2021-06-29T15:42:53.516561",
     "exception": false,
     "start_time": "2021-06-29T15:42:53.470163",
     "status": "completed"
    },
    "tags": []
   },
   "source": [
    "Let's find the best value of n_neighbors using GRIDSEARCHCV"
   ]
  },
  {
   "cell_type": "code",
   "execution_count": 27,
   "id": "widespread-sequence",
   "metadata": {
    "execution": {
     "iopub.execute_input": "2021-06-29T15:42:53.615671Z",
     "iopub.status.busy": "2021-06-29T15:42:53.614658Z",
     "iopub.status.idle": "2021-06-29T15:42:53.617931Z",
     "shell.execute_reply": "2021-06-29T15:42:53.617303Z",
     "shell.execute_reply.started": "2021-06-29T15:39:10.930309Z"
    },
    "papermill": {
     "duration": 0.054475,
     "end_time": "2021-06-29T15:42:53.618081",
     "exception": false,
     "start_time": "2021-06-29T15:42:53.563606",
     "status": "completed"
    },
    "tags": []
   },
   "outputs": [],
   "source": [
    "params={'n_neighbors':range(2,8)}#assigning n_neighbors from 2 to 7"
   ]
  },
  {
   "cell_type": "code",
   "execution_count": 28,
   "id": "single-thread",
   "metadata": {
    "execution": {
     "iopub.execute_input": "2021-06-29T15:42:53.717310Z",
     "iopub.status.busy": "2021-06-29T15:42:53.716394Z",
     "iopub.status.idle": "2021-06-29T15:42:53.719944Z",
     "shell.execute_reply": "2021-06-29T15:42:53.719404Z",
     "shell.execute_reply.started": "2021-06-29T15:39:10.944461Z"
    },
    "papermill": {
     "duration": 0.055014,
     "end_time": "2021-06-29T15:42:53.720130",
     "exception": false,
     "start_time": "2021-06-29T15:42:53.665116",
     "status": "completed"
    },
    "tags": []
   },
   "outputs": [],
   "source": [
    "knn=KNeighborsClassifier()#initializing function\n",
    "grd=GridSearchCV(knn,param_grid=params,cv=5,scoring='f1_weighted')"
   ]
  },
  {
   "cell_type": "code",
   "execution_count": 29,
   "id": "known-jumping",
   "metadata": {
    "execution": {
     "iopub.execute_input": "2021-06-29T15:42:53.817877Z",
     "iopub.status.busy": "2021-06-29T15:42:53.817244Z",
     "iopub.status.idle": "2021-06-29T15:42:54.098341Z",
     "shell.execute_reply": "2021-06-29T15:42:54.097717Z",
     "shell.execute_reply.started": "2021-06-29T15:39:10.954826Z"
    },
    "papermill": {
     "duration": 0.330923,
     "end_time": "2021-06-29T15:42:54.098493",
     "exception": false,
     "start_time": "2021-06-29T15:42:53.767570",
     "status": "completed"
    },
    "tags": []
   },
   "outputs": [],
   "source": [
    "#fiiting the grid model to training set\n",
    "grid_model=grd.fit(X_train,y_train)"
   ]
  },
  {
   "cell_type": "code",
   "execution_count": 30,
   "id": "collect-characterization",
   "metadata": {
    "execution": {
     "iopub.execute_input": "2021-06-29T15:42:54.197477Z",
     "iopub.status.busy": "2021-06-29T15:42:54.196707Z",
     "iopub.status.idle": "2021-06-29T15:42:54.200995Z",
     "shell.execute_reply": "2021-06-29T15:42:54.200453Z",
     "shell.execute_reply.started": "2021-06-29T15:39:11.254975Z"
    },
    "papermill": {
     "duration": 0.054979,
     "end_time": "2021-06-29T15:42:54.201148",
     "exception": false,
     "start_time": "2021-06-29T15:42:54.146169",
     "status": "completed"
    },
    "tags": []
   },
   "outputs": [
    {
     "name": "stdout",
     "output_type": "stream",
     "text": [
      "Best n_neighbors: {'n_neighbors': 2}\n",
      "Best Score: 0.9783542683137825\n"
     ]
    }
   ],
   "source": [
    "#finding best score and n_neigbors\n",
    "print('Best n_neighbors:',grid_model.best_params_)\n",
    "print('Best Score:',grid_model.best_score_)"
   ]
  },
  {
   "cell_type": "markdown",
   "id": "agreed-monte",
   "metadata": {
    "papermill": {
     "duration": 0.045857,
     "end_time": "2021-06-29T15:42:54.293522",
     "exception": false,
     "start_time": "2021-06-29T15:42:54.247665",
     "status": "completed"
    },
    "tags": []
   },
   "source": [
    "The best parameter for 'n_neighbors' is calculated as 2 with 0.97 as 'f1-weighted' score which is more or less equal to our kn3_model.Hence I'll stick with n_neighbors=3."
   ]
  },
  {
   "cell_type": "markdown",
   "id": "aware-distinction",
   "metadata": {
    "papermill": {
     "duration": 0.046813,
     "end_time": "2021-06-29T15:42:54.387050",
     "exception": false,
     "start_time": "2021-06-29T15:42:54.340237",
     "status": "completed"
    },
    "tags": []
   },
   "source": [
    "## Conclusion"
   ]
  },
  {
   "cell_type": "markdown",
   "id": "expanded-congo",
   "metadata": {
    "papermill": {
     "duration": 0.045739,
     "end_time": "2021-06-29T15:42:54.479255",
     "exception": false,
     "start_time": "2021-06-29T15:42:54.433516",
     "status": "completed"
    },
    "tags": []
   },
   "source": [
    "The KNN model developed has 98% accuracy in classifying a star.We can also try with Random Forest or Xgboost to get better accuracy for the model."
   ]
  }
 ],
 "metadata": {
  "kernelspec": {
   "display_name": "Python 3",
   "language": "python",
   "name": "python3"
  },
  "language_info": {
   "codemirror_mode": {
    "name": "ipython",
    "version": 3
   },
   "file_extension": ".py",
   "mimetype": "text/x-python",
   "name": "python",
   "nbconvert_exporter": "python",
   "pygments_lexer": "ipython3",
   "version": "3.8.8"
  },
  "papermill": {
   "default_parameters": {},
   "duration": 16.044778,
   "end_time": "2021-06-29T15:42:55.235413",
   "environment_variables": {},
   "exception": null,
   "input_path": "__notebook__.ipynb",
   "output_path": "__notebook__.ipynb",
   "parameters": {},
   "start_time": "2021-06-29T15:42:39.190635",
   "version": "2.3.2"
  }
 },
 "nbformat": 4,
 "nbformat_minor": 5
}
