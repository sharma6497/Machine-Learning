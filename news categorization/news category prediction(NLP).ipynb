{
 "cells": [
  {
   "cell_type": "code",
   "execution_count": 1,
   "id": "a8964692",
   "metadata": {},
   "outputs": [],
   "source": [
    "import pandas as pd\n",
    "import numpy as np\n",
    "import matplotlib.pyplot as plt\n",
    "import seaborn as sns\n",
    "import re\n",
    "from nltk.tokenize import word_tokenize\n",
    "from sklearn.model_selection import train_test_split\n",
    "from sklearn.metrics import accuracy_score\n",
    "from sklearn.linear_model import LogisticRegression\n",
    "from sklearn.feature_extraction.text import TfidfVectorizer,ENGLISH_STOP_WORDS"
   ]
  },
  {
   "cell_type": "code",
   "execution_count": 2,
   "id": "0bf35270",
   "metadata": {
    "scrolled": true
   },
   "outputs": [
    {
     "data": {
      "text/html": [
       "<div>\n",
       "<style scoped>\n",
       "    .dataframe tbody tr th:only-of-type {\n",
       "        vertical-align: middle;\n",
       "    }\n",
       "\n",
       "    .dataframe tbody tr th {\n",
       "        vertical-align: top;\n",
       "    }\n",
       "\n",
       "    .dataframe thead th {\n",
       "        text-align: right;\n",
       "    }\n",
       "</style>\n",
       "<table border=\"1\" class=\"dataframe\">\n",
       "  <thead>\n",
       "    <tr style=\"text-align: right;\">\n",
       "      <th></th>\n",
       "      <th>STORY</th>\n",
       "      <th>SECTION</th>\n",
       "    </tr>\n",
       "  </thead>\n",
       "  <tbody>\n",
       "    <tr>\n",
       "      <th>0</th>\n",
       "      <td>But the most painful was the huge reversal in ...</td>\n",
       "      <td>3</td>\n",
       "    </tr>\n",
       "    <tr>\n",
       "      <th>1</th>\n",
       "      <td>How formidable is the opposition alliance amon...</td>\n",
       "      <td>0</td>\n",
       "    </tr>\n",
       "    <tr>\n",
       "      <th>2</th>\n",
       "      <td>Most Asian currencies were trading lower today...</td>\n",
       "      <td>3</td>\n",
       "    </tr>\n",
       "    <tr>\n",
       "      <th>3</th>\n",
       "      <td>If you want to answer any question, click on ‘...</td>\n",
       "      <td>1</td>\n",
       "    </tr>\n",
       "    <tr>\n",
       "      <th>4</th>\n",
       "      <td>In global markets, gold prices edged up today ...</td>\n",
       "      <td>3</td>\n",
       "    </tr>\n",
       "  </tbody>\n",
       "</table>\n",
       "</div>"
      ],
      "text/plain": [
       "                                               STORY  SECTION\n",
       "0  But the most painful was the huge reversal in ...        3\n",
       "1  How formidable is the opposition alliance amon...        0\n",
       "2  Most Asian currencies were trading lower today...        3\n",
       "3  If you want to answer any question, click on ‘...        1\n",
       "4  In global markets, gold prices edged up today ...        3"
      ]
     },
     "execution_count": 2,
     "metadata": {},
     "output_type": "execute_result"
    }
   ],
   "source": [
    "df=pd.read_excel('Data_Train.xlsx')\n",
    "df.head()"
   ]
  },
  {
   "cell_type": "code",
   "execution_count": 3,
   "id": "deb9855d",
   "metadata": {},
   "outputs": [
    {
     "data": {
      "text/html": [
       "<div>\n",
       "<style scoped>\n",
       "    .dataframe tbody tr th:only-of-type {\n",
       "        vertical-align: middle;\n",
       "    }\n",
       "\n",
       "    .dataframe tbody tr th {\n",
       "        vertical-align: top;\n",
       "    }\n",
       "\n",
       "    .dataframe thead th {\n",
       "        text-align: right;\n",
       "    }\n",
       "</style>\n",
       "<table border=\"1\" class=\"dataframe\">\n",
       "  <thead>\n",
       "    <tr style=\"text-align: right;\">\n",
       "      <th></th>\n",
       "      <th>STORY</th>\n",
       "    </tr>\n",
       "  </thead>\n",
       "  <tbody>\n",
       "    <tr>\n",
       "      <th>0</th>\n",
       "      <td>2019 will see gadgets like gaming smartphones ...</td>\n",
       "    </tr>\n",
       "    <tr>\n",
       "      <th>1</th>\n",
       "      <td>It has also unleashed a wave of changes in the...</td>\n",
       "    </tr>\n",
       "    <tr>\n",
       "      <th>2</th>\n",
       "      <td>It can be confusing to pick the right smartpho...</td>\n",
       "    </tr>\n",
       "    <tr>\n",
       "      <th>3</th>\n",
       "      <td>The mobile application is integrated with a da...</td>\n",
       "    </tr>\n",
       "    <tr>\n",
       "      <th>4</th>\n",
       "      <td>We have rounded up some of the gadgets that sh...</td>\n",
       "    </tr>\n",
       "  </tbody>\n",
       "</table>\n",
       "</div>"
      ],
      "text/plain": [
       "                                               STORY\n",
       "0  2019 will see gadgets like gaming smartphones ...\n",
       "1  It has also unleashed a wave of changes in the...\n",
       "2  It can be confusing to pick the right smartpho...\n",
       "3  The mobile application is integrated with a da...\n",
       "4  We have rounded up some of the gadgets that sh..."
      ]
     },
     "execution_count": 3,
     "metadata": {},
     "output_type": "execute_result"
    }
   ],
   "source": [
    "dt=pd.read_excel('Data_Test.xlsx')\n",
    "dt.head()"
   ]
  },
  {
   "cell_type": "code",
   "execution_count": 4,
   "id": "96f0d472",
   "metadata": {},
   "outputs": [
    {
     "data": {
      "text/plain": [
       "((7628, 2), (2748, 1))"
      ]
     },
     "execution_count": 4,
     "metadata": {},
     "output_type": "execute_result"
    }
   ],
   "source": [
    "df.shape,dt.shape"
   ]
  },
  {
   "cell_type": "code",
   "execution_count": 5,
   "id": "0b98ba75",
   "metadata": {},
   "outputs": [
    {
     "data": {
      "text/plain": [
       "1    2772\n",
       "2    1924\n",
       "0    1686\n",
       "3    1246\n",
       "Name: SECTION, dtype: int64"
      ]
     },
     "execution_count": 5,
     "metadata": {},
     "output_type": "execute_result"
    }
   ],
   "source": [
    "df['SECTION'].value_counts()"
   ]
  },
  {
   "cell_type": "code",
   "execution_count": 6,
   "id": "0031503c",
   "metadata": {},
   "outputs": [
    {
     "data": {
      "text/plain": [
       "'How formidable is the opposition alliance among Congress, Jharkhand Mukti Morcha (JMM) and Jharkhand Vikas Morcha (Prajatantrik)?'"
      ]
     },
     "execution_count": 6,
     "metadata": {},
     "output_type": "execute_result"
    }
   ],
   "source": [
    "df['STORY'][1]"
   ]
  },
  {
   "cell_type": "code",
   "execution_count": 7,
   "id": "3afb4697",
   "metadata": {},
   "outputs": [],
   "source": [
    "#removing numbers and other special characters\n",
    "def noise_removal(text):\n",
    "    return re.sub('[^A-Za-z]+',' ',text)\n",
    "df['STORY']=df['STORY'].apply(noise_removal)\n",
    "dt['STORY']=dt['STORY'].apply(noise_removal)"
   ]
  },
  {
   "cell_type": "code",
   "execution_count": 8,
   "id": "c9883e6b",
   "metadata": {},
   "outputs": [
    {
     "name": "stdout",
     "output_type": "stream",
     "text": [
      "                                                  STORY  SECTION\n",
      "0     but the most painful was the huge reversal in ...        3\n",
      "1     how formidable is the opposition alliance amon...        0\n",
      "2     most asian currencies were trading lower today...        3\n",
      "3     if you want to answer any question click on an...        1\n",
      "4     in global markets gold prices edged up today a...        3\n",
      "...                                                 ...      ...\n",
      "7623  karnataka has been a congress bastion but it a...        0\n",
      "7624  the film which also features janhvi kapoor wil...        2\n",
      "7625  the database has been created after bringing t...        1\n",
      "7626  the state which has had an uneasy relationship...        0\n",
      "7627  virus stars kunchacko boban tovino thomas indr...        2\n",
      "\n",
      "[7628 rows x 2 columns]\n"
     ]
    }
   ],
   "source": [
    "#converting all of the texts to lower case\n",
    "def lower_case(text):\n",
    "    return text.lower()\n",
    "df['STORY']=df['STORY'].apply(lower_case)\n",
    "dt['STORY']=dt['STORY'].apply(lower_case)\n",
    "print(df)"
   ]
  },
  {
   "cell_type": "code",
   "execution_count": 9,
   "id": "f53bb3c3",
   "metadata": {},
   "outputs": [
    {
     "name": "stdout",
     "output_type": "stream",
     "text": [
      "                                                  STORY  SECTION\n",
      "0     [but, the, most, painful, was, the, huge, reve...        3\n",
      "1     [how, formidable, is, the, opposition, allianc...        0\n",
      "2     [most, asian, currencies, were, trading, lower...        3\n",
      "3     [if, you, want, to, answer, any, question, cli...        1\n",
      "4     [in, global, markets, gold, prices, edged, up,...        3\n",
      "...                                                 ...      ...\n",
      "7623  [karnataka, has, been, a, congress, bastion, b...        0\n",
      "7624  [the, film, which, also, features, janhvi, kap...        2\n",
      "7625  [the, database, has, been, created, after, bri...        1\n",
      "7626  [the, state, which, has, had, an, uneasy, rela...        0\n",
      "7627  [virus, stars, kunchacko, boban, tovino, thoma...        2\n",
      "\n",
      "[7628 rows x 2 columns]\n"
     ]
    }
   ],
   "source": [
    "#tokenizing each news into list of words\n",
    "def tokenizing(tokens):\n",
    "    return word_tokenize(tokens)\n",
    "df['STORY']=df['STORY'].apply(tokenizing)\n",
    "dt['STORY']=dt['STORY'].apply(tokenizing)\n",
    "print(df)"
   ]
  },
  {
   "cell_type": "code",
   "execution_count": 10,
   "id": "814c1cef",
   "metadata": {},
   "outputs": [
    {
     "name": "stdout",
     "output_type": "stream",
     "text": [
      "0       [but, the, most, painful, was, the, huge, reve...\n",
      "1       [how, formidable, is, the, opposition, allianc...\n",
      "2       [most, asian, currencies, were, trading, lower...\n",
      "3       [if, you, want, to, answer, any, question, cli...\n",
      "4       [in, global, markets, gold, prices, edged, up,...\n",
      "                              ...                        \n",
      "7623    [karnataka, has, been, congress, bastion, but,...\n",
      "7624    [the, film, which, also, features, janhvi, kap...\n",
      "7625    [the, database, has, been, created, after, bri...\n",
      "7626    [the, state, which, has, had, an, uneasy, rela...\n",
      "7627    [virus, stars, kunchacko, boban, tovino, thoma...\n",
      "Name: STORY, Length: 7628, dtype: object\n"
     ]
    }
   ],
   "source": [
    "#removing single-lettered words\n",
    "def single_letter(text):\n",
    "    for i in text:\n",
    "        if len(i)==1:\n",
    "            text.remove(i)\n",
    "    return text\n",
    "df['STORY']=df['STORY'].apply(single_letter)\n",
    "dt['STORY']=dt['STORY'].apply(single_letter)\n",
    "print(df['STORY'])"
   ]
  },
  {
   "cell_type": "code",
   "execution_count": 11,
   "id": "246ff04f",
   "metadata": {},
   "outputs": [
    {
     "name": "stdout",
     "output_type": "stream",
     "text": [
      "0       but the most painful was the huge reversal in ...\n",
      "1       how formidable is the opposition alliance amon...\n",
      "2       most asian currencies were trading lower today...\n",
      "3       if you want to answer any question click on an...\n",
      "4       in global markets gold prices edged up today a...\n",
      "                              ...                        \n",
      "7623    karnataka has been congress bastion but it als...\n",
      "7624    the film which also features janhvi kapoor wil...\n",
      "7625    the database has been created after bringing t...\n",
      "7626    the state which has had an uneasy relationship...\n",
      "7627    virus stars kunchacko boban tovino thomas indr...\n",
      "Name: STORY, Length: 7628, dtype: object\n"
     ]
    }
   ],
   "source": [
    "def convert_to_string(text):\n",
    "    return ' '.join(text)\n",
    "df['STORY']=df['STORY'].apply(convert_to_string)\n",
    "dt['STORY']=dt['STORY'].apply(convert_to_string)\n",
    "print(df['STORY'])"
   ]
  },
  {
   "cell_type": "code",
   "execution_count": 12,
   "id": "3a33ba52",
   "metadata": {},
   "outputs": [],
   "source": [
    "#removing english stop-words\n",
    "def stopword_remover(no_punc_text):\n",
    "    words = no_punc_text.split()\n",
    "    no_stp_words = \" \".join([i for i in words if i not in ENGLISH_STOP_WORDS])\n",
    "    return no_stp_words\n",
    "df['STORY']=df['STORY'].apply(stopword_remover)\n",
    "dt['STORY']=dt['STORY'].apply(stopword_remover)"
   ]
  },
  {
   "cell_type": "code",
   "execution_count": 13,
   "id": "a511cd8d",
   "metadata": {},
   "outputs": [],
   "source": [
    "#lemmetizing words of each sentence\n",
    "from nltk.stem import WordNetLemmatizer\n",
    "def lemmatizer(text):\n",
    "    lemmatizer = WordNetLemmatizer()\n",
    "    return lemmatizer.lemmatize(text)\n",
    "df['STORY']=df['STORY'].apply(lemmatizer)\n",
    "dt['STORY']=dt['STORY'].apply(lemmatizer)\n"
   ]
  },
  {
   "cell_type": "code",
   "execution_count": 14,
   "id": "1f0a1f80",
   "metadata": {},
   "outputs": [
    {
     "data": {
      "text/plain": [
       "'painful huge reversal fee income unheard private sector lenders essentially means yes bank took granted fees structured loan deals paid accounted upfront books borrowers turned defaulters fees tied loan deals fell cracks gill vowed shift safer accounting practice amortizing fee income booking upfront gill mend past ways means nasty surprises future good news considering investors love clean image loathe uncertainties gain pain promise strong stable balance sheet comes sacrifices investors hopes phenomenal growth promise kapoor'"
      ]
     },
     "execution_count": 14,
     "metadata": {},
     "output_type": "execute_result"
    }
   ],
   "source": [
    "#inspecting preprocessed data\n",
    "df['STORY'][0]"
   ]
  },
  {
   "cell_type": "code",
   "execution_count": 15,
   "id": "7be7b90d",
   "metadata": {
    "scrolled": true
   },
   "outputs": [
    {
     "data": {
      "text/plain": [
       "'gadgets like gaming smartphones wearable medical devices lifting user experience new level mint india wire consumer technologyconsumer technology trends new yeartech gadgetsfoldable phonesgaming smartphoneswearable medical devicestechnology new delhi gadgets integral lives relying form factor communicate commute work informed entertained year gadgets lifting user experience new level expect smartphones foldable screens foldable phones finally moving concept stage commercial launches organic light emitting diode oled panels higher plastic substrates allowing bent damage based display maker royole corp foldable phone flexpai arrived select markets samsung unnamed foldable phone expected year samsung smartphone chief executive officer j koh said make million units lg expected display foldable phone year apple nokia lenovo huawei working foldable phones reportedly esim soon smartphone won need physical sim card anymore esim technology used apple iphones apple watch replaces physical sim virtually embedded chip motherboard esims support multiple mobile operators programmed switch services'"
      ]
     },
     "execution_count": 15,
     "metadata": {},
     "output_type": "execute_result"
    }
   ],
   "source": [
    "dt['STORY'][0]"
   ]
  },
  {
   "cell_type": "code",
   "execution_count": 16,
   "id": "257414a6",
   "metadata": {},
   "outputs": [],
   "source": [
    "x=df.copy(deep=True)"
   ]
  },
  {
   "cell_type": "code",
   "execution_count": 17,
   "id": "c1b2eff7",
   "metadata": {},
   "outputs": [
    {
     "data": {
      "text/plain": [
       "30678"
      ]
     },
     "execution_count": 17,
     "metadata": {},
     "output_type": "execute_result"
    }
   ],
   "source": [
    "from sklearn.feature_extraction.text import CountVectorizer\n",
    "\n",
    "#Creating a bag-of-words dictionary of words from the data\n",
    "bow_dictionary = CountVectorizer().fit(x['STORY'])\n",
    "\n",
    "#Total number of words in the bow_dictionary\n",
    "len(bow_dictionary.vocabulary_)"
   ]
  },
  {
   "cell_type": "code",
   "execution_count": 18,
   "id": "dd8fdb32",
   "metadata": {},
   "outputs": [],
   "source": [
    "bow = bow_dictionary.transform(x['STORY'])"
   ]
  },
  {
   "cell_type": "code",
   "execution_count": 19,
   "id": "19b3242c",
   "metadata": {},
   "outputs": [
    {
     "data": {
      "text/plain": [
       "(7628, 30678)"
      ]
     },
     "execution_count": 19,
     "metadata": {},
     "output_type": "execute_result"
    }
   ],
   "source": [
    "bow.shape"
   ]
  },
  {
   "cell_type": "code",
   "execution_count": 20,
   "id": "772e87ad",
   "metadata": {},
   "outputs": [],
   "source": [
    "from sklearn.feature_extraction.text import TfidfTransformer\n",
    "\n",
    "#Fitting the bag of words data to the TF-IDF transformer\n",
    "tfidf_transformer = TfidfTransformer().fit(bow)\n",
    "\n",
    "#Transforming the bag of words model to TF-IDF vectors\n",
    "x = tfidf_transformer.transform(bow)"
   ]
  },
  {
   "cell_type": "code",
   "execution_count": 21,
   "id": "1d52f8ac",
   "metadata": {},
   "outputs": [
    {
     "data": {
      "text/plain": [
       "(7628, 30678)"
      ]
     },
     "execution_count": 21,
     "metadata": {},
     "output_type": "execute_result"
    }
   ],
   "source": [
    "y=df['SECTION']\n",
    "x.shape"
   ]
  },
  {
   "cell_type": "code",
   "execution_count": 22,
   "id": "f01eb115",
   "metadata": {},
   "outputs": [],
   "source": [
    "from sklearn.linear_model import LogisticRegression\n",
    "from sklearn.tree import DecisionTreeClassifier\n",
    "from sklearn.neighbors import KNeighborsClassifier\n",
    "from sklearn.linear_model import LogisticRegression\n",
    "from sklearn.ensemble import RandomForestClassifier\n",
    "from sklearn.naive_bayes import MultinomialNB\n",
    "from sklearn.ensemble import GradientBoostingClassifier\n",
    "from xgboost import XGBClassifier\n",
    "from sklearn.model_selection import train_test_split,cross_val_score"
   ]
  },
  {
   "cell_type": "code",
   "execution_count": 23,
   "id": "bdde9ca4",
   "metadata": {},
   "outputs": [],
   "source": [
    "clf1=LogisticRegression()\n",
    "clf2=DecisionTreeClassifier()\n",
    "clf3=RandomForestClassifier()\n",
    "clf4=KNeighborsClassifier()\n",
    "clf5=MultinomialNB()"
   ]
  },
  {
   "cell_type": "code",
   "execution_count": 24,
   "id": "a8f4c427",
   "metadata": {},
   "outputs": [
    {
     "name": "stdout",
     "output_type": "stream",
     "text": [
      "LogR Avg Score: 0.9648661237994972  Variance error:  0.23395572111595372\n",
      "DT Avg Score: 0.871133274606278  Variance error:  1.1568747247899385\n",
      "RF Avg Score: 0.9503152783447565  Variance error:  0.32359624345412363\n",
      "KNN Avg Score: 0.9483484089981307  Variance error:  0.615430290602856\n",
      "MultinomialNB Avg Score: 0.9478245063704531  Variance error:  0.4633600933509256\n"
     ]
    }
   ],
   "source": [
    "from sklearn.model_selection import cross_val_score\n",
    "mod=[clf1,clf2,clf3,clf4,clf5]\n",
    "mod_name=['LogR','DT','RF','KNN','MultinomialNB']\n",
    "for  i ,j in zip(mod,mod_name):\n",
    "    score=cross_val_score(i,x,y,cv=5)\n",
    "    avg_score=np.mean(score)\n",
    "    var_score=np.std(score)/np.mean(score)*100\n",
    "    print(j,'Avg Score:',avg_score, ' Variance error: ',var_score)"
   ]
  },
  {
   "cell_type": "code",
   "execution_count": 25,
   "id": "cc31499f",
   "metadata": {},
   "outputs": [
    {
     "name": "stdout",
     "output_type": "stream",
     "text": [
      "accuracy score: 0.9702927042376583\n"
     ]
    }
   ],
   "source": [
    "x_train,x_test,y_train,y_test=train_test_split(x, y,test_size=0.3,random_state=123,stratify=y)\n",
    "log_reg=LogisticRegression().fit(x_train,y_train)\n",
    "y_predict=log_reg.predict(x_test)\n",
    "print('accuracy score:',accuracy_score(y_predict,y_test))"
   ]
  },
  {
   "cell_type": "code",
   "execution_count": 28,
   "id": "8983f9a2",
   "metadata": {},
   "outputs": [
    {
     "data": {
      "text/plain": [
       "<AxesSubplot:>"
      ]
     },
     "execution_count": 28,
     "metadata": {},
     "output_type": "execute_result"
    },
    {
     "data": {
      "image/png": "[encoded data removed]",
      "text/plain": [
       "<Figure size 432x288 with 2 Axes>"
      ]
     },
     "metadata": {
      "needs_background": "light"
     },
     "output_type": "display_data"
    }
   ],
   "source": [
    "from sklearn.metrics import confusion_matrix\n",
    "sns.heatmap(confusion_matrix(y_test,y_predict),annot=True,fmt='d')"
   ]
  },
  {
   "cell_type": "code",
   "execution_count": 218,
   "id": "83f3266c",
   "metadata": {},
   "outputs": [],
   "source": [
    "from sklearn.pipeline import Pipeline\n",
    "#Initializing the pipeline with necessary transformations and the required classifier\n",
    "pipe = Pipeline([\n",
    "('bow', CountVectorizer()),\n",
    "('tfidf', TfidfTransformer()),\n",
    "('classifier', LogisticRegression())])"
   ]
  },
  {
   "cell_type": "code",
   "execution_count": 219,
   "id": "bea7d0fb",
   "metadata": {},
   "outputs": [
    {
     "data": {
      "text/plain": [
       "Pipeline(steps=[('bow', CountVectorizer()), ('tfidf', TfidfTransformer()),\n",
       "                ('classifier', LogisticRegression())])"
      ]
     },
     "execution_count": 219,
     "metadata": {},
     "output_type": "execute_result"
    }
   ],
   "source": [
    "pipe.fit(df['STORY'],df['SECTION'])"
   ]
  },
  {
   "cell_type": "code",
   "execution_count": 220,
   "id": "b67f1bca",
   "metadata": {},
   "outputs": [],
   "source": [
    "prediction=pipe.predict(dt['STORY'])"
   ]
  },
  {
   "cell_type": "code",
   "execution_count": 221,
   "id": "62ed05dc",
   "metadata": {},
   "outputs": [
    {
     "data": {
      "text/plain": [
       "SECTION\n",
       "1          1194\n",
       "2           844\n",
       "0           410\n",
       "3           300\n",
       "dtype: int64"
      ]
     },
     "execution_count": 221,
     "metadata": {},
     "output_type": "execute_result"
    }
   ],
   "source": [
    "pd.DataFrame(prediction, columns = ['SECTION']).value_counts()"
   ]
  },
  {
   "cell_type": "code",
   "execution_count": null,
   "id": "6e1aba77",
   "metadata": {},
   "outputs": [],
   "source": []
  }
 ],
 "metadata": {
  "kernelspec": {
   "display_name": "Python 3",
   "language": "python",
   "name": "python3"
  },
  "language_info": {
   "codemirror_mode": {
    "name": "ipython",
    "version": 3
   },
   "file_extension": ".py",
   "mimetype": "text/x-python",
   "name": "python",
   "nbconvert_exporter": "python",
   "pygments_lexer": "ipython3",
   "version": "3.8.8"
  }
 },
 "nbformat": 4,
 "nbformat_minor": 5
}
