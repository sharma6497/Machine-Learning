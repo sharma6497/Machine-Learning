{
 "cells": [
  {
   "cell_type": "markdown",
   "metadata": {},
   "source": [
    "1. Variable \tDefinition\n",
    "2. id \tUnique ID for the customer\n",
    "3. Gender \tGender of the customer\n",
    "4. Age \tAge of the customer\n",
    "5. Driving_License \t0 : Customer does not have DL, 1 : Customer already has DL\n",
    "6. Region_Code \tUnique code for the region of the customer\n",
    "7. Previously_Insured \t1 : Customer already has Vehicle Insurance, 0 : Customer doesn't have Vehicle Insurance\n",
    "8. Vehicle_Age \tAge of the Vehicle\n",
    "9. Vehicle_Damage \t1 : Customer got his/her vehicle damaged in the past. 0 : Customer didn't get his/her vehicle damaged in the past.\n",
    "10. Annual_Premium \tThe amount customer needs to pay as premium in the year\n",
    "11. PolicySalesChannel \tAnonymized Code for the channel of outreaching to the customer ie. Different Agents, Over Mail, Over Phone, In Person, etc.\n",
    "12. Vintage \tNumber of Days, Customer has been associated with the company\n",
    "13. Response \t1 : Customer is interested, 0 : Customer is not interested"
   ]
  },
  {
   "cell_type": "code",
   "execution_count": 2,
   "metadata": {
    "execution": {
     "iopub.execute_input": "2021-08-11T13:56:58.935164Z",
     "iopub.status.busy": "2021-08-11T13:56:58.934654Z",
     "iopub.status.idle": "2021-08-11T13:57:00.538595Z",
     "shell.execute_reply": "2021-08-11T13:57:00.537678Z",
     "shell.execute_reply.started": "2021-08-11T13:56:58.935132Z"
    }
   },
   "outputs": [],
   "source": [
    "import numpy as np\n",
    "import pandas as pd \n",
    "import matplotlib.pyplot as plt\n",
    "import seaborn as sns\n",
    "import warnings\n",
    "from sklearn.model_selection import train_test_split\n",
    "from imblearn.over_sampling import SMOTE\n",
    "from sklearn.linear_model import LogisticRegression\n",
    "from sklearn.metrics import roc_auc_score,roc_curve\n",
    "from sklearn.metrics import confusion_matrix,classification_report\n",
    "from sklearn.model_selection import  cross_val_score,KFold\n",
    "from sklearn.ensemble import BaggingClassifier\n",
    "from sklearn.neighbors import KNeighborsClassifier\n",
    "from sklearn.ensemble import RandomForestClassifier\n",
    "from sklearn.ensemble import GradientBoostingClassifier,StackingClassifier\n",
    "from xgboost import XGBClassifier\n",
    "warnings.filterwarnings(\"ignore\")"
   ]
  },
  {
   "cell_type": "markdown",
   "metadata": {},
   "source": [
    "## Importing Data"
   ]
  },
  {
   "cell_type": "code",
   "execution_count": 3,
   "metadata": {
    "execution": {
     "iopub.execute_input": "2021-08-11T13:57:00.540537Z",
     "iopub.status.busy": "2021-08-11T13:57:00.540094Z",
     "iopub.status.idle": "2021-08-11T13:57:01.336292Z",
     "shell.execute_reply": "2021-08-11T13:57:01.335618Z",
     "shell.execute_reply.started": "2021-08-11T13:57:00.540505Z"
    }
   },
   "outputs": [
    {
     "data": {
      "text/html": [
       "<div>\n",
       "<style scoped>\n",
       "    .dataframe tbody tr th:only-of-type {\n",
       "        vertical-align: middle;\n",
       "    }\n",
       "\n",
       "    .dataframe tbody tr th {\n",
       "        vertical-align: top;\n",
       "    }\n",
       "\n",
       "    .dataframe thead th {\n",
       "        text-align: right;\n",
       "    }\n",
       "</style>\n",
       "<table border=\"1\" class=\"dataframe\">\n",
       "  <thead>\n",
       "    <tr style=\"text-align: right;\">\n",
       "      <th></th>\n",
       "      <th>id</th>\n",
       "      <th>Gender</th>\n",
       "      <th>Age</th>\n",
       "      <th>Driving_License</th>\n",
       "      <th>Region_Code</th>\n",
       "      <th>Previously_Insured</th>\n",
       "      <th>Vehicle_Age</th>\n",
       "      <th>Vehicle_Damage</th>\n",
       "      <th>Annual_Premium</th>\n",
       "      <th>Policy_Sales_Channel</th>\n",
       "      <th>Vintage</th>\n",
       "      <th>Response</th>\n",
       "    </tr>\n",
       "  </thead>\n",
       "  <tbody>\n",
       "    <tr>\n",
       "      <th>0</th>\n",
       "      <td>1</td>\n",
       "      <td>Male</td>\n",
       "      <td>44</td>\n",
       "      <td>1</td>\n",
       "      <td>28.0</td>\n",
       "      <td>0</td>\n",
       "      <td>&gt; 2 Years</td>\n",
       "      <td>Yes</td>\n",
       "      <td>40454.0</td>\n",
       "      <td>26.0</td>\n",
       "      <td>217</td>\n",
       "      <td>1</td>\n",
       "    </tr>\n",
       "    <tr>\n",
       "      <th>1</th>\n",
       "      <td>2</td>\n",
       "      <td>Male</td>\n",
       "      <td>76</td>\n",
       "      <td>1</td>\n",
       "      <td>3.0</td>\n",
       "      <td>0</td>\n",
       "      <td>1-2 Year</td>\n",
       "      <td>No</td>\n",
       "      <td>33536.0</td>\n",
       "      <td>26.0</td>\n",
       "      <td>183</td>\n",
       "      <td>0</td>\n",
       "    </tr>\n",
       "    <tr>\n",
       "      <th>2</th>\n",
       "      <td>3</td>\n",
       "      <td>Male</td>\n",
       "      <td>47</td>\n",
       "      <td>1</td>\n",
       "      <td>28.0</td>\n",
       "      <td>0</td>\n",
       "      <td>&gt; 2 Years</td>\n",
       "      <td>Yes</td>\n",
       "      <td>38294.0</td>\n",
       "      <td>26.0</td>\n",
       "      <td>27</td>\n",
       "      <td>1</td>\n",
       "    </tr>\n",
       "    <tr>\n",
       "      <th>3</th>\n",
       "      <td>4</td>\n",
       "      <td>Male</td>\n",
       "      <td>21</td>\n",
       "      <td>1</td>\n",
       "      <td>11.0</td>\n",
       "      <td>1</td>\n",
       "      <td>&lt; 1 Year</td>\n",
       "      <td>No</td>\n",
       "      <td>28619.0</td>\n",
       "      <td>152.0</td>\n",
       "      <td>203</td>\n",
       "      <td>0</td>\n",
       "    </tr>\n",
       "    <tr>\n",
       "      <th>4</th>\n",
       "      <td>5</td>\n",
       "      <td>Female</td>\n",
       "      <td>29</td>\n",
       "      <td>1</td>\n",
       "      <td>41.0</td>\n",
       "      <td>1</td>\n",
       "      <td>&lt; 1 Year</td>\n",
       "      <td>No</td>\n",
       "      <td>27496.0</td>\n",
       "      <td>152.0</td>\n",
       "      <td>39</td>\n",
       "      <td>0</td>\n",
       "    </tr>\n",
       "  </tbody>\n",
       "</table>\n",
       "</div>"
      ],
      "text/plain": [
       "   id  Gender  Age  Driving_License  Region_Code  Previously_Insured  \\\n",
       "0   1    Male   44                1         28.0                   0   \n",
       "1   2    Male   76                1          3.0                   0   \n",
       "2   3    Male   47                1         28.0                   0   \n",
       "3   4    Male   21                1         11.0                   1   \n",
       "4   5  Female   29                1         41.0                   1   \n",
       "\n",
       "  Vehicle_Age Vehicle_Damage  Annual_Premium  Policy_Sales_Channel  Vintage  \\\n",
       "0   > 2 Years            Yes         40454.0                  26.0      217   \n",
       "1    1-2 Year             No         33536.0                  26.0      183   \n",
       "2   > 2 Years            Yes         38294.0                  26.0       27   \n",
       "3    < 1 Year             No         28619.0                 152.0      203   \n",
       "4    < 1 Year             No         27496.0                 152.0       39   \n",
       "\n",
       "   Response  \n",
       "0         1  \n",
       "1         0  \n",
       "2         1  \n",
       "3         0  \n",
       "4         0  "
      ]
     },
     "execution_count": 3,
     "metadata": {},
     "output_type": "execute_result"
    }
   ],
   "source": [
    "df=pd.read_csv('train.csv')\n",
    "df.head()"
   ]
  },
  {
   "cell_type": "code",
   "execution_count": 4,
   "metadata": {
    "execution": {
     "iopub.execute_input": "2021-08-11T13:57:01.337874Z",
     "iopub.status.busy": "2021-08-11T13:57:01.337456Z",
     "iopub.status.idle": "2021-08-11T13:57:01.343139Z",
     "shell.execute_reply": "2021-08-11T13:57:01.341956Z",
     "shell.execute_reply.started": "2021-08-11T13:57:01.337845Z"
    }
   },
   "outputs": [
    {
     "data": {
      "text/plain": [
       "(381109, 12)"
      ]
     },
     "execution_count": 4,
     "metadata": {},
     "output_type": "execute_result"
    }
   ],
   "source": [
    "df.shape #inspecting rows and columns"
   ]
  },
  {
   "cell_type": "code",
   "execution_count": 5,
   "metadata": {
    "execution": {
     "iopub.execute_input": "2021-08-11T13:57:01.344626Z",
     "iopub.status.busy": "2021-08-11T13:57:01.344347Z",
     "iopub.status.idle": "2021-08-11T13:57:01.497902Z",
     "shell.execute_reply": "2021-08-11T13:57:01.496755Z",
     "shell.execute_reply.started": "2021-08-11T13:57:01.344599Z"
    }
   },
   "outputs": [
    {
     "name": "stdout",
     "output_type": "stream",
     "text": [
      "<class 'pandas.core.frame.DataFrame'>\n",
      "RangeIndex: 381109 entries, 0 to 381108\n",
      "Data columns (total 12 columns):\n",
      " #   Column                Non-Null Count   Dtype  \n",
      "---  ------                --------------   -----  \n",
      " 0   id                    381109 non-null  int64  \n",
      " 1   Gender                381109 non-null  object \n",
      " 2   Age                   381109 non-null  int64  \n",
      " 3   Driving_License       381109 non-null  int64  \n",
      " 4   Region_Code           381109 non-null  float64\n",
      " 5   Previously_Insured    381109 non-null  int64  \n",
      " 6   Vehicle_Age           381109 non-null  object \n",
      " 7   Vehicle_Damage        381109 non-null  object \n",
      " 8   Annual_Premium        381109 non-null  float64\n",
      " 9   Policy_Sales_Channel  381109 non-null  float64\n",
      " 10  Vintage               381109 non-null  int64  \n",
      " 11  Response              381109 non-null  int64  \n",
      "dtypes: float64(3), int64(6), object(3)\n",
      "memory usage: 34.9+ MB\n"
     ]
    }
   ],
   "source": [
    "df.info() #checking datatypes"
   ]
  },
  {
   "cell_type": "markdown",
   "metadata": {},
   "source": [
    "There are  9 numeric variables and 3 categorical variables in the data."
   ]
  },
  {
   "cell_type": "markdown",
   "metadata": {},
   "source": [
    "## EDA"
   ]
  },
  {
   "cell_type": "code",
   "execution_count": 6,
   "metadata": {
    "execution": {
     "iopub.execute_input": "2021-08-11T13:57:01.501170Z",
     "iopub.status.busy": "2021-08-11T13:57:01.500844Z",
     "iopub.status.idle": "2021-08-11T13:57:01.723844Z",
     "shell.execute_reply": "2021-08-11T13:57:01.722864Z",
     "shell.execute_reply.started": "2021-08-11T13:57:01.501140Z"
    }
   },
   "outputs": [
    {
     "data": {
      "text/html": [
       "<div>\n",
       "<style scoped>\n",
       "    .dataframe tbody tr th:only-of-type {\n",
       "        vertical-align: middle;\n",
       "    }\n",
       "\n",
       "    .dataframe tbody tr th {\n",
       "        vertical-align: top;\n",
       "    }\n",
       "\n",
       "    .dataframe thead th {\n",
       "        text-align: right;\n",
       "    }\n",
       "</style>\n",
       "<table border=\"1\" class=\"dataframe\">\n",
       "  <thead>\n",
       "    <tr style=\"text-align: right;\">\n",
       "      <th></th>\n",
       "      <th>id</th>\n",
       "      <th>Age</th>\n",
       "      <th>Driving_License</th>\n",
       "      <th>Region_Code</th>\n",
       "      <th>Previously_Insured</th>\n",
       "      <th>Annual_Premium</th>\n",
       "      <th>Policy_Sales_Channel</th>\n",
       "      <th>Vintage</th>\n",
       "      <th>Response</th>\n",
       "    </tr>\n",
       "  </thead>\n",
       "  <tbody>\n",
       "    <tr>\n",
       "      <th>count</th>\n",
       "      <td>381109.000000</td>\n",
       "      <td>381109.000000</td>\n",
       "      <td>381109.000000</td>\n",
       "      <td>381109.000000</td>\n",
       "      <td>381109.000000</td>\n",
       "      <td>381109.000000</td>\n",
       "      <td>381109.000000</td>\n",
       "      <td>381109.000000</td>\n",
       "      <td>381109.000000</td>\n",
       "    </tr>\n",
       "    <tr>\n",
       "      <th>mean</th>\n",
       "      <td>190555.000000</td>\n",
       "      <td>38.822584</td>\n",
       "      <td>0.997869</td>\n",
       "      <td>26.388807</td>\n",
       "      <td>0.458210</td>\n",
       "      <td>30564.389581</td>\n",
       "      <td>112.034295</td>\n",
       "      <td>154.347397</td>\n",
       "      <td>0.122563</td>\n",
       "    </tr>\n",
       "    <tr>\n",
       "      <th>std</th>\n",
       "      <td>110016.836208</td>\n",
       "      <td>15.511611</td>\n",
       "      <td>0.046110</td>\n",
       "      <td>13.229888</td>\n",
       "      <td>0.498251</td>\n",
       "      <td>17213.155057</td>\n",
       "      <td>54.203995</td>\n",
       "      <td>83.671304</td>\n",
       "      <td>0.327936</td>\n",
       "    </tr>\n",
       "    <tr>\n",
       "      <th>min</th>\n",
       "      <td>1.000000</td>\n",
       "      <td>20.000000</td>\n",
       "      <td>0.000000</td>\n",
       "      <td>0.000000</td>\n",
       "      <td>0.000000</td>\n",
       "      <td>2630.000000</td>\n",
       "      <td>1.000000</td>\n",
       "      <td>10.000000</td>\n",
       "      <td>0.000000</td>\n",
       "    </tr>\n",
       "    <tr>\n",
       "      <th>25%</th>\n",
       "      <td>95278.000000</td>\n",
       "      <td>25.000000</td>\n",
       "      <td>1.000000</td>\n",
       "      <td>15.000000</td>\n",
       "      <td>0.000000</td>\n",
       "      <td>24405.000000</td>\n",
       "      <td>29.000000</td>\n",
       "      <td>82.000000</td>\n",
       "      <td>0.000000</td>\n",
       "    </tr>\n",
       "    <tr>\n",
       "      <th>50%</th>\n",
       "      <td>190555.000000</td>\n",
       "      <td>36.000000</td>\n",
       "      <td>1.000000</td>\n",
       "      <td>28.000000</td>\n",
       "      <td>0.000000</td>\n",
       "      <td>31669.000000</td>\n",
       "      <td>133.000000</td>\n",
       "      <td>154.000000</td>\n",
       "      <td>0.000000</td>\n",
       "    </tr>\n",
       "    <tr>\n",
       "      <th>75%</th>\n",
       "      <td>285832.000000</td>\n",
       "      <td>49.000000</td>\n",
       "      <td>1.000000</td>\n",
       "      <td>35.000000</td>\n",
       "      <td>1.000000</td>\n",
       "      <td>39400.000000</td>\n",
       "      <td>152.000000</td>\n",
       "      <td>227.000000</td>\n",
       "      <td>0.000000</td>\n",
       "    </tr>\n",
       "    <tr>\n",
       "      <th>max</th>\n",
       "      <td>381109.000000</td>\n",
       "      <td>85.000000</td>\n",
       "      <td>1.000000</td>\n",
       "      <td>52.000000</td>\n",
       "      <td>1.000000</td>\n",
       "      <td>540165.000000</td>\n",
       "      <td>163.000000</td>\n",
       "      <td>299.000000</td>\n",
       "      <td>1.000000</td>\n",
       "    </tr>\n",
       "  </tbody>\n",
       "</table>\n",
       "</div>"
      ],
      "text/plain": [
       "                  id            Age  Driving_License    Region_Code  \\\n",
       "count  381109.000000  381109.000000    381109.000000  381109.000000   \n",
       "mean   190555.000000      38.822584         0.997869      26.388807   \n",
       "std    110016.836208      15.511611         0.046110      13.229888   \n",
       "min         1.000000      20.000000         0.000000       0.000000   \n",
       "25%     95278.000000      25.000000         1.000000      15.000000   \n",
       "50%    190555.000000      36.000000         1.000000      28.000000   \n",
       "75%    285832.000000      49.000000         1.000000      35.000000   \n",
       "max    381109.000000      85.000000         1.000000      52.000000   \n",
       "\n",
       "       Previously_Insured  Annual_Premium  Policy_Sales_Channel  \\\n",
       "count       381109.000000   381109.000000         381109.000000   \n",
       "mean             0.458210    30564.389581            112.034295   \n",
       "std              0.498251    17213.155057             54.203995   \n",
       "min              0.000000     2630.000000              1.000000   \n",
       "25%              0.000000    24405.000000             29.000000   \n",
       "50%              0.000000    31669.000000            133.000000   \n",
       "75%              1.000000    39400.000000            152.000000   \n",
       "max              1.000000   540165.000000            163.000000   \n",
       "\n",
       "             Vintage       Response  \n",
       "count  381109.000000  381109.000000  \n",
       "mean      154.347397       0.122563  \n",
       "std        83.671304       0.327936  \n",
       "min        10.000000       0.000000  \n",
       "25%        82.000000       0.000000  \n",
       "50%       154.000000       0.000000  \n",
       "75%       227.000000       0.000000  \n",
       "max       299.000000       1.000000  "
      ]
     },
     "execution_count": 6,
     "metadata": {},
     "output_type": "execute_result"
    }
   ],
   "source": [
    "df.describe()"
   ]
  },
  {
   "cell_type": "markdown",
   "metadata": {},
   "source": [
    "1. *The average 'age' of customer falls between 38-39.*\n",
    "2. *The maximum 'age' of customer is '85' which indicates there may be outliers in the column.*\n",
    "3. *The maximum 'Annual_Premium' amount is '5,40,165' which is too far from third quantile indicating potential outliers in the column.*"
   ]
  },
  {
   "cell_type": "code",
   "execution_count": 7,
   "metadata": {
    "execution": {
     "iopub.execute_input": "2021-08-11T13:57:01.725731Z",
     "iopub.status.busy": "2021-08-11T13:57:01.725325Z",
     "iopub.status.idle": "2021-08-11T13:57:02.163437Z",
     "shell.execute_reply": "2021-08-11T13:57:02.162285Z",
     "shell.execute_reply.started": "2021-08-11T13:57:01.725689Z"
    }
   },
   "outputs": [
    {
     "data": {
      "text/html": [
       "<div>\n",
       "<style scoped>\n",
       "    .dataframe tbody tr th:only-of-type {\n",
       "        vertical-align: middle;\n",
       "    }\n",
       "\n",
       "    .dataframe tbody tr th {\n",
       "        vertical-align: top;\n",
       "    }\n",
       "\n",
       "    .dataframe thead th {\n",
       "        text-align: right;\n",
       "    }\n",
       "</style>\n",
       "<table border=\"1\" class=\"dataframe\">\n",
       "  <thead>\n",
       "    <tr style=\"text-align: right;\">\n",
       "      <th></th>\n",
       "      <th>Gender</th>\n",
       "      <th>Vehicle_Age</th>\n",
       "      <th>Vehicle_Damage</th>\n",
       "    </tr>\n",
       "  </thead>\n",
       "  <tbody>\n",
       "    <tr>\n",
       "      <th>count</th>\n",
       "      <td>381109</td>\n",
       "      <td>381109</td>\n",
       "      <td>381109</td>\n",
       "    </tr>\n",
       "    <tr>\n",
       "      <th>unique</th>\n",
       "      <td>2</td>\n",
       "      <td>3</td>\n",
       "      <td>2</td>\n",
       "    </tr>\n",
       "    <tr>\n",
       "      <th>top</th>\n",
       "      <td>Male</td>\n",
       "      <td>1-2 Year</td>\n",
       "      <td>Yes</td>\n",
       "    </tr>\n",
       "    <tr>\n",
       "      <th>freq</th>\n",
       "      <td>206089</td>\n",
       "      <td>200316</td>\n",
       "      <td>192413</td>\n",
       "    </tr>\n",
       "  </tbody>\n",
       "</table>\n",
       "</div>"
      ],
      "text/plain": [
       "        Gender Vehicle_Age Vehicle_Damage\n",
       "count   381109      381109         381109\n",
       "unique       2           3              2\n",
       "top       Male    1-2 Year            Yes\n",
       "freq    206089      200316         192413"
      ]
     },
     "execution_count": 7,
     "metadata": {},
     "output_type": "execute_result"
    }
   ],
   "source": [
    "df.describe(include='object')"
   ]
  },
  {
   "cell_type": "markdown",
   "metadata": {},
   "source": [
    "**Referring to the data description,**\n",
    "1. *'Male' gender seems to be more interested in getting insurance policies than 'Female'.*\n",
    "2. *More than 99% of the customers have Driving License.*\n",
    "3. *Most of the policy holders are new customers.*\n",
    "4. *Approximately 85% of the customers are not interested in getting vehicle insurance.*"
   ]
  },
  {
   "cell_type": "code",
   "execution_count": 8,
   "metadata": {
    "execution": {
     "iopub.execute_input": "2021-08-11T13:57:02.166738Z",
     "iopub.status.busy": "2021-08-11T13:57:02.166419Z",
     "iopub.status.idle": "2021-08-11T13:57:02.624365Z",
     "shell.execute_reply": "2021-08-11T13:57:02.623085Z",
     "shell.execute_reply.started": "2021-08-11T13:57:02.166708Z"
    }
   },
   "outputs": [
    {
     "data": {
      "image/png": "[encoded data removed]",
      "text/plain": [
       "<Figure size 1008x504 with 2 Axes>"
      ]
     },
     "metadata": {
      "needs_background": "light"
     },
     "output_type": "display_data"
    }
   ],
   "source": [
    "top_five_reg=df['Region_Code'].value_counts().head(5)\n",
    "top_five_chan=df['Policy_Sales_Channel'].value_counts().head(5)\n",
    "fig,ax=plt.subplots(nrows=1,ncols=2,figsize=(14,7))\n",
    "sns.barplot(x=top_five_reg.index,y=top_five_reg,ax=ax[0])\n",
    "ax[0].set_title('Top Five Region_code based on frequency')\n",
    "sns.barplot(x=top_five_chan.index,y=top_five_chan,ax=ax[1])\n",
    "ax[1].set_title('Top Five Policy_Sales_Channel based on frequency')\n",
    "plt.show()"
   ]
  },
  {
   "cell_type": "code",
   "execution_count": 9,
   "metadata": {
    "execution": {
     "iopub.execute_input": "2021-08-11T13:57:02.626822Z",
     "iopub.status.busy": "2021-08-11T13:57:02.626488Z",
     "iopub.status.idle": "2021-08-11T13:57:02.646745Z",
     "shell.execute_reply": "2021-08-11T13:57:02.645466Z",
     "shell.execute_reply.started": "2021-08-11T13:57:02.626768Z"
    }
   },
   "outputs": [
    {
     "data": {
      "text/plain": [
       "28.0    27.922458\n",
       "8.0      8.889058\n",
       "46.0     5.181982\n",
       "41.0     4.792067\n",
       "15.0     3.491914\n",
       "Name: Region_Code, dtype: float64"
      ]
     },
     "execution_count": 9,
     "metadata": {},
     "output_type": "execute_result"
    }
   ],
   "source": [
    "#calculating percentage of customers from top 5 regions\n",
    "df['Region_Code'].value_counts(ascending=False).head(5)/len(df)*100"
   ]
  },
  {
   "cell_type": "code",
   "execution_count": 10,
   "metadata": {
    "execution": {
     "iopub.execute_input": "2021-08-11T13:57:02.649331Z",
     "iopub.status.busy": "2021-08-11T13:57:02.648690Z",
     "iopub.status.idle": "2021-08-11T13:57:02.667695Z",
     "shell.execute_reply": "2021-08-11T13:57:02.666514Z",
     "shell.execute_reply.started": "2021-08-11T13:57:02.649283Z"
    }
   },
   "outputs": [
    {
     "data": {
      "text/plain": [
       "152.0    35.366260\n",
       "26.0     20.912652\n",
       "124.0    19.415705\n",
       "160.0     5.714638\n",
       "156.0     2.797362\n",
       "Name: Policy_Sales_Channel, dtype: float64"
      ]
     },
     "execution_count": 10,
     "metadata": {},
     "output_type": "execute_result"
    }
   ],
   "source": [
    "#calculating percentage of customers for top five channel\n",
    "df['Policy_Sales_Channel'].value_counts(ascending=False).head(5)/len(df)*100"
   ]
  },
  {
   "cell_type": "markdown",
   "metadata": {},
   "source": [
    "* *Nearly 28% of the customers are from region_code '28' which is remarkable given that next highest is region_code '8' with 8.88% of the customers.*\n",
    "* *55% of the customers  are represented by channnel 152 and 26*"
   ]
  },
  {
   "cell_type": "code",
   "execution_count": 11,
   "metadata": {
    "execution": {
     "iopub.execute_input": "2021-08-11T13:57:02.669885Z",
     "iopub.status.busy": "2021-08-11T13:57:02.669384Z",
     "iopub.status.idle": "2021-08-11T13:57:04.090976Z",
     "shell.execute_reply": "2021-08-11T13:57:04.090198Z",
     "shell.execute_reply.started": "2021-08-11T13:57:02.669833Z"
    }
   },
   "outputs": [
    {
     "data": {
      "image/png": "[encoded data removed]",
      "text/plain": [
       "<Figure size 648x576 with 2 Axes>"
      ]
     },
     "metadata": {
      "needs_background": "light"
     },
     "output_type": "display_data"
    }
   ],
   "source": [
    "fig,ax=plt.subplots(nrows=2,ncols=1,figsize=(9,8))\n",
    "sns.countplot(x='Vehicle_Age',hue='Response',data=df,ax=ax[0])\n",
    "ax[0].set_title('Customer Response vs age of the vehicle')\n",
    "sns.countplot(x='Vehicle_Damage',hue='Response',data=df,ax=ax[1])\n",
    "ax[1].set_title('Customer response on the basis of vehicle damage')\n",
    "plt.tight_layout()\n",
    "plt.show()"
   ]
  },
  {
   "cell_type": "markdown",
   "metadata": {},
   "source": [
    "1. *Vehicles between 1-2 years age are getting more number of vehicle insurance than the other two categories*\n",
    "2. *Customers are prone to apply vehicle insurance if their vehicle is damaged which is obvious from the second plot.*"
   ]
  },
  {
   "cell_type": "markdown",
   "metadata": {},
   "source": [
    "\n"
   ]
  },
  {
   "cell_type": "code",
   "execution_count": 12,
   "metadata": {
    "execution": {
     "iopub.execute_input": "2021-08-11T13:57:04.092514Z",
     "iopub.status.busy": "2021-08-11T13:57:04.092062Z",
     "iopub.status.idle": "2021-08-11T13:57:06.595879Z",
     "shell.execute_reply": "2021-08-11T13:57:06.594744Z",
     "shell.execute_reply.started": "2021-08-11T13:57:04.092470Z"
    }
   },
   "outputs": [
    {
     "data": {
      "image/png": "[encoded data removed]",
      "text/plain": [
       "<Figure size 864x432 with 1 Axes>"
      ]
     },
     "metadata": {
      "needs_background": "light"
     },
     "output_type": "display_data"
    }
   ],
   "source": [
    "plt.figure(figsize=(12,6))\n",
    "sns.distplot(df[df['Response']==1]['Age'],color='red')\n",
    "sns.distplot(df[df['Response']==0]['Age'],color='blue')\n",
    "plt.title('Distribution of Age with response')\n",
    "plt.legend([1,0])\n",
    "plt.show()"
   ]
  },
  {
   "cell_type": "markdown",
   "metadata": {},
   "source": [
    "**From the above plot,**\n",
    "* it is clear that most customers between age 30 to 60 are more interested in buying vehicle insurance.\n",
    "* Also customers with age less than 30 are more likely to reject vehicle insurance.\n",
    "* One of the reason can be that customers less than 30 may not be financially stable like customer above age 30."
   ]
  },
  {
   "cell_type": "code",
   "execution_count": 13,
   "metadata": {
    "execution": {
     "iopub.execute_input": "2021-08-11T13:57:06.597859Z",
     "iopub.status.busy": "2021-08-11T13:57:06.597427Z",
     "iopub.status.idle": "2021-08-11T13:57:06.801672Z",
     "shell.execute_reply": "2021-08-11T13:57:06.800871Z",
     "shell.execute_reply.started": "2021-08-11T13:57:06.597814Z"
    }
   },
   "outputs": [
    {
     "data": {
      "image/png": "[encoded data removed]",
      "text/plain": [
       "<Figure size 432x288 with 1 Axes>"
      ]
     },
     "metadata": {
      "needs_background": "light"
     },
     "output_type": "display_data"
    }
   ],
   "source": [
    "df['Policy_Sales_Channel'].hist() # histogram of Sales_Policy_Channel\n",
    "plt.show()"
   ]
  },
  {
   "cell_type": "code",
   "execution_count": 14,
   "metadata": {
    "execution": {
     "iopub.execute_input": "2021-08-11T13:57:06.803953Z",
     "iopub.status.busy": "2021-08-11T13:57:06.803210Z",
     "iopub.status.idle": "2021-08-11T13:57:08.639003Z",
     "shell.execute_reply": "2021-08-11T13:57:08.637933Z",
     "shell.execute_reply.started": "2021-08-11T13:57:06.803903Z"
    }
   },
   "outputs": [
    {
     "data": {
      "image/png": "[encoded data removed]",
      "text/plain": [
       "<Figure size 864x576 with 1 Axes>"
      ]
     },
     "metadata": {
      "needs_background": "light"
     },
     "output_type": "display_data"
    }
   ],
   "source": [
    "plt.figure(figsize=(12,8))\n",
    "sns.violinplot(x='Vehicle_Age',y='Region_Code',hue='Response',data=df)\n",
    "plt.title('Response vs Region and Vehicle_Age')\n",
    "plt.legend(title='Response',borderpad =0.08)\n",
    "plt.show()"
   ]
  },
  {
   "cell_type": "markdown",
   "metadata": {},
   "source": [
    "**Most of the customers from most of the regions have vehicle aged less than 1 year.**\n"
   ]
  },
  {
   "cell_type": "markdown",
   "metadata": {},
   "source": [
    "# Outlier Treatment"
   ]
  },
  {
   "cell_type": "code",
   "execution_count": 15,
   "metadata": {
    "execution": {
     "iopub.execute_input": "2021-08-11T13:57:08.640541Z",
     "iopub.status.busy": "2021-08-11T13:57:08.640231Z",
     "iopub.status.idle": "2021-08-11T13:57:08.656242Z",
     "shell.execute_reply": "2021-08-11T13:57:08.655129Z",
     "shell.execute_reply.started": "2021-08-11T13:57:08.640511Z"
    }
   },
   "outputs": [],
   "source": [
    "df_num=df.select_dtypes(include=np.number)"
   ]
  },
  {
   "cell_type": "code",
   "execution_count": 16,
   "metadata": {
    "execution": {
     "iopub.execute_input": "2021-08-11T13:57:08.658238Z",
     "iopub.status.busy": "2021-08-11T13:57:08.657803Z",
     "iopub.status.idle": "2021-08-11T13:57:10.714966Z",
     "shell.execute_reply": "2021-08-11T13:57:10.714029Z",
     "shell.execute_reply.started": "2021-08-11T13:57:08.658194Z"
    }
   },
   "outputs": [
    {
     "data": {
      "image/png": "[encoded data removed]",
      "text/plain": [
       "<Figure size 864x576 with 9 Axes>"
      ]
     },
     "metadata": {
      "needs_background": "light"
     },
     "output_type": "display_data"
    }
   ],
   "source": [
    "fig,ax=plt.subplots(len(df_num.columns),figsize=(12,8))\n",
    "for i in range(len(df_num.columns)):\n",
    "    sns.boxplot(df_num.iloc[:,i],ax=ax[i])\n",
    "    plt.tight_layout()"
   ]
  },
  {
   "cell_type": "code",
   "execution_count": 17,
   "metadata": {
    "execution": {
     "iopub.execute_input": "2021-08-11T13:57:10.716757Z",
     "iopub.status.busy": "2021-08-11T13:57:10.716427Z",
     "iopub.status.idle": "2021-08-11T13:57:31.214103Z",
     "shell.execute_reply": "2021-08-11T13:57:31.212128Z",
     "shell.execute_reply.started": "2021-08-11T13:57:10.716725Z"
    }
   },
   "outputs": [
    {
     "data": {
      "text/plain": [
       "<AxesSubplot:xlabel='Annual_Premium'>"
      ]
     },
     "execution_count": 17,
     "metadata": {},
     "output_type": "execute_result"
    },
    {
     "data": {
      "image/png": "[encoded data removed]",
      "text/plain": [
       "<Figure size 432x288 with 1 Axes>"
      ]
     },
     "metadata": {
      "needs_background": "light"
     },
     "output_type": "display_data"
    }
   ],
   "source": [
    "q1=df['Annual_Premium'].quantile(0.25)\n",
    "q3=df['Annual_Premium'].quantile(0.75)\n",
    "iqr=q3-q1\n",
    "ul=q3+1.5*iqr\n",
    "ll=q1-1.5*iqr\n",
    "uc=df['Annual_Premium'].quantile(0.95)\n",
    "lc=df['Annual_Premium'].quantile(0.05)\n",
    "for i in df['Annual_Premium'].index:\n",
    "        if df['Annual_Premium'].loc[i]>ul:\n",
    "            df['Annual_Premium'].loc[i]=uc\n",
    "        if df['Annual_Premium'].loc[i]<ll:\n",
    "             df['Annual_Premium'].loc[i]=lc\n",
    "sns.boxplot(df['Annual_Premium'])"
   ]
  },
  {
   "cell_type": "markdown",
   "metadata": {},
   "source": [
    "## Data Preprocessing"
   ]
  },
  {
   "cell_type": "code",
   "execution_count": 18,
   "metadata": {
    "execution": {
     "iopub.execute_input": "2021-08-11T13:57:31.215561Z",
     "iopub.status.busy": "2021-08-11T13:57:31.215279Z",
     "iopub.status.idle": "2021-08-11T13:57:31.225924Z",
     "shell.execute_reply": "2021-08-11T13:57:31.224916Z",
     "shell.execute_reply.started": "2021-08-11T13:57:31.215534Z"
    }
   },
   "outputs": [
    {
     "data": {
      "text/plain": [
       "0    334399\n",
       "1     46710\n",
       "Name: Response, dtype: int64"
      ]
     },
     "execution_count": 18,
     "metadata": {},
     "output_type": "execute_result"
    }
   ],
   "source": [
    "df['Response'].value_counts() "
   ]
  },
  {
   "cell_type": "code",
   "execution_count": 19,
   "metadata": {
    "execution": {
     "iopub.execute_input": "2021-08-11T13:57:31.227474Z",
     "iopub.status.busy": "2021-08-11T13:57:31.227162Z",
     "iopub.status.idle": "2021-08-11T13:57:31.244367Z",
     "shell.execute_reply": "2021-08-11T13:57:31.243511Z",
     "shell.execute_reply.started": "2021-08-11T13:57:31.227444Z"
    }
   },
   "outputs": [
    {
     "data": {
      "text/plain": [
       "155"
      ]
     },
     "execution_count": 19,
     "metadata": {},
     "output_type": "execute_result"
    }
   ],
   "source": [
    "df['Policy_Sales_Channel'].nunique()"
   ]
  },
  {
   "cell_type": "code",
   "execution_count": 20,
   "metadata": {
    "execution": {
     "iopub.execute_input": "2021-08-11T13:57:31.246194Z",
     "iopub.status.busy": "2021-08-11T13:57:31.245765Z",
     "iopub.status.idle": "2021-08-11T13:57:31.266584Z",
     "shell.execute_reply": "2021-08-11T13:57:31.265565Z",
     "shell.execute_reply.started": "2021-08-11T13:57:31.246151Z"
    }
   },
   "outputs": [],
   "source": [
    "#frequency encoding Policy_Sales_Channel\n",
    "channel=df['Policy_Sales_Channel'].value_counts()/len(df)*100\n",
    "df['Policy_Sales_Channel']=df['Policy_Sales_Channel'].map(channel)"
   ]
  },
  {
   "cell_type": "code",
   "execution_count": 21,
   "metadata": {
    "execution": {
     "iopub.execute_input": "2021-08-11T13:57:31.268426Z",
     "iopub.status.busy": "2021-08-11T13:57:31.268013Z",
     "iopub.status.idle": "2021-08-11T13:57:31.289573Z",
     "shell.execute_reply": "2021-08-11T13:57:31.288560Z",
     "shell.execute_reply.started": "2021-08-11T13:57:31.268383Z"
    }
   },
   "outputs": [],
   "source": [
    "#frequency encoding Region_Code\n",
    "region=df['Region_Code'].value_counts()/len(df)*100\n",
    "df['Region_Code']=df['Region_Code'].map(region)"
   ]
  },
  {
   "cell_type": "code",
   "execution_count": 22,
   "metadata": {
    "execution": {
     "iopub.execute_input": "2021-08-11T13:57:31.291494Z",
     "iopub.status.busy": "2021-08-11T13:57:31.291089Z",
     "iopub.status.idle": "2021-08-11T13:57:31.303811Z",
     "shell.execute_reply": "2021-08-11T13:57:31.302964Z",
     "shell.execute_reply.started": "2021-08-11T13:57:31.291457Z"
    }
   },
   "outputs": [
    {
     "data": {
      "text/plain": [
       "0    334399\n",
       "1     46710\n",
       "Name: Response, dtype: int64"
      ]
     },
     "execution_count": 22,
     "metadata": {},
     "output_type": "execute_result"
    }
   ],
   "source": [
    "df['Response'].value_counts()"
   ]
  },
  {
   "cell_type": "markdown",
   "metadata": {},
   "source": [
    "**The number for Response '1' is very low comparing to Response '0',leading to imbalance in classes of target variable.**"
   ]
  },
  {
   "cell_type": "code",
   "execution_count": 23,
   "metadata": {
    "execution": {
     "iopub.execute_input": "2021-08-11T13:57:31.310195Z",
     "iopub.status.busy": "2021-08-11T13:57:31.309747Z",
     "iopub.status.idle": "2021-08-11T13:57:31.336985Z",
     "shell.execute_reply": "2021-08-11T13:57:31.336104Z",
     "shell.execute_reply.started": "2021-08-11T13:57:31.310162Z"
    }
   },
   "outputs": [],
   "source": [
    "x=df.drop('Response',axis=1)\n",
    "y=df['Response']"
   ]
  },
  {
   "cell_type": "code",
   "execution_count": 24,
   "metadata": {
    "execution": {
     "iopub.execute_input": "2021-08-11T13:57:31.339702Z",
     "iopub.status.busy": "2021-08-11T13:57:31.339257Z",
     "iopub.status.idle": "2021-08-11T13:57:31.528262Z",
     "shell.execute_reply": "2021-08-11T13:57:31.527519Z",
     "shell.execute_reply.started": "2021-08-11T13:57:31.339670Z"
    }
   },
   "outputs": [],
   "source": [
    "x=pd.get_dummies(x,drop_first=True)#encoding categorical variables\n",
    "x=x.drop('id',axis=1)"
   ]
  },
  {
   "cell_type": "code",
   "execution_count": 25,
   "metadata": {
    "execution": {
     "iopub.execute_input": "2021-08-11T13:57:31.529721Z",
     "iopub.status.busy": "2021-08-11T13:57:31.529318Z",
     "iopub.status.idle": "2021-08-11T13:57:31.543563Z",
     "shell.execute_reply": "2021-08-11T13:57:31.542581Z",
     "shell.execute_reply.started": "2021-08-11T13:57:31.529692Z"
    }
   },
   "outputs": [
    {
     "data": {
      "text/html": [
       "<div>\n",
       "<style scoped>\n",
       "    .dataframe tbody tr th:only-of-type {\n",
       "        vertical-align: middle;\n",
       "    }\n",
       "\n",
       "    .dataframe tbody tr th {\n",
       "        vertical-align: top;\n",
       "    }\n",
       "\n",
       "    .dataframe thead th {\n",
       "        text-align: right;\n",
       "    }\n",
       "</style>\n",
       "<table border=\"1\" class=\"dataframe\">\n",
       "  <thead>\n",
       "    <tr style=\"text-align: right;\">\n",
       "      <th></th>\n",
       "      <th>Age</th>\n",
       "      <th>Driving_License</th>\n",
       "      <th>Region_Code</th>\n",
       "      <th>Previously_Insured</th>\n",
       "      <th>Annual_Premium</th>\n",
       "      <th>Policy_Sales_Channel</th>\n",
       "      <th>Vintage</th>\n",
       "      <th>Gender_Male</th>\n",
       "      <th>Vehicle_Age_&lt; 1 Year</th>\n",
       "      <th>Vehicle_Age_&gt; 2 Years</th>\n",
       "      <th>Vehicle_Damage_Yes</th>\n",
       "    </tr>\n",
       "  </thead>\n",
       "  <tbody>\n",
       "    <tr>\n",
       "      <th>0</th>\n",
       "      <td>44</td>\n",
       "      <td>1</td>\n",
       "      <td>27.922458</td>\n",
       "      <td>0</td>\n",
       "      <td>40454.0</td>\n",
       "      <td>20.912652</td>\n",
       "      <td>217</td>\n",
       "      <td>1</td>\n",
       "      <td>0</td>\n",
       "      <td>1</td>\n",
       "      <td>1</td>\n",
       "    </tr>\n",
       "    <tr>\n",
       "      <th>1</th>\n",
       "      <td>76</td>\n",
       "      <td>1</td>\n",
       "      <td>2.427390</td>\n",
       "      <td>0</td>\n",
       "      <td>33536.0</td>\n",
       "      <td>20.912652</td>\n",
       "      <td>183</td>\n",
       "      <td>1</td>\n",
       "      <td>0</td>\n",
       "      <td>0</td>\n",
       "      <td>0</td>\n",
       "    </tr>\n",
       "  </tbody>\n",
       "</table>\n",
       "</div>"
      ],
      "text/plain": [
       "   Age  Driving_License  Region_Code  Previously_Insured  Annual_Premium  \\\n",
       "0   44                1    27.922458                   0         40454.0   \n",
       "1   76                1     2.427390                   0         33536.0   \n",
       "\n",
       "   Policy_Sales_Channel  Vintage  Gender_Male  Vehicle_Age_< 1 Year  \\\n",
       "0             20.912652      217            1                     0   \n",
       "1             20.912652      183            1                     0   \n",
       "\n",
       "   Vehicle_Age_> 2 Years  Vehicle_Damage_Yes  \n",
       "0                      1                   1  \n",
       "1                      0                   0  "
      ]
     },
     "execution_count": 25,
     "metadata": {},
     "output_type": "execute_result"
    }
   ],
   "source": [
    "x.head(2)"
   ]
  },
  {
   "cell_type": "markdown",
   "metadata": {},
   "source": [
    "## Smote Oversampling"
   ]
  },
  {
   "cell_type": "code",
   "execution_count": 26,
   "metadata": {
    "execution": {
     "iopub.execute_input": "2021-08-11T13:57:31.545289Z",
     "iopub.status.busy": "2021-08-11T13:57:31.545009Z",
     "iopub.status.idle": "2021-08-11T13:57:31.550043Z",
     "shell.execute_reply": "2021-08-11T13:57:31.548916Z",
     "shell.execute_reply.started": "2021-08-11T13:57:31.545261Z"
    }
   },
   "outputs": [],
   "source": [
    "smote=SMOTE(sampling_strategy=0.4)#sampling strategy '0.4' increases minority class to 40% of the majority class"
   ]
  },
  {
   "cell_type": "code",
   "execution_count": 27,
   "metadata": {
    "execution": {
     "iopub.execute_input": "2021-08-11T13:57:31.552058Z",
     "iopub.status.busy": "2021-08-11T13:57:31.551623Z",
     "iopub.status.idle": "2021-08-11T13:57:32.441702Z",
     "shell.execute_reply": "2021-08-11T13:57:32.440934Z",
     "shell.execute_reply.started": "2021-08-11T13:57:31.552016Z"
    }
   },
   "outputs": [],
   "source": [
    "x_sm,y_sm=smote.fit_resample(x,y)#fitting SMOTE model"
   ]
  },
  {
   "cell_type": "code",
   "execution_count": 28,
   "metadata": {
    "execution": {
     "iopub.execute_input": "2021-08-11T13:57:32.443511Z",
     "iopub.status.busy": "2021-08-11T13:57:32.442894Z",
     "iopub.status.idle": "2021-08-11T13:57:32.462905Z",
     "shell.execute_reply": "2021-08-11T13:57:32.461891Z",
     "shell.execute_reply.started": "2021-08-11T13:57:32.443468Z"
    }
   },
   "outputs": [
    {
     "data": {
      "text/html": [
       "<div>\n",
       "<style scoped>\n",
       "    .dataframe tbody tr th:only-of-type {\n",
       "        vertical-align: middle;\n",
       "    }\n",
       "\n",
       "    .dataframe tbody tr th {\n",
       "        vertical-align: top;\n",
       "    }\n",
       "\n",
       "    .dataframe thead th {\n",
       "        text-align: right;\n",
       "    }\n",
       "</style>\n",
       "<table border=\"1\" class=\"dataframe\">\n",
       "  <thead>\n",
       "    <tr style=\"text-align: right;\">\n",
       "      <th></th>\n",
       "      <th>Age</th>\n",
       "      <th>Driving_License</th>\n",
       "      <th>Region_Code</th>\n",
       "      <th>Previously_Insured</th>\n",
       "      <th>Annual_Premium</th>\n",
       "      <th>Policy_Sales_Channel</th>\n",
       "      <th>Vintage</th>\n",
       "      <th>Gender_Male</th>\n",
       "      <th>Vehicle_Age_&lt; 1 Year</th>\n",
       "      <th>Vehicle_Age_&gt; 2 Years</th>\n",
       "      <th>Vehicle_Damage_Yes</th>\n",
       "      <th>Response</th>\n",
       "    </tr>\n",
       "  </thead>\n",
       "  <tbody>\n",
       "    <tr>\n",
       "      <th>0</th>\n",
       "      <td>44</td>\n",
       "      <td>1</td>\n",
       "      <td>27.922458</td>\n",
       "      <td>0</td>\n",
       "      <td>40454.0</td>\n",
       "      <td>20.912652</td>\n",
       "      <td>217</td>\n",
       "      <td>1</td>\n",
       "      <td>0</td>\n",
       "      <td>1</td>\n",
       "      <td>1</td>\n",
       "      <td>1</td>\n",
       "    </tr>\n",
       "    <tr>\n",
       "      <th>1</th>\n",
       "      <td>76</td>\n",
       "      <td>1</td>\n",
       "      <td>2.427390</td>\n",
       "      <td>0</td>\n",
       "      <td>33536.0</td>\n",
       "      <td>20.912652</td>\n",
       "      <td>183</td>\n",
       "      <td>1</td>\n",
       "      <td>0</td>\n",
       "      <td>0</td>\n",
       "      <td>0</td>\n",
       "      <td>0</td>\n",
       "    </tr>\n",
       "    <tr>\n",
       "      <th>2</th>\n",
       "      <td>47</td>\n",
       "      <td>1</td>\n",
       "      <td>27.922458</td>\n",
       "      <td>0</td>\n",
       "      <td>38294.0</td>\n",
       "      <td>20.912652</td>\n",
       "      <td>27</td>\n",
       "      <td>1</td>\n",
       "      <td>0</td>\n",
       "      <td>1</td>\n",
       "      <td>1</td>\n",
       "      <td>1</td>\n",
       "    </tr>\n",
       "    <tr>\n",
       "      <th>3</th>\n",
       "      <td>21</td>\n",
       "      <td>1</td>\n",
       "      <td>2.422404</td>\n",
       "      <td>1</td>\n",
       "      <td>28619.0</td>\n",
       "      <td>35.366260</td>\n",
       "      <td>203</td>\n",
       "      <td>1</td>\n",
       "      <td>1</td>\n",
       "      <td>0</td>\n",
       "      <td>0</td>\n",
       "      <td>0</td>\n",
       "    </tr>\n",
       "    <tr>\n",
       "      <th>4</th>\n",
       "      <td>29</td>\n",
       "      <td>1</td>\n",
       "      <td>4.792067</td>\n",
       "      <td>1</td>\n",
       "      <td>27496.0</td>\n",
       "      <td>35.366260</td>\n",
       "      <td>39</td>\n",
       "      <td>0</td>\n",
       "      <td>1</td>\n",
       "      <td>0</td>\n",
       "      <td>0</td>\n",
       "      <td>0</td>\n",
       "    </tr>\n",
       "  </tbody>\n",
       "</table>\n",
       "</div>"
      ],
      "text/plain": [
       "   Age  Driving_License  Region_Code  Previously_Insured  Annual_Premium  \\\n",
       "0   44                1    27.922458                   0         40454.0   \n",
       "1   76                1     2.427390                   0         33536.0   \n",
       "2   47                1    27.922458                   0         38294.0   \n",
       "3   21                1     2.422404                   1         28619.0   \n",
       "4   29                1     4.792067                   1         27496.0   \n",
       "\n",
       "   Policy_Sales_Channel  Vintage  Gender_Male  Vehicle_Age_< 1 Year  \\\n",
       "0             20.912652      217            1                     0   \n",
       "1             20.912652      183            1                     0   \n",
       "2             20.912652       27            1                     0   \n",
       "3             35.366260      203            1                     1   \n",
       "4             35.366260       39            0                     1   \n",
       "\n",
       "   Vehicle_Age_> 2 Years  Vehicle_Damage_Yes  Response  \n",
       "0                      1                   1         1  \n",
       "1                      0                   0         0  \n",
       "2                      1                   1         1  \n",
       "3                      0                   0         0  \n",
       "4                      0                   0         0  "
      ]
     },
     "execution_count": 28,
     "metadata": {},
     "output_type": "execute_result"
    }
   ],
   "source": [
    "df_sm = pd.DataFrame(x_sm,columns=x.columns)\n",
    "df_sm['Response']=y_sm\n",
    "df_sm.head()#inspecting oversampled dataframe"
   ]
  },
  {
   "cell_type": "code",
   "execution_count": 29,
   "metadata": {
    "execution": {
     "iopub.execute_input": "2021-08-11T13:57:32.464546Z",
     "iopub.status.busy": "2021-08-11T13:57:32.464231Z",
     "iopub.status.idle": "2021-08-11T13:57:32.470373Z",
     "shell.execute_reply": "2021-08-11T13:57:32.469200Z",
     "shell.execute_reply.started": "2021-08-11T13:57:32.464516Z"
    }
   },
   "outputs": [
    {
     "data": {
      "text/plain": [
       "(468158, 12)"
      ]
     },
     "execution_count": 29,
     "metadata": {},
     "output_type": "execute_result"
    }
   ],
   "source": [
    "df_sm.shape#no of records have been increased"
   ]
  },
  {
   "cell_type": "code",
   "execution_count": 30,
   "metadata": {
    "execution": {
     "iopub.execute_input": "2021-08-11T13:57:32.472529Z",
     "iopub.status.busy": "2021-08-11T13:57:32.472086Z",
     "iopub.status.idle": "2021-08-11T13:57:32.493041Z",
     "shell.execute_reply": "2021-08-11T13:57:32.492033Z",
     "shell.execute_reply.started": "2021-08-11T13:57:32.472459Z"
    }
   },
   "outputs": [
    {
     "data": {
      "text/plain": [
       "0    334399\n",
       "1    133759\n",
       "Name: Response, dtype: int64"
      ]
     },
     "execution_count": 30,
     "metadata": {},
     "output_type": "execute_result"
    }
   ],
   "source": [
    "df_sm['Response'].value_counts()"
   ]
  },
  {
   "cell_type": "markdown",
   "metadata": {},
   "source": [
    "*Here we can see increase in minority class to  40% of majority class.*"
   ]
  },
  {
   "cell_type": "code",
   "execution_count": 31,
   "metadata": {
    "execution": {
     "iopub.execute_input": "2021-08-11T13:57:32.495208Z",
     "iopub.status.busy": "2021-08-11T13:57:32.494717Z",
     "iopub.status.idle": "2021-08-11T13:57:46.144920Z",
     "shell.execute_reply": "2021-08-11T13:57:46.143858Z",
     "shell.execute_reply.started": "2021-08-11T13:57:32.495164Z"
    }
   },
   "outputs": [
    {
     "data": {
      "image/png": "[encoded data removed]",
      "text/plain": [
       "<Figure size 1152x1152 with 5 Axes>"
      ]
     },
     "metadata": {
      "needs_background": "light"
     },
     "output_type": "display_data"
    }
   ],
   "source": [
    "fig,ax=plt.subplots(5,figsize=(16,16))\n",
    "sns.distplot(df_sm['Age'],ax=ax[0])\n",
    "sns.distplot(df_sm['Region_Code'],ax=ax[1])\n",
    "sns.distplot(df_sm['Annual_Premium'],ax=ax[2])\n",
    "sns.distplot(df_sm['Policy_Sales_Channel'],ax=ax[3])\n",
    "sns.distplot(df_sm['Vintage'],ax=ax[4])\n",
    "plt.tight_layout()\n",
    "plt.show()#checking distribution of the oversampled data"
   ]
  },
  {
   "cell_type": "code",
   "execution_count": 32,
   "metadata": {
    "execution": {
     "iopub.execute_input": "2021-08-11T13:57:46.146890Z",
     "iopub.status.busy": "2021-08-11T13:57:46.146393Z",
     "iopub.status.idle": "2021-08-11T13:57:46.218322Z",
     "shell.execute_reply": "2021-08-11T13:57:46.217238Z",
     "shell.execute_reply.started": "2021-08-11T13:57:46.146852Z"
    }
   },
   "outputs": [
    {
     "data": {
      "text/plain": [
       "Age                       0.575620\n",
       "Driving_License         -22.297399\n",
       "Region_Code               0.736643\n",
       "Previously_Insured        0.525179\n",
       "Annual_Premium           -0.475200\n",
       "Policy_Sales_Channel     -0.252400\n",
       "Vintage                   0.002350\n",
       "Gender_Male              -0.046698\n",
       "Vehicle_Age_< 1 Year      0.574956\n",
       "Vehicle_Age_> 2 Years     4.886528\n",
       "Vehicle_Damage_Yes       -0.365393\n",
       "Response                  0.948691\n",
       "dtype: float64"
      ]
     },
     "execution_count": 32,
     "metadata": {},
     "output_type": "execute_result"
    }
   ],
   "source": [
    "df_sm.skew()"
   ]
  },
  {
   "cell_type": "markdown",
   "metadata": {},
   "source": [
    "**Scaling Data**"
   ]
  },
  {
   "cell_type": "code",
   "execution_count": 33,
   "metadata": {
    "execution": {
     "iopub.execute_input": "2021-08-11T13:57:46.220339Z",
     "iopub.status.busy": "2021-08-11T13:57:46.219907Z",
     "iopub.status.idle": "2021-08-11T13:57:46.225316Z",
     "shell.execute_reply": "2021-08-11T13:57:46.223959Z",
     "shell.execute_reply.started": "2021-08-11T13:57:46.220278Z"
    }
   },
   "outputs": [],
   "source": [
    "from sklearn.preprocessing import StandardScaler\n",
    "from sklearn.model_selection import cross_val_score\n",
    "ss=StandardScaler()"
   ]
  },
  {
   "cell_type": "code",
   "execution_count": 34,
   "metadata": {
    "execution": {
     "iopub.execute_input": "2021-08-11T13:57:46.227448Z",
     "iopub.status.busy": "2021-08-11T13:57:46.227016Z",
     "iopub.status.idle": "2021-08-11T13:57:46.254622Z",
     "shell.execute_reply": "2021-08-11T13:57:46.253705Z",
     "shell.execute_reply.started": "2021-08-11T13:57:46.227404Z"
    }
   },
   "outputs": [],
   "source": [
    "#assigning idependent and target variables\n",
    "x_smt=df_sm.drop('Response',axis=1)\n",
    "y_smt=df_sm['Response']"
   ]
  },
  {
   "cell_type": "code",
   "execution_count": 35,
   "metadata": {
    "execution": {
     "iopub.execute_input": "2021-08-11T13:57:46.256589Z",
     "iopub.status.busy": "2021-08-11T13:57:46.256175Z",
     "iopub.status.idle": "2021-08-11T13:57:46.406379Z",
     "shell.execute_reply": "2021-08-11T13:57:46.405260Z",
     "shell.execute_reply.started": "2021-08-11T13:57:46.256547Z"
    }
   },
   "outputs": [],
   "source": [
    "x_sm_scaled=pd.DataFrame(ss.fit_transform(x_smt),columns=x_smt.columns)"
   ]
  },
  {
   "cell_type": "code",
   "execution_count": 36,
   "metadata": {
    "execution": {
     "iopub.execute_input": "2021-08-11T13:57:46.408386Z",
     "iopub.status.busy": "2021-08-11T13:57:46.407839Z",
     "iopub.status.idle": "2021-08-11T13:57:46.424987Z",
     "shell.execute_reply": "2021-08-11T13:57:46.423863Z",
     "shell.execute_reply.started": "2021-08-11T13:57:46.408341Z"
    }
   },
   "outputs": [
    {
     "data": {
      "text/html": [
       "<div>\n",
       "<style scoped>\n",
       "    .dataframe tbody tr th:only-of-type {\n",
       "        vertical-align: middle;\n",
       "    }\n",
       "\n",
       "    .dataframe tbody tr th {\n",
       "        vertical-align: top;\n",
       "    }\n",
       "\n",
       "    .dataframe thead th {\n",
       "        text-align: right;\n",
       "    }\n",
       "</style>\n",
       "<table border=\"1\" class=\"dataframe\">\n",
       "  <thead>\n",
       "    <tr style=\"text-align: right;\">\n",
       "      <th></th>\n",
       "      <th>Age</th>\n",
       "      <th>Driving_License</th>\n",
       "      <th>Region_Code</th>\n",
       "      <th>Previously_Insured</th>\n",
       "      <th>Annual_Premium</th>\n",
       "      <th>Policy_Sales_Channel</th>\n",
       "      <th>Vintage</th>\n",
       "      <th>Gender_Male</th>\n",
       "      <th>Vehicle_Age_&lt; 1 Year</th>\n",
       "      <th>Vehicle_Age_&gt; 2 Years</th>\n",
       "      <th>Vehicle_Damage_Yes</th>\n",
       "    </tr>\n",
       "  </thead>\n",
       "  <tbody>\n",
       "    <tr>\n",
       "      <th>0</th>\n",
       "      <td>0.297777</td>\n",
       "      <td>0.044759</td>\n",
       "      <td>1.493646</td>\n",
       "      <td>-0.771313</td>\n",
       "      <td>0.675056</td>\n",
       "      <td>0.046954</td>\n",
       "      <td>0.751018</td>\n",
       "      <td>0.976924</td>\n",
       "      <td>-0.753024</td>\n",
       "      <td>5.083238</td>\n",
       "      <td>0.833856</td>\n",
       "    </tr>\n",
       "    <tr>\n",
       "      <th>1</th>\n",
       "      <td>2.460110</td>\n",
       "      <td>0.044759</td>\n",
       "      <td>-0.717185</td>\n",
       "      <td>-0.771313</td>\n",
       "      <td>0.223216</td>\n",
       "      <td>0.046954</td>\n",
       "      <td>0.344151</td>\n",
       "      <td>0.976924</td>\n",
       "      <td>-0.753024</td>\n",
       "      <td>-0.196725</td>\n",
       "      <td>-1.199248</td>\n",
       "    </tr>\n",
       "  </tbody>\n",
       "</table>\n",
       "</div>"
      ],
      "text/plain": [
       "        Age  Driving_License  Region_Code  Previously_Insured  Annual_Premium  \\\n",
       "0  0.297777         0.044759     1.493646           -0.771313        0.675056   \n",
       "1  2.460110         0.044759    -0.717185           -0.771313        0.223216   \n",
       "\n",
       "   Policy_Sales_Channel   Vintage  Gender_Male  Vehicle_Age_< 1 Year  \\\n",
       "0              0.046954  0.751018     0.976924             -0.753024   \n",
       "1              0.046954  0.344151     0.976924             -0.753024   \n",
       "\n",
       "   Vehicle_Age_> 2 Years  Vehicle_Damage_Yes  \n",
       "0               5.083238            0.833856  \n",
       "1              -0.196725           -1.199248  "
      ]
     },
     "execution_count": 36,
     "metadata": {},
     "output_type": "execute_result"
    }
   ],
   "source": [
    "x_sm_scaled.head(2)"
   ]
  },
  {
   "cell_type": "code",
   "execution_count": 37,
   "metadata": {
    "execution": {
     "iopub.execute_input": "2021-08-11T13:57:46.426762Z",
     "iopub.status.busy": "2021-08-11T13:57:46.426431Z",
     "iopub.status.idle": "2021-08-11T13:57:46.832381Z",
     "shell.execute_reply": "2021-08-11T13:57:46.831383Z",
     "shell.execute_reply.started": "2021-08-11T13:57:46.426732Z"
    }
   },
   "outputs": [],
   "source": [
    "X_train,X_test,y_train,y_test=train_test_split(x_sm_scaled,y_smt,test_size=0.4,random_state=300,stratify=y_smt)#splitting training and testing data"
   ]
  },
  {
   "cell_type": "markdown",
   "metadata": {},
   "source": [
    "## Logistic Regression"
   ]
  },
  {
   "cell_type": "code",
   "execution_count": 38,
   "metadata": {
    "execution": {
     "iopub.execute_input": "2021-08-11T13:57:46.834099Z",
     "iopub.status.busy": "2021-08-11T13:57:46.833755Z",
     "iopub.status.idle": "2021-08-11T13:57:46.838768Z",
     "shell.execute_reply": "2021-08-11T13:57:46.837669Z",
     "shell.execute_reply.started": "2021-08-11T13:57:46.834062Z"
    }
   },
   "outputs": [],
   "source": [
    "lr=LogisticRegression()"
   ]
  },
  {
   "cell_type": "code",
   "execution_count": 39,
   "metadata": {
    "execution": {
     "iopub.execute_input": "2021-08-11T13:57:46.840729Z",
     "iopub.status.busy": "2021-08-11T13:57:46.840437Z",
     "iopub.status.idle": "2021-08-11T13:57:47.960100Z",
     "shell.execute_reply": "2021-08-11T13:57:47.958915Z",
     "shell.execute_reply.started": "2021-08-11T13:57:46.840701Z"
    }
   },
   "outputs": [],
   "source": [
    "lr_model=lr.fit(X_train,y_train)#fitting LogisticRegression Model"
   ]
  },
  {
   "cell_type": "code",
   "execution_count": 40,
   "metadata": {
    "execution": {
     "iopub.execute_input": "2021-08-11T13:57:47.962440Z",
     "iopub.status.busy": "2021-08-11T13:57:47.961728Z",
     "iopub.status.idle": "2021-08-11T13:57:48.041877Z",
     "shell.execute_reply": "2021-08-11T13:57:48.040716Z",
     "shell.execute_reply.started": "2021-08-11T13:57:47.962384Z"
    }
   },
   "outputs": [
    {
     "data": {
      "text/plain": [
       "0.7911525344079974"
      ]
     },
     "execution_count": 40,
     "metadata": {},
     "output_type": "execute_result"
    }
   ],
   "source": [
    "lr_model.score(X_train,y_train)"
   ]
  },
  {
   "cell_type": "code",
   "execution_count": 41,
   "metadata": {
    "execution": {
     "iopub.execute_input": "2021-08-11T13:57:48.044287Z",
     "iopub.status.busy": "2021-08-11T13:57:48.043566Z",
     "iopub.status.idle": "2021-08-11T13:57:48.098500Z",
     "shell.execute_reply": "2021-08-11T13:57:48.097300Z",
     "shell.execute_reply.started": "2021-08-11T13:57:48.044226Z"
    }
   },
   "outputs": [
    {
     "data": {
      "text/plain": [
       "0.7912359022556391"
      ]
     },
     "execution_count": 41,
     "metadata": {},
     "output_type": "execute_result"
    }
   ],
   "source": [
    "lr_model.score(X_test,y_test)"
   ]
  },
  {
   "cell_type": "code",
   "execution_count": 42,
   "metadata": {
    "execution": {
     "iopub.execute_input": "2021-08-11T13:57:48.101176Z",
     "iopub.status.busy": "2021-08-11T13:57:48.100311Z",
     "iopub.status.idle": "2021-08-11T13:57:48.131337Z",
     "shell.execute_reply": "2021-08-11T13:57:48.130027Z",
     "shell.execute_reply.started": "2021-08-11T13:57:48.101117Z"
    }
   },
   "outputs": [],
   "source": [
    "lr_pred=lr_model.predict(X_test)#predicting X_test\n",
    "lr_prob=lr_model.predict_proba(X_test)#predicting probability of X_test"
   ]
  },
  {
   "cell_type": "code",
   "execution_count": 43,
   "metadata": {
    "execution": {
     "iopub.execute_input": "2021-08-11T13:57:48.134582Z",
     "iopub.status.busy": "2021-08-11T13:57:48.133550Z",
     "iopub.status.idle": "2021-08-11T13:57:48.590365Z",
     "shell.execute_reply": "2021-08-11T13:57:48.589124Z",
     "shell.execute_reply.started": "2021-08-11T13:57:48.134514Z"
    }
   },
   "outputs": [
    {
     "name": "stdout",
     "output_type": "stream",
     "text": [
      "              precision    recall  f1-score   support\n",
      "\n",
      "           0       0.86      0.84      0.85    133760\n",
      "           1       0.63      0.67      0.65     53504\n",
      "\n",
      "    accuracy                           0.79    187264\n",
      "   macro avg       0.74      0.75      0.75    187264\n",
      "weighted avg       0.80      0.79      0.79    187264\n",
      "\n"
     ]
    }
   ],
   "source": [
    "print(classification_report(y_test,lr_pred))"
   ]
  },
  {
   "cell_type": "markdown",
   "metadata": {},
   "source": [
    "* The f1-weighted score indicates that our model is 79% accurate in predicting the 'Response' variable."
   ]
  },
  {
   "cell_type": "code",
   "execution_count": 44,
   "metadata": {
    "execution": {
     "iopub.execute_input": "2021-08-11T13:57:48.591955Z",
     "iopub.status.busy": "2021-08-11T13:57:48.591652Z",
     "iopub.status.idle": "2021-08-11T13:57:49.104454Z",
     "shell.execute_reply": "2021-08-11T13:57:49.103410Z",
     "shell.execute_reply.started": "2021-08-11T13:57:48.591926Z"
    }
   },
   "outputs": [
    {
     "data": {
      "image/png": "[encoded data removed]",
      "text/plain": [
       "<Figure size 432x288 with 2 Axes>"
      ]
     },
     "metadata": {
      "needs_background": "light"
     },
     "output_type": "display_data"
    }
   ],
   "source": [
    "sns.heatmap(confusion_matrix(y_test,lr_pred),annot=True,fmt='d')\n",
    "plt.show()"
   ]
  },
  {
   "cell_type": "code",
   "execution_count": 45,
   "metadata": {
    "execution": {
     "iopub.execute_input": "2021-08-11T13:57:49.106070Z",
     "iopub.status.busy": "2021-08-11T13:57:49.105754Z",
     "iopub.status.idle": "2021-08-11T13:57:49.183191Z",
     "shell.execute_reply": "2021-08-11T13:57:49.182017Z",
     "shell.execute_reply.started": "2021-08-11T13:57:49.106041Z"
    }
   },
   "outputs": [
    {
     "name": "stdout",
     "output_type": "stream",
     "text": [
      " Logistic Regression AUC-Score: 0.8667815866581903\n"
     ]
    }
   ],
   "source": [
    "print(' Logistic Regression AUC-Score:',roc_auc_score(y_test,lr_prob[:,1]))"
   ]
  },
  {
   "cell_type": "code",
   "execution_count": 46,
   "metadata": {
    "execution": {
     "iopub.execute_input": "2021-08-11T13:57:49.185116Z",
     "iopub.status.busy": "2021-08-11T13:57:49.184620Z",
     "iopub.status.idle": "2021-08-11T13:58:00.100646Z",
     "shell.execute_reply": "2021-08-11T13:58:00.099579Z",
     "shell.execute_reply.started": "2021-08-11T13:57:49.185070Z"
    }
   },
   "outputs": [
    {
     "name": "stdout",
     "output_type": "stream",
     "text": [
      "Average score: 0.7930382954331507\n",
      "Variance error: 0.002912794015468851\n"
     ]
    }
   ],
   "source": [
    "k=KFold(n_splits=10)\n",
    "score=cross_val_score(lr,X_train,y_train,scoring='f1_weighted',cv=k)\n",
    "print('Average score:',np.mean(score))\n",
    "print('Variance error:', np.std(score)/np.mean(score))"
   ]
  },
  {
   "cell_type": "markdown",
   "metadata": {},
   "source": [
    "*As seen in the above result the bias_error is high indicating that our model is still baised(probably towards 'No' Response),on another note the variance_error is comparatively less.*"
   ]
  },
  {
   "cell_type": "markdown",
   "metadata": {},
   "source": [
    "**Finding  optimal threshold for LogisticRegression using Youden's Index** "
   ]
  },
  {
   "cell_type": "code",
   "execution_count": 47,
   "metadata": {
    "execution": {
     "iopub.execute_input": "2021-08-11T13:58:00.103184Z",
     "iopub.status.busy": "2021-08-11T13:58:00.102455Z",
     "iopub.status.idle": "2021-08-11T13:58:00.180100Z",
     "shell.execute_reply": "2021-08-11T13:58:00.178914Z",
     "shell.execute_reply.started": "2021-08-11T13:58:00.103133Z"
    }
   },
   "outputs": [],
   "source": [
    "lr_fpr,lr_tpr,lr_thres=roc_curve(y_test,lr_prob[:,1])"
   ]
  },
  {
   "cell_type": "code",
   "execution_count": 48,
   "metadata": {
    "execution": {
     "iopub.execute_input": "2021-08-11T13:58:00.182975Z",
     "iopub.status.busy": "2021-08-11T13:58:00.182089Z",
     "iopub.status.idle": "2021-08-11T13:58:00.193357Z",
     "shell.execute_reply": "2021-08-11T13:58:00.192465Z",
     "shell.execute_reply.started": "2021-08-11T13:58:00.182920Z"
    }
   },
   "outputs": [],
   "source": [
    "youden_df = pd.DataFrame({'TPR':lr_tpr,'FPR':lr_fpr,'Threshold':lr_thres})\n",
    "youden_df['Difference'] = youden_df['TPR']-youden_df['FPR']"
   ]
  },
  {
   "cell_type": "code",
   "execution_count": 49,
   "metadata": {
    "execution": {
     "iopub.execute_input": "2021-08-11T13:58:00.195241Z",
     "iopub.status.busy": "2021-08-11T13:58:00.194853Z",
     "iopub.status.idle": "2021-08-11T13:58:00.216128Z",
     "shell.execute_reply": "2021-08-11T13:58:00.215195Z",
     "shell.execute_reply.started": "2021-08-11T13:58:00.195201Z"
    }
   },
   "outputs": [
    {
     "data": {
      "text/html": [
       "<div>\n",
       "<style scoped>\n",
       "    .dataframe tbody tr th:only-of-type {\n",
       "        vertical-align: middle;\n",
       "    }\n",
       "\n",
       "    .dataframe tbody tr th {\n",
       "        vertical-align: top;\n",
       "    }\n",
       "\n",
       "    .dataframe thead th {\n",
       "        text-align: right;\n",
       "    }\n",
       "</style>\n",
       "<table border=\"1\" class=\"dataframe\">\n",
       "  <thead>\n",
       "    <tr style=\"text-align: right;\">\n",
       "      <th></th>\n",
       "      <th>TPR</th>\n",
       "      <th>FPR</th>\n",
       "      <th>Threshold</th>\n",
       "      <th>Difference</th>\n",
       "    </tr>\n",
       "  </thead>\n",
       "  <tbody>\n",
       "    <tr>\n",
       "      <th>38639</th>\n",
       "      <td>0.870888</td>\n",
       "      <td>0.272279</td>\n",
       "      <td>0.324336</td>\n",
       "      <td>0.598609</td>\n",
       "    </tr>\n",
       "    <tr>\n",
       "      <th>38637</th>\n",
       "      <td>0.870832</td>\n",
       "      <td>0.272241</td>\n",
       "      <td>0.324416</td>\n",
       "      <td>0.598591</td>\n",
       "    </tr>\n",
       "    <tr>\n",
       "      <th>38638</th>\n",
       "      <td>0.870832</td>\n",
       "      <td>0.272279</td>\n",
       "      <td>0.324360</td>\n",
       "      <td>0.598553</td>\n",
       "    </tr>\n",
       "    <tr>\n",
       "      <th>38635</th>\n",
       "      <td>0.870776</td>\n",
       "      <td>0.272234</td>\n",
       "      <td>0.324432</td>\n",
       "      <td>0.598542</td>\n",
       "    </tr>\n",
       "    <tr>\n",
       "      <th>38636</th>\n",
       "      <td>0.870776</td>\n",
       "      <td>0.272241</td>\n",
       "      <td>0.324430</td>\n",
       "      <td>0.598535</td>\n",
       "    </tr>\n",
       "  </tbody>\n",
       "</table>\n",
       "</div>"
      ],
      "text/plain": [
       "            TPR       FPR  Threshold  Difference\n",
       "38639  0.870888  0.272279   0.324336    0.598609\n",
       "38637  0.870832  0.272241   0.324416    0.598591\n",
       "38638  0.870832  0.272279   0.324360    0.598553\n",
       "38635  0.870776  0.272234   0.324432    0.598542\n",
       "38636  0.870776  0.272241   0.324430    0.598535"
      ]
     },
     "execution_count": 49,
     "metadata": {},
     "output_type": "execute_result"
    }
   ],
   "source": [
    "youden_df.sort_values(by='Difference',ascending=False).head(5)"
   ]
  },
  {
   "cell_type": "code",
   "execution_count": 50,
   "metadata": {
    "execution": {
     "iopub.execute_input": "2021-08-11T13:58:00.217704Z",
     "iopub.status.busy": "2021-08-11T13:58:00.217418Z",
     "iopub.status.idle": "2021-08-11T13:58:00.299476Z",
     "shell.execute_reply": "2021-08-11T13:58:00.298569Z",
     "shell.execute_reply.started": "2021-08-11T13:58:00.217677Z"
    }
   },
   "outputs": [],
   "source": [
    "youden_pred=[0 if i < 0.336236 else 1 for i in lr_prob[:,1]]"
   ]
  },
  {
   "cell_type": "code",
   "execution_count": 51,
   "metadata": {
    "execution": {
     "iopub.execute_input": "2021-08-11T13:58:00.301323Z",
     "iopub.status.busy": "2021-08-11T13:58:00.300921Z",
     "iopub.status.idle": "2021-08-11T13:58:00.808034Z",
     "shell.execute_reply": "2021-08-11T13:58:00.807024Z",
     "shell.execute_reply.started": "2021-08-11T13:58:00.301284Z"
    }
   },
   "outputs": [
    {
     "name": "stdout",
     "output_type": "stream",
     "text": [
      "              precision    recall  f1-score   support\n",
      "\n",
      "           0       0.93      0.73      0.82    133760\n",
      "           1       0.56      0.86      0.68     53504\n",
      "\n",
      "    accuracy                           0.77    187264\n",
      "   macro avg       0.75      0.80      0.75    187264\n",
      "weighted avg       0.83      0.77      0.78    187264\n",
      "\n"
     ]
    }
   ],
   "source": [
    "print(classification_report(y_test,youden_pred))"
   ]
  },
  {
   "cell_type": "markdown",
   "metadata": {},
   "source": [
    "*The Youden threshold didn't yield better accuracy than Logistic regression(based on 'f1-weighted' score)*"
   ]
  },
  {
   "cell_type": "markdown",
   "metadata": {},
   "source": [
    "## **RANDOM FOREST**"
   ]
  },
  {
   "cell_type": "code",
   "execution_count": 53,
   "metadata": {
    "execution": {
     "iopub.execute_input": "2021-08-11T13:58:00.815534Z",
     "iopub.status.busy": "2021-08-11T13:58:00.815184Z",
     "iopub.status.idle": "2021-08-11T13:58:00.831120Z",
     "shell.execute_reply": "2021-08-11T13:58:00.825226Z",
     "shell.execute_reply.started": "2021-08-11T13:58:00.815504Z"
    }
   },
   "outputs": [],
   "source": [
    "rf=RandomForestClassifier(max_depth=7)#intializing Random Forest"
   ]
  },
  {
   "cell_type": "code",
   "execution_count": 54,
   "metadata": {
    "execution": {
     "iopub.execute_input": "2021-08-11T13:58:00.832755Z",
     "iopub.status.busy": "2021-08-11T13:58:00.832430Z",
     "iopub.status.idle": "2021-08-11T13:58:22.154309Z",
     "shell.execute_reply": "2021-08-11T13:58:22.152968Z",
     "shell.execute_reply.started": "2021-08-11T13:58:00.832708Z"
    }
   },
   "outputs": [],
   "source": [
    "rf_model=rf.fit(X_train,y_train)"
   ]
  },
  {
   "cell_type": "code",
   "execution_count": 57,
   "metadata": {
    "execution": {
     "iopub.execute_input": "2021-08-11T14:00:07.609895Z",
     "iopub.status.busy": "2021-08-11T14:00:07.609506Z",
     "iopub.status.idle": "2021-08-11T14:01:32.207392Z",
     "shell.execute_reply": "2021-08-11T14:01:32.206365Z",
     "shell.execute_reply.started": "2021-08-11T14:00:07.609864Z"
    }
   },
   "outputs": [
    {
     "name": "stdout",
     "output_type": "stream",
     "text": [
      "Average score: 0.8092732543477835\n",
      "variance error: 0.0012048446482128125\n"
     ]
    }
   ],
   "source": [
    "score=cross_val_score(rf,X_train,y_train,cv=5)\n",
    "print('Average score:',np.mean(score))\n",
    "print('variance error:',np.std(score)/np.mean(score))"
   ]
  },
  {
   "cell_type": "code",
   "execution_count": 58,
   "metadata": {
    "execution": {
     "iopub.execute_input": "2021-08-11T14:01:32.209089Z",
     "iopub.status.busy": "2021-08-11T14:01:32.208752Z",
     "iopub.status.idle": "2021-08-11T14:01:33.791301Z",
     "shell.execute_reply": "2021-08-11T14:01:33.790023Z",
     "shell.execute_reply.started": "2021-08-11T14:01:32.209057Z"
    }
   },
   "outputs": [
    {
     "name": "stdout",
     "output_type": "stream",
     "text": [
      "Testing Score: 0.8094348086124402\n"
     ]
    }
   ],
   "source": [
    "print('Testing Score:',rf_model.score(X_test,y_test))"
   ]
  },
  {
   "cell_type": "markdown",
   "metadata": {},
   "source": [
    "* *The above randomforest model has higher training accuracy and lower testing accuracy ,meaning the model is overfitting the data*\n",
    "* Here GridSearchCV can be used to find best parameters for Random Forest(I have not done it since it requires high computational power)."
   ]
  },
  {
   "cell_type": "markdown",
   "metadata": {},
   "source": [
    "## XGBoost"
   ]
  },
  {
   "cell_type": "code",
   "execution_count": 59,
   "metadata": {
    "execution": {
     "iopub.execute_input": "2021-08-11T14:01:33.794170Z",
     "iopub.status.busy": "2021-08-11T14:01:33.793685Z",
     "iopub.status.idle": "2021-08-11T14:01:33.799285Z",
     "shell.execute_reply": "2021-08-11T14:01:33.798162Z",
     "shell.execute_reply.started": "2021-08-11T14:01:33.794122Z"
    }
   },
   "outputs": [],
   "source": [
    "xgb=XGBClassifier()#initializing XGBoost classifier"
   ]
  },
  {
   "cell_type": "code",
   "execution_count": 60,
   "metadata": {
    "execution": {
     "iopub.execute_input": "2021-08-11T14:01:33.801524Z",
     "iopub.status.busy": "2021-08-11T14:01:33.800922Z",
     "iopub.status.idle": "2021-08-11T14:01:33.826193Z",
     "shell.execute_reply": "2021-08-11T14:01:33.825414Z",
     "shell.execute_reply.started": "2021-08-11T14:01:33.801489Z"
    }
   },
   "outputs": [
    {
     "data": {
      "text/html": [
       "<div>\n",
       "<style scoped>\n",
       "    .dataframe tbody tr th:only-of-type {\n",
       "        vertical-align: middle;\n",
       "    }\n",
       "\n",
       "    .dataframe tbody tr th {\n",
       "        vertical-align: top;\n",
       "    }\n",
       "\n",
       "    .dataframe thead th {\n",
       "        text-align: right;\n",
       "    }\n",
       "</style>\n",
       "<table border=\"1\" class=\"dataframe\">\n",
       "  <thead>\n",
       "    <tr style=\"text-align: right;\">\n",
       "      <th></th>\n",
       "      <th>Age</th>\n",
       "      <th>Driving_License</th>\n",
       "      <th>Region_Code</th>\n",
       "      <th>Previously_Insured</th>\n",
       "      <th>Annual_Premium</th>\n",
       "      <th>Policy_Sales_Channel</th>\n",
       "      <th>Vintage</th>\n",
       "      <th>Gender_Male</th>\n",
       "      <th>Vehicle_Age_&lt; 1 Year</th>\n",
       "      <th>Vehicle_Age_&gt; 2 Years</th>\n",
       "      <th>Vehicle_Damage_Yes</th>\n",
       "    </tr>\n",
       "  </thead>\n",
       "  <tbody>\n",
       "    <tr>\n",
       "      <th>279276</th>\n",
       "      <td>-0.986107</td>\n",
       "      <td>0.044759</td>\n",
       "      <td>-0.753523</td>\n",
       "      <td>1.296490</td>\n",
       "      <td>-0.383613</td>\n",
       "      <td>1.238526</td>\n",
       "      <td>-0.158450</td>\n",
       "      <td>-1.023621</td>\n",
       "      <td>1.327978</td>\n",
       "      <td>-0.196725</td>\n",
       "      <td>-1.199248</td>\n",
       "    </tr>\n",
       "    <tr>\n",
       "      <th>334086</th>\n",
       "      <td>0.095059</td>\n",
       "      <td>0.044759</td>\n",
       "      <td>-0.478318</td>\n",
       "      <td>-0.771313</td>\n",
       "      <td>-0.834408</td>\n",
       "      <td>-1.462305</td>\n",
       "      <td>0.990351</td>\n",
       "      <td>-1.023621</td>\n",
       "      <td>-0.753024</td>\n",
       "      <td>-0.196725</td>\n",
       "      <td>0.833856</td>\n",
       "    </tr>\n",
       "    <tr>\n",
       "      <th>410897</th>\n",
       "      <td>-0.040087</td>\n",
       "      <td>0.044759</td>\n",
       "      <td>1.493646</td>\n",
       "      <td>-0.771313</td>\n",
       "      <td>0.662696</td>\n",
       "      <td>-0.029816</td>\n",
       "      <td>-0.541383</td>\n",
       "      <td>-1.023621</td>\n",
       "      <td>-0.753024</td>\n",
       "      <td>-0.196725</td>\n",
       "      <td>-1.199248</td>\n",
       "    </tr>\n",
       "    <tr>\n",
       "      <th>275191</th>\n",
       "      <td>-1.323972</td>\n",
       "      <td>0.044759</td>\n",
       "      <td>-0.863445</td>\n",
       "      <td>-0.771313</td>\n",
       "      <td>-0.375645</td>\n",
       "      <td>-1.205988</td>\n",
       "      <td>-0.421716</td>\n",
       "      <td>0.976924</td>\n",
       "      <td>1.327978</td>\n",
       "      <td>-0.196725</td>\n",
       "      <td>0.833856</td>\n",
       "    </tr>\n",
       "    <tr>\n",
       "      <th>413420</th>\n",
       "      <td>0.297777</td>\n",
       "      <td>0.044759</td>\n",
       "      <td>-0.761255</td>\n",
       "      <td>-0.771313</td>\n",
       "      <td>0.097886</td>\n",
       "      <td>0.825131</td>\n",
       "      <td>-0.421716</td>\n",
       "      <td>-1.023621</td>\n",
       "      <td>-0.753024</td>\n",
       "      <td>-0.196725</td>\n",
       "      <td>0.833856</td>\n",
       "    </tr>\n",
       "  </tbody>\n",
       "</table>\n",
       "</div>"
      ],
      "text/plain": [
       "             Age  Driving_License  Region_Code  Previously_Insured  \\\n",
       "279276 -0.986107         0.044759    -0.753523            1.296490   \n",
       "334086  0.095059         0.044759    -0.478318           -0.771313   \n",
       "410897 -0.040087         0.044759     1.493646           -0.771313   \n",
       "275191 -1.323972         0.044759    -0.863445           -0.771313   \n",
       "413420  0.297777         0.044759    -0.761255           -0.771313   \n",
       "\n",
       "        Annual_Premium  Policy_Sales_Channel   Vintage  Gender_Male  \\\n",
       "279276       -0.383613              1.238526 -0.158450    -1.023621   \n",
       "334086       -0.834408             -1.462305  0.990351    -1.023621   \n",
       "410897        0.662696             -0.029816 -0.541383    -1.023621   \n",
       "275191       -0.375645             -1.205988 -0.421716     0.976924   \n",
       "413420        0.097886              0.825131 -0.421716    -1.023621   \n",
       "\n",
       "        Vehicle_Age_< 1 Year  Vehicle_Age_> 2 Years  Vehicle_Damage_Yes  \n",
       "279276              1.327978              -0.196725           -1.199248  \n",
       "334086             -0.753024              -0.196725            0.833856  \n",
       "410897             -0.753024              -0.196725           -1.199248  \n",
       "275191              1.327978              -0.196725            0.833856  \n",
       "413420             -0.753024              -0.196725            0.833856  "
      ]
     },
     "execution_count": 60,
     "metadata": {},
     "output_type": "execute_result"
    }
   ],
   "source": [
    "X_train.head()"
   ]
  },
  {
   "cell_type": "code",
   "execution_count": 61,
   "metadata": {
    "execution": {
     "iopub.execute_input": "2021-08-11T14:01:33.827778Z",
     "iopub.status.busy": "2021-08-11T14:01:33.827320Z",
     "iopub.status.idle": "2021-08-11T14:01:33.833566Z",
     "shell.execute_reply": "2021-08-11T14:01:33.832400Z",
     "shell.execute_reply.started": "2021-08-11T14:01:33.827746Z"
    }
   },
   "outputs": [],
   "source": [
    "#some features names have symbols for which XGB will throw error,hence removing such symbols from feature names\n",
    "import re\n",
    "\n",
    "regex = re.compile(r\"\\[|\\]|<\", re.IGNORECASE)\n",
    "\n",
    "X_train.columns = [regex.sub(\"_\", col) if any(x in str(col) for x in set(('[', ']', '<'))) else col for col in X_train.columns.values]"
   ]
  },
  {
   "cell_type": "code",
   "execution_count": 62,
   "metadata": {
    "execution": {
     "iopub.execute_input": "2021-08-11T14:01:33.835255Z",
     "iopub.status.busy": "2021-08-11T14:01:33.834960Z",
     "iopub.status.idle": "2021-08-11T14:01:46.550684Z",
     "shell.execute_reply": "2021-08-11T14:01:46.549830Z",
     "shell.execute_reply.started": "2021-08-11T14:01:33.835228Z"
    }
   },
   "outputs": [
    {
     "name": "stdout",
     "output_type": "stream",
     "text": [
      "[14:01:34] WARNING: ../src/learner.cc:1095: Starting in XGBoost 1.3.0, the default evaluation metric used with the objective 'binary:logistic' was changed from 'error' to 'logloss'. Explicitly set eval_metric if you'd like to restore the old behavior.\n"
     ]
    }
   ],
   "source": [
    "xgb_model=xgb.fit(X_train,y_train)"
   ]
  },
  {
   "cell_type": "code",
   "execution_count": 63,
   "metadata": {
    "execution": {
     "iopub.execute_input": "2021-08-11T14:01:46.552349Z",
     "iopub.status.busy": "2021-08-11T14:01:46.551896Z",
     "iopub.status.idle": "2021-08-11T14:01:46.881478Z",
     "shell.execute_reply": "2021-08-11T14:01:46.880340Z",
     "shell.execute_reply.started": "2021-08-11T14:01:46.552318Z"
    }
   },
   "outputs": [
    {
     "name": "stdout",
     "output_type": "stream",
     "text": [
      "Training Score: 0.8821797546405405\n"
     ]
    }
   ],
   "source": [
    "print('Training Score:',xgb_model.score(X_train,y_train))"
   ]
  },
  {
   "cell_type": "code",
   "execution_count": 64,
   "metadata": {
    "execution": {
     "iopub.execute_input": "2021-08-11T14:01:46.885850Z",
     "iopub.status.busy": "2021-08-11T14:01:46.885251Z",
     "iopub.status.idle": "2021-08-11T14:01:47.111113Z",
     "shell.execute_reply": "2021-08-11T14:01:47.109976Z",
     "shell.execute_reply.started": "2021-08-11T14:01:46.885809Z"
    }
   },
   "outputs": [
    {
     "name": "stdout",
     "output_type": "stream",
     "text": [
      "Testing Score: 0.8776753673957621\n"
     ]
    }
   ],
   "source": [
    "print('Testing Score:',xgb_model.score(X_test,y_test))"
   ]
  },
  {
   "cell_type": "code",
   "execution_count": 65,
   "metadata": {
    "execution": {
     "iopub.execute_input": "2021-08-11T14:01:47.113171Z",
     "iopub.status.busy": "2021-08-11T14:01:47.112830Z",
     "iopub.status.idle": "2021-08-11T14:03:44.464215Z",
     "shell.execute_reply": "2021-08-11T14:03:44.463290Z",
     "shell.execute_reply.started": "2021-08-11T14:01:47.113139Z"
    }
   },
   "outputs": [
    {
     "name": "stdout",
     "output_type": "stream",
     "text": [
      "[14:01:47] WARNING: ../src/learner.cc:1095: Starting in XGBoost 1.3.0, the default evaluation metric used with the objective 'binary:logistic' was changed from 'error' to 'logloss'. Explicitly set eval_metric if you'd like to restore the old behavior.\n",
      "[14:01:58] WARNING: ../src/learner.cc:1095: Starting in XGBoost 1.3.0, the default evaluation metric used with the objective 'binary:logistic' was changed from 'error' to 'logloss'. Explicitly set eval_metric if you'd like to restore the old behavior.\n",
      "[14:02:11] WARNING: ../src/learner.cc:1095: Starting in XGBoost 1.3.0, the default evaluation metric used with the objective 'binary:logistic' was changed from 'error' to 'logloss'. Explicitly set eval_metric if you'd like to restore the old behavior.\n",
      "[14:02:22] WARNING: ../src/learner.cc:1095: Starting in XGBoost 1.3.0, the default evaluation metric used with the objective 'binary:logistic' was changed from 'error' to 'logloss'. Explicitly set eval_metric if you'd like to restore the old behavior.\n",
      "[14:02:34] WARNING: ../src/learner.cc:1095: Starting in XGBoost 1.3.0, the default evaluation metric used with the objective 'binary:logistic' was changed from 'error' to 'logloss'. Explicitly set eval_metric if you'd like to restore the old behavior.\n",
      "[14:02:45] WARNING: ../src/learner.cc:1095: Starting in XGBoost 1.3.0, the default evaluation metric used with the objective 'binary:logistic' was changed from 'error' to 'logloss'. Explicitly set eval_metric if you'd like to restore the old behavior.\n",
      "[14:02:58] WARNING: ../src/learner.cc:1095: Starting in XGBoost 1.3.0, the default evaluation metric used with the objective 'binary:logistic' was changed from 'error' to 'logloss'. Explicitly set eval_metric if you'd like to restore the old behavior.\n",
      "[14:03:09] WARNING: ../src/learner.cc:1095: Starting in XGBoost 1.3.0, the default evaluation metric used with the objective 'binary:logistic' was changed from 'error' to 'logloss'. Explicitly set eval_metric if you'd like to restore the old behavior.\n",
      "[14:03:20] WARNING: ../src/learner.cc:1095: Starting in XGBoost 1.3.0, the default evaluation metric used with the objective 'binary:logistic' was changed from 'error' to 'logloss'. Explicitly set eval_metric if you'd like to restore the old behavior.\n",
      "[14:03:33] WARNING: ../src/learner.cc:1095: Starting in XGBoost 1.3.0, the default evaluation metric used with the objective 'binary:logistic' was changed from 'error' to 'logloss'. Explicitly set eval_metric if you'd like to restore the old behavior.\n",
      "Bias error: 0.1286613124274536\n",
      "Variance error: 0.002923122755900029\n"
     ]
    }
   ],
   "source": [
    "k=KFold(n_splits=10)\n",
    "score=cross_val_score(xgb,X_train,y_train,scoring='f1_weighted',cv=k)\n",
    "print('Bias error:',1-np.mean(score))\n",
    "print('Variance error:', np.std(score)/np.mean(score))"
   ]
  },
  {
   "cell_type": "markdown",
   "metadata": {},
   "source": [
    "**The XGBoost model seem to reduces the bias and variance error significantly**"
   ]
  },
  {
   "cell_type": "code",
   "execution_count": 66,
   "metadata": {
    "execution": {
     "iopub.execute_input": "2021-08-11T14:03:44.465889Z",
     "iopub.status.busy": "2021-08-11T14:03:44.465581Z",
     "iopub.status.idle": "2021-08-11T14:03:44.858777Z",
     "shell.execute_reply": "2021-08-11T14:03:44.857707Z",
     "shell.execute_reply.started": "2021-08-11T14:03:44.465860Z"
    }
   },
   "outputs": [],
   "source": [
    "xgb_pred=xgb_model.predict(X_test)\n",
    "xgb_prob=xgb_model.predict_proba(X_test)"
   ]
  },
  {
   "cell_type": "code",
   "execution_count": 67,
   "metadata": {
    "execution": {
     "iopub.execute_input": "2021-08-11T14:03:44.860905Z",
     "iopub.status.busy": "2021-08-11T14:03:44.860533Z",
     "iopub.status.idle": "2021-08-11T14:03:44.913109Z",
     "shell.execute_reply": "2021-08-11T14:03:44.911989Z",
     "shell.execute_reply.started": "2021-08-11T14:03:44.860872Z"
    }
   },
   "outputs": [],
   "source": [
    "xgb_fpr,xgb_tpr,threshold=roc_curve(y_test,xgb_prob[:,1])"
   ]
  },
  {
   "cell_type": "code",
   "execution_count": 68,
   "metadata": {
    "execution": {
     "iopub.execute_input": "2021-08-11T14:03:44.914633Z",
     "iopub.status.busy": "2021-08-11T14:03:44.914320Z",
     "iopub.status.idle": "2021-08-11T14:03:45.061131Z",
     "shell.execute_reply": "2021-08-11T14:03:45.059892Z",
     "shell.execute_reply.started": "2021-08-11T14:03:44.914602Z"
    }
   },
   "outputs": [
    {
     "data": {
      "image/png": "[encoded data removed]",
      "text/plain": [
       "<Figure size 432x288 with 1 Axes>"
      ]
     },
     "metadata": {
      "needs_background": "light"
     },
     "output_type": "display_data"
    }
   ],
   "source": [
    "plt.plot(xgb_fpr,xgb_tpr)\n",
    "plt.title('ROC plot for XGBoost')\n",
    "plt.show()"
   ]
  },
  {
   "cell_type": "code",
   "execution_count": 82,
   "metadata": {
    "execution": {
     "iopub.execute_input": "2021-08-11T14:11:18.844433Z",
     "iopub.status.busy": "2021-08-11T14:11:18.843953Z",
     "iopub.status.idle": "2021-08-11T14:11:18.998689Z",
     "shell.execute_reply": "2021-08-11T14:11:18.997902Z",
     "shell.execute_reply.started": "2021-08-11T14:11:18.844400Z"
    }
   },
   "outputs": [
    {
     "data": {
      "image/png": "[encoded data removed]",
      "text/plain": [
       "<Figure size 432x288 with 1 Axes>"
      ]
     },
     "metadata": {
      "needs_background": "light"
     },
     "output_type": "display_data"
    }
   ],
   "source": [
    "plt.plot(xgb_fpr,xgb_tpr,'b')\n",
    "plt.plot(lr_fpr,lr_tpr,'r')\n",
    "plt.title('Comparing ROC plot of XGBoost with LogisticRegression')\n",
    "plt.show()"
   ]
  },
  {
   "cell_type": "markdown",
   "metadata": {},
   "source": [
    "*Looking at the above plot,it is clear that the XGBoost model was able to cover more area under the curve than Logistic Regression.*"
   ]
  },
  {
   "cell_type": "code",
   "execution_count": 70,
   "metadata": {
    "execution": {
     "iopub.execute_input": "2021-08-11T14:03:45.223032Z",
     "iopub.status.busy": "2021-08-11T14:03:45.222673Z",
     "iopub.status.idle": "2021-08-11T14:03:45.300775Z",
     "shell.execute_reply": "2021-08-11T14:03:45.299654Z",
     "shell.execute_reply.started": "2021-08-11T14:03:45.222999Z"
    }
   },
   "outputs": [
    {
     "name": "stdout",
     "output_type": "stream",
     "text": [
      "AUC Score: 0.9426601627977149\n"
     ]
    }
   ],
   "source": [
    "print('AUC Score:',roc_auc_score(y_test,xgb_prob[:,1]))"
   ]
  },
  {
   "cell_type": "code",
   "execution_count": 71,
   "metadata": {
    "execution": {
     "iopub.execute_input": "2021-08-11T14:03:45.302336Z",
     "iopub.status.busy": "2021-08-11T14:03:45.302033Z",
     "iopub.status.idle": "2021-08-11T14:03:45.679995Z",
     "shell.execute_reply": "2021-08-11T14:03:45.678611Z",
     "shell.execute_reply.started": "2021-08-11T14:03:45.302305Z"
    }
   },
   "outputs": [
    {
     "name": "stdout",
     "output_type": "stream",
     "text": [
      "              precision    recall  f1-score   support\n",
      "\n",
      "           0       0.87      0.97      0.92    133760\n",
      "           1       0.89      0.65      0.75     53504\n",
      "\n",
      "    accuracy                           0.88    187264\n",
      "   macro avg       0.88      0.81      0.84    187264\n",
      "weighted avg       0.88      0.88      0.87    187264\n",
      "\n"
     ]
    }
   ],
   "source": [
    "print(classification_report(y_test,xgb_pred))"
   ]
  },
  {
   "cell_type": "markdown",
   "metadata": {},
   "source": [
    "*The XGBoost model has significantly increased the model accuracy with 87% accuracy(f1-weighted).*"
   ]
  },
  {
   "cell_type": "code",
   "execution_count": 72,
   "metadata": {
    "execution": {
     "iopub.execute_input": "2021-08-11T14:03:45.683852Z",
     "iopub.status.busy": "2021-08-11T14:03:45.683509Z",
     "iopub.status.idle": "2021-08-11T14:03:46.140705Z",
     "shell.execute_reply": "2021-08-11T14:03:46.139711Z",
     "shell.execute_reply.started": "2021-08-11T14:03:45.683816Z"
    }
   },
   "outputs": [
    {
     "data": {
      "image/png": "[encoded data removed]",
      "text/plain": [
       "<Figure size 432x288 with 2 Axes>"
      ]
     },
     "metadata": {
      "needs_background": "light"
     },
     "output_type": "display_data"
    }
   ],
   "source": [
    "xgb_cfm=confusion_matrix(y_test,xgb_pred)\n",
    "sns.heatmap(xgb_cfm,annot=True,fmt='d')\n",
    "plt.show()"
   ]
  },
  {
   "cell_type": "markdown",
   "metadata": {},
   "source": [
    "## Stacking Classifier"
   ]
  },
  {
   "cell_type": "code",
   "execution_count": 73,
   "metadata": {
    "execution": {
     "iopub.execute_input": "2021-08-11T14:03:46.142410Z",
     "iopub.status.busy": "2021-08-11T14:03:46.142092Z",
     "iopub.status.idle": "2021-08-11T14:03:46.148659Z",
     "shell.execute_reply": "2021-08-11T14:03:46.147576Z",
     "shell.execute_reply.started": "2021-08-11T14:03:46.142377Z"
    }
   },
   "outputs": [],
   "source": [
    "#initializing stacking classifier with 'XGBooost' as final estimator\n",
    "rf_v=RandomForestClassifier(n_estimators=100,max_depth=12)\n",
    "gb=GradientBoostingClassifier(n_estimators=50,max_depth=13)\n",
    "models =[('RandomForest',rf_v),('GB',gb)]\n",
    "stack = StackingClassifier(estimators=models,final_estimator=xgb,cv=3)"
   ]
  },
  {
   "cell_type": "code",
   "execution_count": 74,
   "metadata": {
    "execution": {
     "iopub.execute_input": "2021-08-11T14:03:46.150588Z",
     "iopub.status.busy": "2021-08-11T14:03:46.150196Z",
     "iopub.status.idle": "2021-08-11T14:11:02.818232Z",
     "shell.execute_reply": "2021-08-11T14:11:02.816979Z",
     "shell.execute_reply.started": "2021-08-11T14:03:46.150554Z"
    }
   },
   "outputs": [
    {
     "name": "stdout",
     "output_type": "stream",
     "text": [
      "[14:10:50] WARNING: ../src/learner.cc:1095: Starting in XGBoost 1.3.0, the default evaluation metric used with the objective 'binary:logistic' was changed from 'error' to 'logloss'. Explicitly set eval_metric if you'd like to restore the old behavior.\n"
     ]
    }
   ],
   "source": [
    "stack_model=stack.fit(X_train,y_train)"
   ]
  },
  {
   "cell_type": "code",
   "execution_count": 75,
   "metadata": {
    "execution": {
     "iopub.execute_input": "2021-08-11T14:11:02.820448Z",
     "iopub.status.busy": "2021-08-11T14:11:02.819988Z",
     "iopub.status.idle": "2021-08-11T14:11:07.948570Z",
     "shell.execute_reply": "2021-08-11T14:11:07.947526Z",
     "shell.execute_reply.started": "2021-08-11T14:11:02.820402Z"
    }
   },
   "outputs": [
    {
     "name": "stdout",
     "output_type": "stream",
     "text": [
      "Train Score: 0.8970572529139106\n"
     ]
    }
   ],
   "source": [
    "print('Train Score:',stack_model.score(X_train,y_train))"
   ]
  },
  {
   "cell_type": "code",
   "execution_count": 76,
   "metadata": {
    "execution": {
     "iopub.execute_input": "2021-08-11T14:11:07.950199Z",
     "iopub.status.busy": "2021-08-11T14:11:07.949894Z",
     "iopub.status.idle": "2021-08-11T14:11:11.370596Z",
     "shell.execute_reply": "2021-08-11T14:11:11.369495Z",
     "shell.execute_reply.started": "2021-08-11T14:11:07.950169Z"
    }
   },
   "outputs": [
    {
     "name": "stdout",
     "output_type": "stream",
     "text": [
      "Test Score: 0.8750801008202324\n"
     ]
    }
   ],
   "source": [
    "print('Test Score:',stack_model.score(X_test,y_test))"
   ]
  },
  {
   "cell_type": "markdown",
   "metadata": {},
   "source": [
    "* The test accuracy is slightly lesser than training accuracy,i.e our model is slightly overfitting.\n",
    "* Again we can use GridSearchCV to find best parameters to improve the model performance(requires high computational power)."
   ]
  },
  {
   "cell_type": "code",
   "execution_count": 77,
   "metadata": {
    "execution": {
     "iopub.execute_input": "2021-08-11T14:11:11.372190Z",
     "iopub.status.busy": "2021-08-11T14:11:11.371867Z",
     "iopub.status.idle": "2021-08-11T14:11:18.205896Z",
     "shell.execute_reply": "2021-08-11T14:11:18.204982Z",
     "shell.execute_reply.started": "2021-08-11T14:11:11.372148Z"
    }
   },
   "outputs": [],
   "source": [
    "stack_pred=stack_model.predict(X_test)\n",
    "stack_prob=stack_model.predict_proba(X_test)"
   ]
  },
  {
   "cell_type": "code",
   "execution_count": 78,
   "metadata": {
    "execution": {
     "iopub.execute_input": "2021-08-11T14:11:18.207658Z",
     "iopub.status.busy": "2021-08-11T14:11:18.207151Z",
     "iopub.status.idle": "2021-08-11T14:11:18.580233Z",
     "shell.execute_reply": "2021-08-11T14:11:18.579153Z",
     "shell.execute_reply.started": "2021-08-11T14:11:18.207614Z"
    }
   },
   "outputs": [
    {
     "name": "stdout",
     "output_type": "stream",
     "text": [
      "              precision    recall  f1-score   support\n",
      "\n",
      "           0       0.87      0.97      0.92    133760\n",
      "           1       0.90      0.63      0.74     53504\n",
      "\n",
      "    accuracy                           0.88    187264\n",
      "   macro avg       0.88      0.80      0.83    187264\n",
      "weighted avg       0.88      0.88      0.87    187264\n",
      "\n"
     ]
    }
   ],
   "source": [
    "print(classification_report(y_test,stack_pred))"
   ]
  },
  {
   "cell_type": "code",
   "execution_count": 79,
   "metadata": {
    "execution": {
     "iopub.execute_input": "2021-08-11T14:11:18.583960Z",
     "iopub.status.busy": "2021-08-11T14:11:18.583626Z",
     "iopub.status.idle": "2021-08-11T14:11:18.625149Z",
     "shell.execute_reply": "2021-08-11T14:11:18.624032Z",
     "shell.execute_reply.started": "2021-08-11T14:11:18.583927Z"
    }
   },
   "outputs": [],
   "source": [
    "stk_fpr,stk_tpr,stk_th=roc_curve(y_test,stack_prob[:,1])"
   ]
  },
  {
   "cell_type": "code",
   "execution_count": 80,
   "metadata": {
    "execution": {
     "iopub.execute_input": "2021-08-11T14:11:18.626900Z",
     "iopub.status.busy": "2021-08-11T14:11:18.626574Z",
     "iopub.status.idle": "2021-08-11T14:11:18.771096Z",
     "shell.execute_reply": "2021-08-11T14:11:18.770251Z",
     "shell.execute_reply.started": "2021-08-11T14:11:18.626869Z"
    }
   },
   "outputs": [
    {
     "data": {
      "image/png": "[encoded data removed]",
      "text/plain": [
       "<Figure size 432x288 with 1 Axes>"
      ]
     },
     "metadata": {
      "needs_background": "light"
     },
     "output_type": "display_data"
    }
   ],
   "source": [
    "plt.plot(stk_fpr,stk_tpr)\n",
    "plt.plot(xgb_fpr,xgb_tpr,'r')\n",
    "plt.show()"
   ]
  },
  {
   "cell_type": "code",
   "execution_count": 81,
   "metadata": {
    "execution": {
     "iopub.execute_input": "2021-08-11T14:11:18.772851Z",
     "iopub.status.busy": "2021-08-11T14:11:18.772343Z",
     "iopub.status.idle": "2021-08-11T14:11:18.842688Z",
     "shell.execute_reply": "2021-08-11T14:11:18.841866Z",
     "shell.execute_reply.started": "2021-08-11T14:11:18.772817Z"
    }
   },
   "outputs": [
    {
     "name": "stdout",
     "output_type": "stream",
     "text": [
      "Auc score for stacking classifier: 0.940638555977928\n"
     ]
    }
   ],
   "source": [
    "print('Auc score for stacking classifier:',roc_auc_score(y_test,stack_prob[:,1]))"
   ]
  },
  {
   "cell_type": "markdown",
   "metadata": {},
   "source": [
    " *the stacking and xgboost model have almost similar area under the curve.*"
   ]
  },
  {
   "cell_type": "markdown",
   "metadata": {},
   "source": [
    "## Conclusion\n",
    "* Thus the XGBoost Model has the best 'AUC-score' than all the other models.\n",
    "* The stacking model also has accuracy similar to XGBoost.\n",
    "* We can also find the best parameters for each models to gain further accuracy by performing Hyper-parameter tuning."
   ]
  },
  {
   "cell_type": "code",
   "execution_count": null,
   "metadata": {},
   "outputs": [],
   "source": []
  }
 ],
 "metadata": {
  "kernelspec": {
   "display_name": "Python 3",
   "language": "python",
   "name": "python3"
  },
  "language_info": {
   "codemirror_mode": {
    "name": "ipython",
    "version": 3
   },
   "file_extension": ".py",
   "mimetype": "text/x-python",
   "name": "python",
   "nbconvert_exporter": "python",
   "pygments_lexer": "ipython3",
   "version": "3.8.8"
  }
 },
 "nbformat": 4,
 "nbformat_minor": 4
}
